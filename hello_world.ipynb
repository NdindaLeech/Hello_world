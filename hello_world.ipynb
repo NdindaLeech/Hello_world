Hello, world!
Welcome to my first website! I am about to embark on the 
exciting journey of learning how to code. Won't you
join me?
Hi Faith! this is me saying, I got your repo.
I think we should also include README files 
to practice and perfect that bit 