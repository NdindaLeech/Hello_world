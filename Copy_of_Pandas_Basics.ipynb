{
  "nbformat": 4,
  "nbformat_minor": 0,
  "metadata": {
    "colab": {
      "name": "Copy of Pandas Basics",
      "provenance": [],
      "collapsed_sections": [],
      "toc_visible": true,
      "include_colab_link": true
    },
    "kernelspec": {
      "name": "python3",
      "display_name": "Python 3"
    }
  },
  "cells": [
    {
      "cell_type": "markdown",
      "metadata": {
        "id": "view-in-github",
        "colab_type": "text"
      },
      "source": [
        "<a href=\"https://colab.research.google.com/github/ephantusGachomba/Hello_world/blob/master/Copy_of_Pandas_Basics.ipynb\" target=\"_parent\"><img src=\"https://colab.research.google.com/assets/colab-badge.svg\" alt=\"Open In Colab\"/></a>"
      ]
    },
    {
      "cell_type": "markdown",
      "metadata": {
        "id": "W-53UhRAZyXH"
      },
      "source": [
        "<font color=\"green\">*To start working on this notebook, or any other notebook that we will use in the Moringa Data Science Course, we will need to save our own copy of it. We can do this by clicking File > Save a Copy in Drive. We will then be able to make edits to our own copy of this notebook.*</font>"
      ]
    },
    {
      "cell_type": "markdown",
      "metadata": {
        "id": "3R0yiLUspE2N"
      },
      "source": [
        "# Pandas Basics"
      ]
    },
    {
      "cell_type": "markdown",
      "metadata": {
        "id": "6iyeqDIjpHtR"
      },
      "source": [
        "## 1.0 Importing Pandas Library"
      ]
    },
    {
      "cell_type": "code",
      "metadata": {
        "id": "9AqzdpMxpG7O"
      },
      "source": [
        "# Let's import the pandas library just like we did with Numpy\n",
        "# \n",
        "import pandas as pd"
      ],
      "execution_count": null,
      "outputs": []
    },
    {
      "cell_type": "markdown",
      "metadata": {
        "id": "sEswzBaTpTM9"
      },
      "source": [
        "## 1.1 Performing Basic Operations"
      ]
    },
    {
      "cell_type": "code",
      "metadata": {
        "id": "l0XpP3jnhsiH",
        "colab": {
          "base_uri": "https://localhost:8080/",
          "height": 111
        },
        "outputId": "1172f316-122b-4340-cc68-818b608aa28f"
      },
      "source": [
        "# Example 1\n",
        "# Pandas is built on the NUmpy package.\n",
        "# It's main data structure is called DataFrame. Dataframes allows us to store and manipulate data in row and column observations\n",
        "\n",
        "\n",
        "# In this section, we will cover some of the basic operations \n",
        "# that we perform while using pandas.\n",
        "# The first thing we will do is to create a Dataframe from a dictionary as shown below;\n",
        "# Think of a Dataframe as a table. By definition, a DataFrame is a 2-dimensional labeled data structure \n",
        "# with columns of potentially different types.\n",
        "# \n",
        "data = [{'name': 'vikash', 'age': 27}, {'name': 'Satyam', 'age': 14}]\n",
        "df = pd.DataFrame.from_dict(data, orient='columns')\n",
        "df\n",
        "\n",
        "# Something to note in the results is that everytime you create a dataframe it will automatically assign indexes to the row. "
      ],
      "execution_count": null,
      "outputs": [
        {
          "output_type": "execute_result",
          "data": {
            "text/html": [
              "<div>\n",
              "<style scoped>\n",
              "    .dataframe tbody tr th:only-of-type {\n",
              "        vertical-align: middle;\n",
              "    }\n",
              "\n",
              "    .dataframe tbody tr th {\n",
              "        vertical-align: top;\n",
              "    }\n",
              "\n",
              "    .dataframe thead th {\n",
              "        text-align: right;\n",
              "    }\n",
              "</style>\n",
              "<table border=\"1\" class=\"dataframe\">\n",
              "  <thead>\n",
              "    <tr style=\"text-align: right;\">\n",
              "      <th></th>\n",
              "      <th>name</th>\n",
              "      <th>age</th>\n",
              "    </tr>\n",
              "  </thead>\n",
              "  <tbody>\n",
              "    <tr>\n",
              "      <th>0</th>\n",
              "      <td>vikash</td>\n",
              "      <td>27</td>\n",
              "    </tr>\n",
              "    <tr>\n",
              "      <th>1</th>\n",
              "      <td>Satyam</td>\n",
              "      <td>14</td>\n",
              "    </tr>\n",
              "  </tbody>\n",
              "</table>\n",
              "</div>"
            ],
            "text/plain": [
              "     name  age\n",
              "0  vikash   27\n",
              "1  Satyam   14"
            ]
          },
          "metadata": {
            "tags": []
          },
          "execution_count": 2
        }
      ]
    },
    {
      "cell_type": "code",
      "metadata": {
        "id": "jzzwtEI6vUTy",
        "colab": {
          "base_uri": "https://localhost:8080/",
          "height": 266
        },
        "outputId": "4309ddf1-4c4c-4058-dfcf-c69422ae20b3"
      },
      "source": [
        "# Example 2\n",
        "# We can also create a Dataframe by inserting rows iteratively\n",
        "# \n",
        "\n",
        "# For this example, we will use the randint() function \n",
        "# thus we will need to import it\n",
        "from random import randint\n",
        "\n",
        "# We will also need to declare the columns that we will need \n",
        "columns = ['a', 'b', 'c']\n",
        "\n",
        "# Then creating our dataframe\n",
        "df = pd.DataFrame(columns=columns)\n",
        "\n",
        "# lastly append random values to the dataframe iteratively using a for loop.\n",
        "# We are going to use two for loops. the first one will be for the number of rows and the second one will be for the number of columns.\n",
        "# In the outer loop, we will create a range of number from 0-5, then iterate through it. This means that we will have 6 rows\n",
        "# We'll explain the logic of this code from the inside out. \n",
        "# So inside the inner loop, we  aim to populate our dataframe with random integers that are between -1 and 1.\n",
        "# Hence everytime we generate out random number, we use pandas dataframe method called loc[] to insert the random number in either of the three columns\n",
        "# The .loc method works in the same way slicing works in python list. This means that it can be used to access elements inside a dataframe. As such, we can also use it to update elements in a dataframe.\n",
        "# When we created the  empty dataframe earlier, it meant that the elements were null. So in our code we are simply updating the null elements with values.\n",
        "# The logic for this code can be alittle bit confusing at first, so spend a little bit of time with your pair trying understand how the code works as it will help you alot in the future.\n",
        "for i in range(7): #6 rows\n",
        "    for c in columns:\n",
        "      df.loc[i,c] = randint(-1,1)\n",
        "  \n",
        "# and printing out the dataframe\n",
        "df\n"
      ],
      "execution_count": null,
      "outputs": [
        {
          "output_type": "execute_result",
          "data": {
            "text/html": [
              "<div>\n",
              "<style scoped>\n",
              "    .dataframe tbody tr th:only-of-type {\n",
              "        vertical-align: middle;\n",
              "    }\n",
              "\n",
              "    .dataframe tbody tr th {\n",
              "        vertical-align: top;\n",
              "    }\n",
              "\n",
              "    .dataframe thead th {\n",
              "        text-align: right;\n",
              "    }\n",
              "</style>\n",
              "<table border=\"1\" class=\"dataframe\">\n",
              "  <thead>\n",
              "    <tr style=\"text-align: right;\">\n",
              "      <th></th>\n",
              "      <th>a</th>\n",
              "      <th>b</th>\n",
              "      <th>c</th>\n",
              "    </tr>\n",
              "  </thead>\n",
              "  <tbody>\n",
              "    <tr>\n",
              "      <th>0</th>\n",
              "      <td>-1</td>\n",
              "      <td>-1</td>\n",
              "      <td>1</td>\n",
              "    </tr>\n",
              "    <tr>\n",
              "      <th>1</th>\n",
              "      <td>1</td>\n",
              "      <td>0</td>\n",
              "      <td>-1</td>\n",
              "    </tr>\n",
              "    <tr>\n",
              "      <th>2</th>\n",
              "      <td>-1</td>\n",
              "      <td>-1</td>\n",
              "      <td>1</td>\n",
              "    </tr>\n",
              "    <tr>\n",
              "      <th>3</th>\n",
              "      <td>-1</td>\n",
              "      <td>0</td>\n",
              "      <td>-1</td>\n",
              "    </tr>\n",
              "    <tr>\n",
              "      <th>4</th>\n",
              "      <td>1</td>\n",
              "      <td>-1</td>\n",
              "      <td>0</td>\n",
              "    </tr>\n",
              "    <tr>\n",
              "      <th>5</th>\n",
              "      <td>0</td>\n",
              "      <td>1</td>\n",
              "      <td>-1</td>\n",
              "    </tr>\n",
              "    <tr>\n",
              "      <th>6</th>\n",
              "      <td>-1</td>\n",
              "      <td>-1</td>\n",
              "      <td>1</td>\n",
              "    </tr>\n",
              "  </tbody>\n",
              "</table>\n",
              "</div>"
            ],
            "text/plain": [
              "    a   b   c\n",
              "0  -1  -1   1\n",
              "1   1   0  -1\n",
              "2  -1  -1   1\n",
              "3  -1   0  -1\n",
              "4   1  -1   0\n",
              "5   0   1  -1\n",
              "6  -1  -1   1"
            ]
          },
          "metadata": {
            "tags": []
          },
          "execution_count": 4
        }
      ]
    },
    {
      "cell_type": "code",
      "metadata": {
        "id": "tLCi0J4fvULQ",
        "colab": {
          "base_uri": "https://localhost:8080/"
        },
        "outputId": "a433b6be-5f14-42cd-b96f-b7a7b538a74f"
      },
      "source": [
        " # Example 3\n",
        "# Creating a Dataframe with randomly generated data\n",
        "# \n",
        "\n",
        "# We will import and use numpy in this example\n",
        "import numpy as np\n",
        "\n",
        "np_mat = np.random.randint(0,5,size=(5, 4))\n",
        "\n",
        "np_mat\n",
        "\n",
        "# Uncomment the following lines after running the previous lines \n",
        "#df = pd.DataFrame(np_mat, columns=list('ABCD'))\n",
        "# df"
      ],
      "execution_count": null,
      "outputs": [
        {
          "output_type": "execute_result",
          "data": {
            "text/plain": [
              "array([[2, 0, 3, 0],\n",
              "       [0, 2, 2, 3],\n",
              "       [3, 3, 3, 4],\n",
              "       [2, 4, 4, 2],\n",
              "       [0, 1, 0, 3]])"
            ]
          },
          "metadata": {
            "tags": []
          },
          "execution_count": 7
        }
      ]
    },
    {
      "cell_type": "code",
      "metadata": {
        "colab": {
          "base_uri": "https://localhost:8080/",
          "height": 204
        },
        "id": "n-rkDjwDNSC1",
        "outputId": "ab59ab6b-6f55-43f9-d5a3-11eb6b5d8d55"
      },
      "source": [
        "df = pd.DataFrame(np_mat, columns=list('ABCD'))\r\n",
        "df"
      ],
      "execution_count": null,
      "outputs": [
        {
          "output_type": "execute_result",
          "data": {
            "text/html": [
              "<div>\n",
              "<style scoped>\n",
              "    .dataframe tbody tr th:only-of-type {\n",
              "        vertical-align: middle;\n",
              "    }\n",
              "\n",
              "    .dataframe tbody tr th {\n",
              "        vertical-align: top;\n",
              "    }\n",
              "\n",
              "    .dataframe thead th {\n",
              "        text-align: right;\n",
              "    }\n",
              "</style>\n",
              "<table border=\"1\" class=\"dataframe\">\n",
              "  <thead>\n",
              "    <tr style=\"text-align: right;\">\n",
              "      <th></th>\n",
              "      <th>A</th>\n",
              "      <th>B</th>\n",
              "      <th>C</th>\n",
              "      <th>D</th>\n",
              "    </tr>\n",
              "  </thead>\n",
              "  <tbody>\n",
              "    <tr>\n",
              "      <th>0</th>\n",
              "      <td>2</td>\n",
              "      <td>0</td>\n",
              "      <td>3</td>\n",
              "      <td>0</td>\n",
              "    </tr>\n",
              "    <tr>\n",
              "      <th>1</th>\n",
              "      <td>0</td>\n",
              "      <td>2</td>\n",
              "      <td>2</td>\n",
              "      <td>3</td>\n",
              "    </tr>\n",
              "    <tr>\n",
              "      <th>2</th>\n",
              "      <td>3</td>\n",
              "      <td>3</td>\n",
              "      <td>3</td>\n",
              "      <td>4</td>\n",
              "    </tr>\n",
              "    <tr>\n",
              "      <th>3</th>\n",
              "      <td>2</td>\n",
              "      <td>4</td>\n",
              "      <td>4</td>\n",
              "      <td>2</td>\n",
              "    </tr>\n",
              "    <tr>\n",
              "      <th>4</th>\n",
              "      <td>0</td>\n",
              "      <td>1</td>\n",
              "      <td>0</td>\n",
              "      <td>3</td>\n",
              "    </tr>\n",
              "  </tbody>\n",
              "</table>\n",
              "</div>"
            ],
            "text/plain": [
              "   A  B  C  D\n",
              "0  2  0  3  0\n",
              "1  0  2  2  3\n",
              "2  3  3  3  4\n",
              "3  2  4  4  2\n",
              "4  0  1  0  3"
            ]
          },
          "metadata": {
            "tags": []
          },
          "execution_count": 8
        }
      ]
    },
    {
      "cell_type": "code",
      "metadata": {
        "id": "fVdNF2UkNZC0"
      },
      "source": [
        ""
      ],
      "execution_count": null,
      "outputs": []
    },
    {
      "cell_type": "code",
      "metadata": {
        "id": "6KxhQ17_vUBV",
        "colab": {
          "base_uri": "https://localhost:8080/",
          "height": 419
        },
        "outputId": "2219993b-a828-4d52-e109-ad47ce8a9d4c"
      },
      "source": [
        "# Example 4\n",
        "# Creating a Dataframe from a csv file \n",
        "# \n",
        "df = pd.read_csv('sample_data/california_housing_test.csv', delimiter = ',')\n",
        "df\n",
        "\n",
        "# Uncomment the following lines after running the previous lines\n",
        "df_url = \"https://raw.githubusercontent.com/cs109/2014_data/master/countries.csv\"\n",
        "df = pd.read_csv(df_url)\n",
        "df"
      ],
      "execution_count": null,
      "outputs": [
        {
          "output_type": "execute_result",
          "data": {
            "text/html": [
              "<div>\n",
              "<style scoped>\n",
              "    .dataframe tbody tr th:only-of-type {\n",
              "        vertical-align: middle;\n",
              "    }\n",
              "\n",
              "    .dataframe tbody tr th {\n",
              "        vertical-align: top;\n",
              "    }\n",
              "\n",
              "    .dataframe thead th {\n",
              "        text-align: right;\n",
              "    }\n",
              "</style>\n",
              "<table border=\"1\" class=\"dataframe\">\n",
              "  <thead>\n",
              "    <tr style=\"text-align: right;\">\n",
              "      <th></th>\n",
              "      <th>Country</th>\n",
              "      <th>Region</th>\n",
              "    </tr>\n",
              "  </thead>\n",
              "  <tbody>\n",
              "    <tr>\n",
              "      <th>0</th>\n",
              "      <td>Algeria</td>\n",
              "      <td>AFRICA</td>\n",
              "    </tr>\n",
              "    <tr>\n",
              "      <th>1</th>\n",
              "      <td>Angola</td>\n",
              "      <td>AFRICA</td>\n",
              "    </tr>\n",
              "    <tr>\n",
              "      <th>2</th>\n",
              "      <td>Benin</td>\n",
              "      <td>AFRICA</td>\n",
              "    </tr>\n",
              "    <tr>\n",
              "      <th>3</th>\n",
              "      <td>Botswana</td>\n",
              "      <td>AFRICA</td>\n",
              "    </tr>\n",
              "    <tr>\n",
              "      <th>4</th>\n",
              "      <td>Burkina</td>\n",
              "      <td>AFRICA</td>\n",
              "    </tr>\n",
              "    <tr>\n",
              "      <th>...</th>\n",
              "      <td>...</td>\n",
              "      <td>...</td>\n",
              "    </tr>\n",
              "    <tr>\n",
              "      <th>189</th>\n",
              "      <td>Paraguay</td>\n",
              "      <td>SOUTH AMERICA</td>\n",
              "    </tr>\n",
              "    <tr>\n",
              "      <th>190</th>\n",
              "      <td>Peru</td>\n",
              "      <td>SOUTH AMERICA</td>\n",
              "    </tr>\n",
              "    <tr>\n",
              "      <th>191</th>\n",
              "      <td>Suriname</td>\n",
              "      <td>SOUTH AMERICA</td>\n",
              "    </tr>\n",
              "    <tr>\n",
              "      <th>192</th>\n",
              "      <td>Uruguay</td>\n",
              "      <td>SOUTH AMERICA</td>\n",
              "    </tr>\n",
              "    <tr>\n",
              "      <th>193</th>\n",
              "      <td>Venezuela</td>\n",
              "      <td>SOUTH AMERICA</td>\n",
              "    </tr>\n",
              "  </tbody>\n",
              "</table>\n",
              "<p>194 rows × 2 columns</p>\n",
              "</div>"
            ],
            "text/plain": [
              "       Country         Region\n",
              "0      Algeria         AFRICA\n",
              "1       Angola         AFRICA\n",
              "2        Benin         AFRICA\n",
              "3     Botswana         AFRICA\n",
              "4      Burkina         AFRICA\n",
              "..         ...            ...\n",
              "189   Paraguay  SOUTH AMERICA\n",
              "190       Peru  SOUTH AMERICA\n",
              "191   Suriname  SOUTH AMERICA\n",
              "192    Uruguay  SOUTH AMERICA\n",
              "193  Venezuela  SOUTH AMERICA\n",
              "\n",
              "[194 rows x 2 columns]"
            ]
          },
          "metadata": {
            "tags": []
          },
          "execution_count": 12
        }
      ]
    },
    {
      "cell_type": "code",
      "metadata": {
        "id": "kbusPTsgvT5s",
        "colab": {
          "base_uri": "https://localhost:8080/",
          "height": 142
        },
        "outputId": "4e1653c4-8987-4ee0-b0e5-490a2114ebaa"
      },
      "source": [
        "# Example 5\n",
        "# Changing Dataframe column names \n",
        "# \n",
        "df_list = [['AA', 1, 'a'],['BB', 2, 'a'],['CC', 3, 'a']]\n",
        "\n",
        "df = pd.DataFrame(df_list, columns = ['name','value','salue'])\n",
        "df\n",
        "\n",
        "# Uncomment the following lines after running this cell once\n",
        "# df.columns.values[1:] = ['prefix_' + val for val in df.columns.values[1:]]\n",
        "# df.columns.values\n",
        "# df"
      ],
      "execution_count": null,
      "outputs": [
        {
          "output_type": "execute_result",
          "data": {
            "text/html": [
              "<div>\n",
              "<style scoped>\n",
              "    .dataframe tbody tr th:only-of-type {\n",
              "        vertical-align: middle;\n",
              "    }\n",
              "\n",
              "    .dataframe tbody tr th {\n",
              "        vertical-align: top;\n",
              "    }\n",
              "\n",
              "    .dataframe thead th {\n",
              "        text-align: right;\n",
              "    }\n",
              "</style>\n",
              "<table border=\"1\" class=\"dataframe\">\n",
              "  <thead>\n",
              "    <tr style=\"text-align: right;\">\n",
              "      <th></th>\n",
              "      <th>name</th>\n",
              "      <th>value</th>\n",
              "      <th>salue</th>\n",
              "    </tr>\n",
              "  </thead>\n",
              "  <tbody>\n",
              "    <tr>\n",
              "      <th>0</th>\n",
              "      <td>AA</td>\n",
              "      <td>1</td>\n",
              "      <td>a</td>\n",
              "    </tr>\n",
              "    <tr>\n",
              "      <th>1</th>\n",
              "      <td>BB</td>\n",
              "      <td>2</td>\n",
              "      <td>a</td>\n",
              "    </tr>\n",
              "    <tr>\n",
              "      <th>2</th>\n",
              "      <td>CC</td>\n",
              "      <td>3</td>\n",
              "      <td>a</td>\n",
              "    </tr>\n",
              "  </tbody>\n",
              "</table>\n",
              "</div>"
            ],
            "text/plain": [
              "  name  value salue\n",
              "0   AA      1     a\n",
              "1   BB      2     a\n",
              "2   CC      3     a"
            ]
          },
          "metadata": {
            "tags": []
          },
          "execution_count": 14
        }
      ]
    },
    {
      "cell_type": "code",
      "metadata": {
        "id": "GsJjoGMVvTsE",
        "colab": {
          "base_uri": "https://localhost:8080/",
          "height": 142
        },
        "outputId": "b0777da3-3914-4ced-c629-6cebf734859a"
      },
      "source": [
        "# Example 6\n",
        "# A simpler way of changing Dataframe column names \n",
        "#\n",
        "df_list = [['AA', \"temp\", 1],['BB', \"temp\", 2],['CC', \"temp\", 3]]\n",
        "df = pd.DataFrame(df_list, columns = ['name','temp', 'value'])\n",
        "df\n",
        "\n",
        "# Uncomment the following line\n",
        "df.columns = ['names', 'temperature', 'values']\n",
        "df"
      ],
      "execution_count": null,
      "outputs": [
        {
          "output_type": "execute_result",
          "data": {
            "text/html": [
              "<div>\n",
              "<style scoped>\n",
              "    .dataframe tbody tr th:only-of-type {\n",
              "        vertical-align: middle;\n",
              "    }\n",
              "\n",
              "    .dataframe tbody tr th {\n",
              "        vertical-align: top;\n",
              "    }\n",
              "\n",
              "    .dataframe thead th {\n",
              "        text-align: right;\n",
              "    }\n",
              "</style>\n",
              "<table border=\"1\" class=\"dataframe\">\n",
              "  <thead>\n",
              "    <tr style=\"text-align: right;\">\n",
              "      <th></th>\n",
              "      <th>names</th>\n",
              "      <th>temperature</th>\n",
              "      <th>values</th>\n",
              "    </tr>\n",
              "  </thead>\n",
              "  <tbody>\n",
              "    <tr>\n",
              "      <th>0</th>\n",
              "      <td>AA</td>\n",
              "      <td>temp</td>\n",
              "      <td>1</td>\n",
              "    </tr>\n",
              "    <tr>\n",
              "      <th>1</th>\n",
              "      <td>BB</td>\n",
              "      <td>temp</td>\n",
              "      <td>2</td>\n",
              "    </tr>\n",
              "    <tr>\n",
              "      <th>2</th>\n",
              "      <td>CC</td>\n",
              "      <td>temp</td>\n",
              "      <td>3</td>\n",
              "    </tr>\n",
              "  </tbody>\n",
              "</table>\n",
              "</div>"
            ],
            "text/plain": [
              "  names temperature  values\n",
              "0    AA        temp       1\n",
              "1    BB        temp       2\n",
              "2    CC        temp       3"
            ]
          },
          "metadata": {
            "tags": []
          },
          "execution_count": 17
        }
      ]
    },
    {
      "cell_type": "code",
      "metadata": {
        "id": "qSe2JKo4ve5n",
        "colab": {
          "base_uri": "https://localhost:8080/",
          "height": 142
        },
        "outputId": "2a45e7f4-b4d9-4551-d67e-23d0200c55d1"
      },
      "source": [
        "# Example 7\n",
        "# Choosing specific columns from a DataFrame\n",
        "# \n",
        "df_list = [['AA', \"temp\", 1],['BB', \"temp\", 2],['CC', \"temp\", 3]]\n",
        "df = pd.DataFrame(df_list, columns = ['name','temp', 'value'])\n",
        "df\n",
        "\n",
        "# Uncomment the following lines after running \n",
        "df = df[[\"name\",\"temp\"]]\n",
        "df"
      ],
      "execution_count": null,
      "outputs": [
        {
          "output_type": "execute_result",
          "data": {
            "text/html": [
              "<div>\n",
              "<style scoped>\n",
              "    .dataframe tbody tr th:only-of-type {\n",
              "        vertical-align: middle;\n",
              "    }\n",
              "\n",
              "    .dataframe tbody tr th {\n",
              "        vertical-align: top;\n",
              "    }\n",
              "\n",
              "    .dataframe thead th {\n",
              "        text-align: right;\n",
              "    }\n",
              "</style>\n",
              "<table border=\"1\" class=\"dataframe\">\n",
              "  <thead>\n",
              "    <tr style=\"text-align: right;\">\n",
              "      <th></th>\n",
              "      <th>name</th>\n",
              "      <th>temp</th>\n",
              "    </tr>\n",
              "  </thead>\n",
              "  <tbody>\n",
              "    <tr>\n",
              "      <th>0</th>\n",
              "      <td>AA</td>\n",
              "      <td>temp</td>\n",
              "    </tr>\n",
              "    <tr>\n",
              "      <th>1</th>\n",
              "      <td>BB</td>\n",
              "      <td>temp</td>\n",
              "    </tr>\n",
              "    <tr>\n",
              "      <th>2</th>\n",
              "      <td>CC</td>\n",
              "      <td>temp</td>\n",
              "    </tr>\n",
              "  </tbody>\n",
              "</table>\n",
              "</div>"
            ],
            "text/plain": [
              "  name  temp\n",
              "0   AA  temp\n",
              "1   BB  temp\n",
              "2   CC  temp"
            ]
          },
          "metadata": {
            "tags": []
          },
          "execution_count": 19
        }
      ]
    },
    {
      "cell_type": "code",
      "metadata": {
        "id": "0baTHG36xe26",
        "colab": {
          "base_uri": "https://localhost:8080/"
        },
        "outputId": "df964b65-4812-46f9-bb37-b0e4c362b9f2"
      },
      "source": [
        "# Example 8\n",
        "# Deleting/dropping columns or extracting columns from Dataframe \n",
        "# \n",
        "df_list = [['AA', \"temp\", 1],['BB', \"temp\", 2],['CC', \"temp\", 3]]\n",
        "df = pd.DataFrame(df_list, columns = ['name','value','temp'])\n",
        "df\n",
        "\n",
        "# Uncomment the following lines\n",
        "df.drop('value', axis=1, inplace=True)\n",
        "df\n",
        "\n",
        "# Uncomment the following lines after running the previous commented lines\n",
        "df = pd.DataFrame([['AA', 1],['BB', 2],['CC', 3]], columns = ['name','value'])\n",
        "df\n",
        "\n",
        "#Uncomment the following lines after running the previous commented lines\n",
        "values = df.pop('value')\n",
        "df\n",
        "\n",
        "# Uncomment the line below after running the previous commented lines\n",
        "values"
      ],
      "execution_count": null,
      "outputs": [
        {
          "output_type": "execute_result",
          "data": {
            "text/plain": [
              "0    1\n",
              "1    2\n",
              "2    3\n",
              "Name: value, dtype: int64"
            ]
          },
          "metadata": {
            "tags": []
          },
          "execution_count": 25
        }
      ]
    },
    {
      "cell_type": "markdown",
      "metadata": {
        "id": "gbShDqtivYNC"
      },
      "source": [
        "### <font color=\"green\">1.1 Challenges</font>"
      ]
    },
    {
      "cell_type": "code",
      "metadata": {
        "id": "cHdxGZiBvbdY",
        "colab": {
          "base_uri": "https://localhost:8080/",
          "height": 142
        },
        "outputId": "48a62d68-f063-4b19-fd94-2bdddf8f5c86"
      },
      "source": [
        "# Challenge 1\n",
        "# Create a Dataframe from the following dictionary \n",
        "# \n",
        "studentData = {\n",
        "    'name' : ['jack', 'Riti', 'Aadi'],\n",
        "    'age' : [34, 30, 16],\n",
        "    'city' : ['Sydney', 'Delhi', 'New york']\n",
        "}\n",
        "\n",
        "#OUR CODE GOES HERE\n",
        "df = pd.DataFrame.from_dict(studentData , orient= 'columns')\n",
        "df"
      ],
      "execution_count": null,
      "outputs": [
        {
          "output_type": "execute_result",
          "data": {
            "text/html": [
              "<div>\n",
              "<style scoped>\n",
              "    .dataframe tbody tr th:only-of-type {\n",
              "        vertical-align: middle;\n",
              "    }\n",
              "\n",
              "    .dataframe tbody tr th {\n",
              "        vertical-align: top;\n",
              "    }\n",
              "\n",
              "    .dataframe thead th {\n",
              "        text-align: right;\n",
              "    }\n",
              "</style>\n",
              "<table border=\"1\" class=\"dataframe\">\n",
              "  <thead>\n",
              "    <tr style=\"text-align: right;\">\n",
              "      <th></th>\n",
              "      <th>name</th>\n",
              "      <th>age</th>\n",
              "      <th>city</th>\n",
              "    </tr>\n",
              "  </thead>\n",
              "  <tbody>\n",
              "    <tr>\n",
              "      <th>0</th>\n",
              "      <td>jack</td>\n",
              "      <td>34</td>\n",
              "      <td>Sydney</td>\n",
              "    </tr>\n",
              "    <tr>\n",
              "      <th>1</th>\n",
              "      <td>Riti</td>\n",
              "      <td>30</td>\n",
              "      <td>Delhi</td>\n",
              "    </tr>\n",
              "    <tr>\n",
              "      <th>2</th>\n",
              "      <td>Aadi</td>\n",
              "      <td>16</td>\n",
              "      <td>New york</td>\n",
              "    </tr>\n",
              "  </tbody>\n",
              "</table>\n",
              "</div>"
            ],
            "text/plain": [
              "   name  age      city\n",
              "0  jack   34    Sydney\n",
              "1  Riti   30     Delhi\n",
              "2  Aadi   16  New york"
            ]
          },
          "metadata": {
            "tags": []
          },
          "execution_count": 34
        }
      ]
    },
    {
      "cell_type": "code",
      "metadata": {
        "id": "dRcmDpgavhrk",
        "colab": {
          "base_uri": "https://localhost:8080/",
          "height": 173
        },
        "outputId": "b0a03c27-f320-434d-c93d-d13c8abddccf"
      },
      "source": [
        "# Challenge 2\n",
        "# Create the Dataframe shown below in the Expected Output by inserting rows iteratively\n",
        "# OUR CODE GOES HERE\n",
        "from random import randint\n",
        "column_names = list('xyz')\n",
        "\n",
        "df1 = pd.DataFrame(columns=column_names)\n",
        "for r in range(4):\n",
        "  for col in column_names:\n",
        "    df1.loc[r,col] = randint(1,3)\n",
        "\n",
        "df1"
      ],
      "execution_count": null,
      "outputs": [
        {
          "output_type": "execute_result",
          "data": {
            "text/html": [
              "<div>\n",
              "<style scoped>\n",
              "    .dataframe tbody tr th:only-of-type {\n",
              "        vertical-align: middle;\n",
              "    }\n",
              "\n",
              "    .dataframe tbody tr th {\n",
              "        vertical-align: top;\n",
              "    }\n",
              "\n",
              "    .dataframe thead th {\n",
              "        text-align: right;\n",
              "    }\n",
              "</style>\n",
              "<table border=\"1\" class=\"dataframe\">\n",
              "  <thead>\n",
              "    <tr style=\"text-align: right;\">\n",
              "      <th></th>\n",
              "      <th>x</th>\n",
              "      <th>y</th>\n",
              "      <th>z</th>\n",
              "    </tr>\n",
              "  </thead>\n",
              "  <tbody>\n",
              "    <tr>\n",
              "      <th>0</th>\n",
              "      <td>2</td>\n",
              "      <td>3</td>\n",
              "      <td>2</td>\n",
              "    </tr>\n",
              "    <tr>\n",
              "      <th>1</th>\n",
              "      <td>2</td>\n",
              "      <td>3</td>\n",
              "      <td>3</td>\n",
              "    </tr>\n",
              "    <tr>\n",
              "      <th>2</th>\n",
              "      <td>2</td>\n",
              "      <td>1</td>\n",
              "      <td>3</td>\n",
              "    </tr>\n",
              "    <tr>\n",
              "      <th>3</th>\n",
              "      <td>2</td>\n",
              "      <td>2</td>\n",
              "      <td>1</td>\n",
              "    </tr>\n",
              "  </tbody>\n",
              "</table>\n",
              "</div>"
            ],
            "text/plain": [
              "   x  y  z\n",
              "0  2  3  2\n",
              "1  2  3  3\n",
              "2  2  1  3\n",
              "3  2  2  1"
            ]
          },
          "metadata": {
            "tags": []
          },
          "execution_count": 37
        }
      ]
    },
    {
      "cell_type": "code",
      "metadata": {
        "id": "PMsJ5nML9EzX",
        "colab": {
          "base_uri": "https://localhost:8080/",
          "height": 173
        },
        "outputId": "e57d3d3b-60f7-4b54-ff9a-5d45eff48ea8"
      },
      "source": [
        "# Challenge 2: Expected Output\n",
        "# [Do not run this cell]\n",
        "# Running this cell will clear the output"
      ],
      "execution_count": null,
      "outputs": [
        {
          "output_type": "execute_result",
          "data": {
            "text/html": [
              "<div>\n",
              "<style scoped>\n",
              "    .dataframe tbody tr th:only-of-type {\n",
              "        vertical-align: middle;\n",
              "    }\n",
              "\n",
              "    .dataframe tbody tr th {\n",
              "        vertical-align: top;\n",
              "    }\n",
              "\n",
              "    .dataframe thead th {\n",
              "        text-align: right;\n",
              "    }\n",
              "</style>\n",
              "<table border=\"1\" class=\"dataframe\">\n",
              "  <thead>\n",
              "    <tr style=\"text-align: right;\">\n",
              "      <th></th>\n",
              "      <th>x</th>\n",
              "      <th>y</th>\n",
              "      <th>z</th>\n",
              "    </tr>\n",
              "  </thead>\n",
              "  <tbody>\n",
              "    <tr>\n",
              "      <th>0</th>\n",
              "      <td>1</td>\n",
              "      <td>3</td>\n",
              "      <td>3</td>\n",
              "    </tr>\n",
              "    <tr>\n",
              "      <th>1</th>\n",
              "      <td>2</td>\n",
              "      <td>1</td>\n",
              "      <td>2</td>\n",
              "    </tr>\n",
              "    <tr>\n",
              "      <th>2</th>\n",
              "      <td>3</td>\n",
              "      <td>2</td>\n",
              "      <td>1</td>\n",
              "    </tr>\n",
              "    <tr>\n",
              "      <th>3</th>\n",
              "      <td>3</td>\n",
              "      <td>2</td>\n",
              "      <td>3</td>\n",
              "    </tr>\n",
              "  </tbody>\n",
              "</table>\n",
              "</div>"
            ],
            "text/plain": [
              "   x  y  z\n",
              "0  1  3  3\n",
              "1  2  1  2\n",
              "2  3  2  1\n",
              "3  3  2  3"
            ]
          },
          "metadata": {
            "tags": []
          },
          "execution_count": 9
        }
      ]
    },
    {
      "cell_type": "code",
      "metadata": {
        "id": "Od_2Kd9ZvhhT",
        "colab": {
          "base_uri": "https://localhost:8080/",
          "height": 359
        },
        "outputId": "a1d65da8-65b0-4973-a295-0b105abafb4b"
      },
      "source": [
        "# Challenge 3\n",
        "# Create the Dataframe shown in the Expected Output below with randomly generated integers\n",
        "# OUR CODE GOES HERE\n",
        "from random import randint\n",
        "column_names2 = ['A' , 'B' , 'C' , 'D']\n",
        "df2 = pd.DataFrame(columns=column_names2)\n",
        "\n",
        "for r in range(10):\n",
        "  for col in column_names2:\n",
        "    df2.loc[r,col] = randint(0,9)\n",
        "\n",
        "df2"
      ],
      "execution_count": null,
      "outputs": [
        {
          "output_type": "execute_result",
          "data": {
            "text/html": [
              "<div>\n",
              "<style scoped>\n",
              "    .dataframe tbody tr th:only-of-type {\n",
              "        vertical-align: middle;\n",
              "    }\n",
              "\n",
              "    .dataframe tbody tr th {\n",
              "        vertical-align: top;\n",
              "    }\n",
              "\n",
              "    .dataframe thead th {\n",
              "        text-align: right;\n",
              "    }\n",
              "</style>\n",
              "<table border=\"1\" class=\"dataframe\">\n",
              "  <thead>\n",
              "    <tr style=\"text-align: right;\">\n",
              "      <th></th>\n",
              "      <th>A</th>\n",
              "      <th>B</th>\n",
              "      <th>C</th>\n",
              "      <th>D</th>\n",
              "    </tr>\n",
              "  </thead>\n",
              "  <tbody>\n",
              "    <tr>\n",
              "      <th>0</th>\n",
              "      <td>6</td>\n",
              "      <td>2</td>\n",
              "      <td>6</td>\n",
              "      <td>3</td>\n",
              "    </tr>\n",
              "    <tr>\n",
              "      <th>1</th>\n",
              "      <td>3</td>\n",
              "      <td>9</td>\n",
              "      <td>8</td>\n",
              "      <td>3</td>\n",
              "    </tr>\n",
              "    <tr>\n",
              "      <th>2</th>\n",
              "      <td>5</td>\n",
              "      <td>3</td>\n",
              "      <td>0</td>\n",
              "      <td>4</td>\n",
              "    </tr>\n",
              "    <tr>\n",
              "      <th>3</th>\n",
              "      <td>7</td>\n",
              "      <td>3</td>\n",
              "      <td>2</td>\n",
              "      <td>1</td>\n",
              "    </tr>\n",
              "    <tr>\n",
              "      <th>4</th>\n",
              "      <td>3</td>\n",
              "      <td>1</td>\n",
              "      <td>4</td>\n",
              "      <td>9</td>\n",
              "    </tr>\n",
              "    <tr>\n",
              "      <th>5</th>\n",
              "      <td>1</td>\n",
              "      <td>1</td>\n",
              "      <td>1</td>\n",
              "      <td>6</td>\n",
              "    </tr>\n",
              "    <tr>\n",
              "      <th>6</th>\n",
              "      <td>1</td>\n",
              "      <td>8</td>\n",
              "      <td>1</td>\n",
              "      <td>3</td>\n",
              "    </tr>\n",
              "    <tr>\n",
              "      <th>7</th>\n",
              "      <td>6</td>\n",
              "      <td>4</td>\n",
              "      <td>5</td>\n",
              "      <td>1</td>\n",
              "    </tr>\n",
              "    <tr>\n",
              "      <th>8</th>\n",
              "      <td>9</td>\n",
              "      <td>1</td>\n",
              "      <td>2</td>\n",
              "      <td>0</td>\n",
              "    </tr>\n",
              "    <tr>\n",
              "      <th>9</th>\n",
              "      <td>6</td>\n",
              "      <td>3</td>\n",
              "      <td>2</td>\n",
              "      <td>9</td>\n",
              "    </tr>\n",
              "  </tbody>\n",
              "</table>\n",
              "</div>"
            ],
            "text/plain": [
              "   A  B  C  D\n",
              "0  6  2  6  3\n",
              "1  3  9  8  3\n",
              "2  5  3  0  4\n",
              "3  7  3  2  1\n",
              "4  3  1  4  9\n",
              "5  1  1  1  6\n",
              "6  1  8  1  3\n",
              "7  6  4  5  1\n",
              "8  9  1  2  0\n",
              "9  6  3  2  9"
            ]
          },
          "metadata": {
            "tags": []
          },
          "execution_count": 38
        }
      ]
    },
    {
      "cell_type": "code",
      "metadata": {
        "id": "5yOC8xvh99iF",
        "colab": {
          "base_uri": "https://localhost:8080/",
          "height": 359
        },
        "outputId": "2204796b-7ed0-418b-adf1-29cf53d7d6f2"
      },
      "source": [
        "# Challenge 3: Expected Output\n",
        "# Running this cell will clear the output\n",
        "# Attention: Do not run this cell!"
      ],
      "execution_count": null,
      "outputs": [
        {
          "output_type": "execute_result",
          "data": {
            "text/html": [
              "<div>\n",
              "<style scoped>\n",
              "    .dataframe tbody tr th:only-of-type {\n",
              "        vertical-align: middle;\n",
              "    }\n",
              "\n",
              "    .dataframe tbody tr th {\n",
              "        vertical-align: top;\n",
              "    }\n",
              "\n",
              "    .dataframe thead th {\n",
              "        text-align: right;\n",
              "    }\n",
              "</style>\n",
              "<table border=\"1\" class=\"dataframe\">\n",
              "  <thead>\n",
              "    <tr style=\"text-align: right;\">\n",
              "      <th></th>\n",
              "      <th>A</th>\n",
              "      <th>B</th>\n",
              "      <th>C</th>\n",
              "      <th>D</th>\n",
              "    </tr>\n",
              "  </thead>\n",
              "  <tbody>\n",
              "    <tr>\n",
              "      <th>0</th>\n",
              "      <td>8</td>\n",
              "      <td>2</td>\n",
              "      <td>8</td>\n",
              "      <td>0</td>\n",
              "    </tr>\n",
              "    <tr>\n",
              "      <th>1</th>\n",
              "      <td>6</td>\n",
              "      <td>6</td>\n",
              "      <td>0</td>\n",
              "      <td>8</td>\n",
              "    </tr>\n",
              "    <tr>\n",
              "      <th>2</th>\n",
              "      <td>2</td>\n",
              "      <td>2</td>\n",
              "      <td>0</td>\n",
              "      <td>4</td>\n",
              "    </tr>\n",
              "    <tr>\n",
              "      <th>3</th>\n",
              "      <td>8</td>\n",
              "      <td>2</td>\n",
              "      <td>7</td>\n",
              "      <td>2</td>\n",
              "    </tr>\n",
              "    <tr>\n",
              "      <th>4</th>\n",
              "      <td>7</td>\n",
              "      <td>5</td>\n",
              "      <td>9</td>\n",
              "      <td>3</td>\n",
              "    </tr>\n",
              "    <tr>\n",
              "      <th>5</th>\n",
              "      <td>7</td>\n",
              "      <td>9</td>\n",
              "      <td>8</td>\n",
              "      <td>6</td>\n",
              "    </tr>\n",
              "    <tr>\n",
              "      <th>6</th>\n",
              "      <td>6</td>\n",
              "      <td>0</td>\n",
              "      <td>8</td>\n",
              "      <td>9</td>\n",
              "    </tr>\n",
              "    <tr>\n",
              "      <th>7</th>\n",
              "      <td>3</td>\n",
              "      <td>1</td>\n",
              "      <td>7</td>\n",
              "      <td>0</td>\n",
              "    </tr>\n",
              "    <tr>\n",
              "      <th>8</th>\n",
              "      <td>8</td>\n",
              "      <td>7</td>\n",
              "      <td>7</td>\n",
              "      <td>0</td>\n",
              "    </tr>\n",
              "    <tr>\n",
              "      <th>9</th>\n",
              "      <td>9</td>\n",
              "      <td>3</td>\n",
              "      <td>6</td>\n",
              "      <td>7</td>\n",
              "    </tr>\n",
              "  </tbody>\n",
              "</table>\n",
              "</div>"
            ],
            "text/plain": [
              "   A  B  C  D\n",
              "0  8  2  8  0\n",
              "1  6  6  0  8\n",
              "2  2  2  0  4\n",
              "3  8  2  7  2\n",
              "4  7  5  9  3\n",
              "5  7  9  8  6\n",
              "6  6  0  8  9\n",
              "7  3  1  7  0\n",
              "8  8  7  7  0\n",
              "9  9  3  6  7"
            ]
          },
          "metadata": {
            "tags": []
          },
          "execution_count": 37
        }
      ]
    },
    {
      "cell_type": "code",
      "metadata": {
        "id": "XBtytsCQvhYk",
        "colab": {
          "base_uri": "https://localhost:8080/",
          "height": 191
        },
        "outputId": "73dbf7b0-6950-4f40-9ee3-73751759b9c3"
      },
      "source": [
        "# Challenge 4\n",
        "# Create a Dataframe from the mnist_test csv file in the sample_data directory\n",
        "#OUR CODE GOES HERE\n",
        "import pandas as pd\n",
        "df_mnist_test = pd.read_csv('/content/sample_data/mnist_test.csv' , delimiter=',')\n",
        "df_mnist_test.head(3)"
      ],
      "execution_count": null,
      "outputs": [
        {
          "output_type": "execute_result",
          "data": {
            "text/html": [
              "<div>\n",
              "<style scoped>\n",
              "    .dataframe tbody tr th:only-of-type {\n",
              "        vertical-align: middle;\n",
              "    }\n",
              "\n",
              "    .dataframe tbody tr th {\n",
              "        vertical-align: top;\n",
              "    }\n",
              "\n",
              "    .dataframe thead th {\n",
              "        text-align: right;\n",
              "    }\n",
              "</style>\n",
              "<table border=\"1\" class=\"dataframe\">\n",
              "  <thead>\n",
              "    <tr style=\"text-align: right;\">\n",
              "      <th></th>\n",
              "      <th>7</th>\n",
              "      <th>0</th>\n",
              "      <th>0.1</th>\n",
              "      <th>0.2</th>\n",
              "      <th>0.3</th>\n",
              "      <th>0.4</th>\n",
              "      <th>0.5</th>\n",
              "      <th>0.6</th>\n",
              "      <th>0.7</th>\n",
              "      <th>0.8</th>\n",
              "      <th>0.9</th>\n",
              "      <th>0.10</th>\n",
              "      <th>0.11</th>\n",
              "      <th>0.12</th>\n",
              "      <th>0.13</th>\n",
              "      <th>0.14</th>\n",
              "      <th>0.15</th>\n",
              "      <th>0.16</th>\n",
              "      <th>0.17</th>\n",
              "      <th>0.18</th>\n",
              "      <th>0.19</th>\n",
              "      <th>0.20</th>\n",
              "      <th>0.21</th>\n",
              "      <th>0.22</th>\n",
              "      <th>0.23</th>\n",
              "      <th>0.24</th>\n",
              "      <th>0.25</th>\n",
              "      <th>0.26</th>\n",
              "      <th>0.27</th>\n",
              "      <th>0.28</th>\n",
              "      <th>0.29</th>\n",
              "      <th>0.30</th>\n",
              "      <th>0.31</th>\n",
              "      <th>0.32</th>\n",
              "      <th>0.33</th>\n",
              "      <th>0.34</th>\n",
              "      <th>0.35</th>\n",
              "      <th>0.36</th>\n",
              "      <th>0.37</th>\n",
              "      <th>0.38</th>\n",
              "      <th>...</th>\n",
              "      <th>0.628</th>\n",
              "      <th>0.629</th>\n",
              "      <th>0.630</th>\n",
              "      <th>0.631</th>\n",
              "      <th>0.632</th>\n",
              "      <th>0.633</th>\n",
              "      <th>0.634</th>\n",
              "      <th>0.635</th>\n",
              "      <th>0.636</th>\n",
              "      <th>0.637</th>\n",
              "      <th>0.638</th>\n",
              "      <th>0.639</th>\n",
              "      <th>0.640</th>\n",
              "      <th>0.641</th>\n",
              "      <th>0.642</th>\n",
              "      <th>0.643</th>\n",
              "      <th>0.644</th>\n",
              "      <th>0.645</th>\n",
              "      <th>0.646</th>\n",
              "      <th>0.647</th>\n",
              "      <th>0.648</th>\n",
              "      <th>0.649</th>\n",
              "      <th>0.650</th>\n",
              "      <th>0.651</th>\n",
              "      <th>0.652</th>\n",
              "      <th>0.653</th>\n",
              "      <th>0.654</th>\n",
              "      <th>0.655</th>\n",
              "      <th>0.656</th>\n",
              "      <th>0.657</th>\n",
              "      <th>0.658</th>\n",
              "      <th>0.659</th>\n",
              "      <th>0.660</th>\n",
              "      <th>0.661</th>\n",
              "      <th>0.662</th>\n",
              "      <th>0.663</th>\n",
              "      <th>0.664</th>\n",
              "      <th>0.665</th>\n",
              "      <th>0.666</th>\n",
              "      <th>0.667</th>\n",
              "    </tr>\n",
              "  </thead>\n",
              "  <tbody>\n",
              "    <tr>\n",
              "      <th>0</th>\n",
              "      <td>2</td>\n",
              "      <td>0</td>\n",
              "      <td>0</td>\n",
              "      <td>0</td>\n",
              "      <td>0</td>\n",
              "      <td>0</td>\n",
              "      <td>0</td>\n",
              "      <td>0</td>\n",
              "      <td>0</td>\n",
              "      <td>0</td>\n",
              "      <td>0</td>\n",
              "      <td>0</td>\n",
              "      <td>0</td>\n",
              "      <td>0</td>\n",
              "      <td>0</td>\n",
              "      <td>0</td>\n",
              "      <td>0</td>\n",
              "      <td>0</td>\n",
              "      <td>0</td>\n",
              "      <td>0</td>\n",
              "      <td>0</td>\n",
              "      <td>0</td>\n",
              "      <td>0</td>\n",
              "      <td>0</td>\n",
              "      <td>0</td>\n",
              "      <td>0</td>\n",
              "      <td>0</td>\n",
              "      <td>0</td>\n",
              "      <td>0</td>\n",
              "      <td>0</td>\n",
              "      <td>0</td>\n",
              "      <td>0</td>\n",
              "      <td>0</td>\n",
              "      <td>0</td>\n",
              "      <td>0</td>\n",
              "      <td>0</td>\n",
              "      <td>0</td>\n",
              "      <td>0</td>\n",
              "      <td>0</td>\n",
              "      <td>0</td>\n",
              "      <td>...</td>\n",
              "      <td>0</td>\n",
              "      <td>0</td>\n",
              "      <td>0</td>\n",
              "      <td>0</td>\n",
              "      <td>0</td>\n",
              "      <td>0</td>\n",
              "      <td>0</td>\n",
              "      <td>0</td>\n",
              "      <td>0</td>\n",
              "      <td>0</td>\n",
              "      <td>0</td>\n",
              "      <td>0</td>\n",
              "      <td>0</td>\n",
              "      <td>0</td>\n",
              "      <td>0</td>\n",
              "      <td>0</td>\n",
              "      <td>0</td>\n",
              "      <td>0</td>\n",
              "      <td>0</td>\n",
              "      <td>0</td>\n",
              "      <td>0</td>\n",
              "      <td>0</td>\n",
              "      <td>0</td>\n",
              "      <td>0</td>\n",
              "      <td>0</td>\n",
              "      <td>0</td>\n",
              "      <td>0</td>\n",
              "      <td>0</td>\n",
              "      <td>0</td>\n",
              "      <td>0</td>\n",
              "      <td>0</td>\n",
              "      <td>0</td>\n",
              "      <td>0</td>\n",
              "      <td>0</td>\n",
              "      <td>0</td>\n",
              "      <td>0</td>\n",
              "      <td>0</td>\n",
              "      <td>0</td>\n",
              "      <td>0</td>\n",
              "      <td>0</td>\n",
              "    </tr>\n",
              "    <tr>\n",
              "      <th>1</th>\n",
              "      <td>1</td>\n",
              "      <td>0</td>\n",
              "      <td>0</td>\n",
              "      <td>0</td>\n",
              "      <td>0</td>\n",
              "      <td>0</td>\n",
              "      <td>0</td>\n",
              "      <td>0</td>\n",
              "      <td>0</td>\n",
              "      <td>0</td>\n",
              "      <td>0</td>\n",
              "      <td>0</td>\n",
              "      <td>0</td>\n",
              "      <td>0</td>\n",
              "      <td>0</td>\n",
              "      <td>0</td>\n",
              "      <td>0</td>\n",
              "      <td>0</td>\n",
              "      <td>0</td>\n",
              "      <td>0</td>\n",
              "      <td>0</td>\n",
              "      <td>0</td>\n",
              "      <td>0</td>\n",
              "      <td>0</td>\n",
              "      <td>0</td>\n",
              "      <td>0</td>\n",
              "      <td>0</td>\n",
              "      <td>0</td>\n",
              "      <td>0</td>\n",
              "      <td>0</td>\n",
              "      <td>0</td>\n",
              "      <td>0</td>\n",
              "      <td>0</td>\n",
              "      <td>0</td>\n",
              "      <td>0</td>\n",
              "      <td>0</td>\n",
              "      <td>0</td>\n",
              "      <td>0</td>\n",
              "      <td>0</td>\n",
              "      <td>0</td>\n",
              "      <td>...</td>\n",
              "      <td>0</td>\n",
              "      <td>0</td>\n",
              "      <td>0</td>\n",
              "      <td>0</td>\n",
              "      <td>0</td>\n",
              "      <td>0</td>\n",
              "      <td>0</td>\n",
              "      <td>0</td>\n",
              "      <td>0</td>\n",
              "      <td>0</td>\n",
              "      <td>0</td>\n",
              "      <td>0</td>\n",
              "      <td>0</td>\n",
              "      <td>0</td>\n",
              "      <td>0</td>\n",
              "      <td>0</td>\n",
              "      <td>0</td>\n",
              "      <td>0</td>\n",
              "      <td>0</td>\n",
              "      <td>0</td>\n",
              "      <td>0</td>\n",
              "      <td>0</td>\n",
              "      <td>0</td>\n",
              "      <td>0</td>\n",
              "      <td>0</td>\n",
              "      <td>0</td>\n",
              "      <td>0</td>\n",
              "      <td>0</td>\n",
              "      <td>0</td>\n",
              "      <td>0</td>\n",
              "      <td>0</td>\n",
              "      <td>0</td>\n",
              "      <td>0</td>\n",
              "      <td>0</td>\n",
              "      <td>0</td>\n",
              "      <td>0</td>\n",
              "      <td>0</td>\n",
              "      <td>0</td>\n",
              "      <td>0</td>\n",
              "      <td>0</td>\n",
              "    </tr>\n",
              "    <tr>\n",
              "      <th>2</th>\n",
              "      <td>0</td>\n",
              "      <td>0</td>\n",
              "      <td>0</td>\n",
              "      <td>0</td>\n",
              "      <td>0</td>\n",
              "      <td>0</td>\n",
              "      <td>0</td>\n",
              "      <td>0</td>\n",
              "      <td>0</td>\n",
              "      <td>0</td>\n",
              "      <td>0</td>\n",
              "      <td>0</td>\n",
              "      <td>0</td>\n",
              "      <td>0</td>\n",
              "      <td>0</td>\n",
              "      <td>0</td>\n",
              "      <td>0</td>\n",
              "      <td>0</td>\n",
              "      <td>0</td>\n",
              "      <td>0</td>\n",
              "      <td>0</td>\n",
              "      <td>0</td>\n",
              "      <td>0</td>\n",
              "      <td>0</td>\n",
              "      <td>0</td>\n",
              "      <td>0</td>\n",
              "      <td>0</td>\n",
              "      <td>0</td>\n",
              "      <td>0</td>\n",
              "      <td>0</td>\n",
              "      <td>0</td>\n",
              "      <td>0</td>\n",
              "      <td>0</td>\n",
              "      <td>0</td>\n",
              "      <td>0</td>\n",
              "      <td>0</td>\n",
              "      <td>0</td>\n",
              "      <td>0</td>\n",
              "      <td>0</td>\n",
              "      <td>0</td>\n",
              "      <td>...</td>\n",
              "      <td>0</td>\n",
              "      <td>0</td>\n",
              "      <td>0</td>\n",
              "      <td>0</td>\n",
              "      <td>0</td>\n",
              "      <td>0</td>\n",
              "      <td>0</td>\n",
              "      <td>0</td>\n",
              "      <td>0</td>\n",
              "      <td>0</td>\n",
              "      <td>0</td>\n",
              "      <td>0</td>\n",
              "      <td>0</td>\n",
              "      <td>0</td>\n",
              "      <td>0</td>\n",
              "      <td>0</td>\n",
              "      <td>0</td>\n",
              "      <td>0</td>\n",
              "      <td>0</td>\n",
              "      <td>0</td>\n",
              "      <td>0</td>\n",
              "      <td>0</td>\n",
              "      <td>0</td>\n",
              "      <td>0</td>\n",
              "      <td>0</td>\n",
              "      <td>0</td>\n",
              "      <td>0</td>\n",
              "      <td>0</td>\n",
              "      <td>0</td>\n",
              "      <td>0</td>\n",
              "      <td>0</td>\n",
              "      <td>0</td>\n",
              "      <td>0</td>\n",
              "      <td>0</td>\n",
              "      <td>0</td>\n",
              "      <td>0</td>\n",
              "      <td>0</td>\n",
              "      <td>0</td>\n",
              "      <td>0</td>\n",
              "      <td>0</td>\n",
              "    </tr>\n",
              "  </tbody>\n",
              "</table>\n",
              "<p>3 rows × 785 columns</p>\n",
              "</div>"
            ],
            "text/plain": [
              "   7  0  0.1  0.2  0.3  0.4  ...  0.662  0.663  0.664  0.665  0.666  0.667\n",
              "0  2  0    0    0    0    0  ...      0      0      0      0      0      0\n",
              "1  1  0    0    0    0    0  ...      0      0      0      0      0      0\n",
              "2  0  0    0    0    0    0  ...      0      0      0      0      0      0\n",
              "\n",
              "[3 rows x 785 columns]"
            ]
          },
          "metadata": {
            "tags": []
          },
          "execution_count": 2
        }
      ]
    },
    {
      "cell_type": "code",
      "metadata": {
        "id": "5g5RBnCsvhOO",
        "colab": {
          "base_uri": "https://localhost:8080/",
          "height": 439
        },
        "outputId": "9dc7918c-8e26-4b59-b3ee-2ad89baf474a"
      },
      "source": [
        "# Challenge 5\n",
        "# Create a Dataframe from dataset with the following url source\n",
        "# URL: http://bit.ly/NairobiBusesDataset\n",
        "#OUR CODE GOES HERE\n",
        "\n",
        "df_url = \"http://bit.ly/NairobiBusesDataset\"\n",
        "df_NairobiBusesDataset = pd.read_csv(df_url)\n",
        "df_NairobiBusesDataset"
      ],
      "execution_count": null,
      "outputs": [
        {
          "output_type": "execute_result",
          "data": {
            "text/html": [
              "<div>\n",
              "<style scoped>\n",
              "    .dataframe tbody tr th:only-of-type {\n",
              "        vertical-align: middle;\n",
              "    }\n",
              "\n",
              "    .dataframe tbody tr th {\n",
              "        vertical-align: top;\n",
              "    }\n",
              "\n",
              "    .dataframe thead th {\n",
              "        text-align: right;\n",
              "    }\n",
              "</style>\n",
              "<table border=\"1\" class=\"dataframe\">\n",
              "  <thead>\n",
              "    <tr style=\"text-align: right;\">\n",
              "      <th></th>\n",
              "      <th>ride_id</th>\n",
              "      <th>seat_number</th>\n",
              "      <th>payment_method</th>\n",
              "      <th>payment_receipt</th>\n",
              "      <th>travel_date</th>\n",
              "      <th>travel_time</th>\n",
              "      <th>travel_from</th>\n",
              "      <th>travel_to</th>\n",
              "      <th>car_type</th>\n",
              "      <th>max_capacity</th>\n",
              "    </tr>\n",
              "  </thead>\n",
              "  <tbody>\n",
              "    <tr>\n",
              "      <th>0</th>\n",
              "      <td>1442</td>\n",
              "      <td>15A</td>\n",
              "      <td>Mpesa</td>\n",
              "      <td>UZUEHCBUSO</td>\n",
              "      <td>17-10-17</td>\n",
              "      <td>7:15</td>\n",
              "      <td>Migori</td>\n",
              "      <td>Nairobi</td>\n",
              "      <td>Bus</td>\n",
              "      <td>49</td>\n",
              "    </tr>\n",
              "    <tr>\n",
              "      <th>1</th>\n",
              "      <td>5437</td>\n",
              "      <td>14A</td>\n",
              "      <td>Mpesa</td>\n",
              "      <td>TIHLBUSGTE</td>\n",
              "      <td>19-11-17</td>\n",
              "      <td>7:12</td>\n",
              "      <td>Migori</td>\n",
              "      <td>Nairobi</td>\n",
              "      <td>Bus</td>\n",
              "      <td>49</td>\n",
              "    </tr>\n",
              "    <tr>\n",
              "      <th>2</th>\n",
              "      <td>5710</td>\n",
              "      <td>8B</td>\n",
              "      <td>Mpesa</td>\n",
              "      <td>EQX8Q5G19O</td>\n",
              "      <td>26-11-17</td>\n",
              "      <td>7:05</td>\n",
              "      <td>Keroka</td>\n",
              "      <td>Nairobi</td>\n",
              "      <td>Bus</td>\n",
              "      <td>49</td>\n",
              "    </tr>\n",
              "    <tr>\n",
              "      <th>3</th>\n",
              "      <td>5777</td>\n",
              "      <td>19A</td>\n",
              "      <td>Mpesa</td>\n",
              "      <td>SGP18CL0ME</td>\n",
              "      <td>27-11-17</td>\n",
              "      <td>7:10</td>\n",
              "      <td>Homa Bay</td>\n",
              "      <td>Nairobi</td>\n",
              "      <td>Bus</td>\n",
              "      <td>49</td>\n",
              "    </tr>\n",
              "    <tr>\n",
              "      <th>4</th>\n",
              "      <td>5778</td>\n",
              "      <td>11A</td>\n",
              "      <td>Mpesa</td>\n",
              "      <td>BM97HFRGL9</td>\n",
              "      <td>27-11-17</td>\n",
              "      <td>7:12</td>\n",
              "      <td>Migori</td>\n",
              "      <td>Nairobi</td>\n",
              "      <td>Bus</td>\n",
              "      <td>49</td>\n",
              "    </tr>\n",
              "    <tr>\n",
              "      <th>...</th>\n",
              "      <td>...</td>\n",
              "      <td>...</td>\n",
              "      <td>...</td>\n",
              "      <td>...</td>\n",
              "      <td>...</td>\n",
              "      <td>...</td>\n",
              "      <td>...</td>\n",
              "      <td>...</td>\n",
              "      <td>...</td>\n",
              "      <td>...</td>\n",
              "    </tr>\n",
              "    <tr>\n",
              "      <th>51640</th>\n",
              "      <td>13826</td>\n",
              "      <td>9B</td>\n",
              "      <td>Mpesa</td>\n",
              "      <td>8V2XDDZR6V</td>\n",
              "      <td>20-04-18</td>\n",
              "      <td>8:00</td>\n",
              "      <td>Awendo</td>\n",
              "      <td>Nairobi</td>\n",
              "      <td>Bus</td>\n",
              "      <td>49</td>\n",
              "    </tr>\n",
              "    <tr>\n",
              "      <th>51641</th>\n",
              "      <td>13809</td>\n",
              "      <td>18A</td>\n",
              "      <td>Mpesa</td>\n",
              "      <td>4PEBSVJSNK</td>\n",
              "      <td>20-04-18</td>\n",
              "      <td>8:00</td>\n",
              "      <td>Migori</td>\n",
              "      <td>Nairobi</td>\n",
              "      <td>Bus</td>\n",
              "      <td>49</td>\n",
              "    </tr>\n",
              "    <tr>\n",
              "      <th>51642</th>\n",
              "      <td>13809</td>\n",
              "      <td>17A</td>\n",
              "      <td>Mpesa</td>\n",
              "      <td>LVN64LZDNN</td>\n",
              "      <td>20-04-18</td>\n",
              "      <td>8:00</td>\n",
              "      <td>Migori</td>\n",
              "      <td>Nairobi</td>\n",
              "      <td>Bus</td>\n",
              "      <td>49</td>\n",
              "    </tr>\n",
              "    <tr>\n",
              "      <th>51643</th>\n",
              "      <td>13796</td>\n",
              "      <td>16B</td>\n",
              "      <td>Mpesa</td>\n",
              "      <td>REYBSKTYWN</td>\n",
              "      <td>20-04-18</td>\n",
              "      <td>7:08</td>\n",
              "      <td>Awendo</td>\n",
              "      <td>Nairobi</td>\n",
              "      <td>Bus</td>\n",
              "      <td>49</td>\n",
              "    </tr>\n",
              "    <tr>\n",
              "      <th>51644</th>\n",
              "      <td>14304</td>\n",
              "      <td>7</td>\n",
              "      <td>Mpesa</td>\n",
              "      <td>AQN7FBUSGP</td>\n",
              "      <td>14-11-17</td>\n",
              "      <td>5:10</td>\n",
              "      <td>Kisii</td>\n",
              "      <td>Nairobi</td>\n",
              "      <td>Bus</td>\n",
              "      <td>49</td>\n",
              "    </tr>\n",
              "  </tbody>\n",
              "</table>\n",
              "<p>51645 rows × 10 columns</p>\n",
              "</div>"
            ],
            "text/plain": [
              "       ride_id seat_number payment_method  ... travel_to car_type max_capacity\n",
              "0         1442         15A          Mpesa  ...   Nairobi      Bus           49\n",
              "1         5437         14A          Mpesa  ...   Nairobi      Bus           49\n",
              "2         5710          8B          Mpesa  ...   Nairobi      Bus           49\n",
              "3         5777         19A          Mpesa  ...   Nairobi      Bus           49\n",
              "4         5778         11A          Mpesa  ...   Nairobi      Bus           49\n",
              "...        ...         ...            ...  ...       ...      ...          ...\n",
              "51640    13826          9B          Mpesa  ...   Nairobi      Bus           49\n",
              "51641    13809         18A          Mpesa  ...   Nairobi      Bus           49\n",
              "51642    13809         17A          Mpesa  ...   Nairobi      Bus           49\n",
              "51643    13796         16B          Mpesa  ...   Nairobi      Bus           49\n",
              "51644    14304           7          Mpesa  ...   Nairobi      Bus           49\n",
              "\n",
              "[51645 rows x 10 columns]"
            ]
          },
          "metadata": {
            "tags": []
          },
          "execution_count": 3
        }
      ]
    },
    {
      "cell_type": "code",
      "metadata": {
        "id": "OK7_9XppvhGH",
        "colab": {
          "base_uri": "https://localhost:8080/",
          "height": 204
        },
        "outputId": "df13ca57-a4b0-4d71-9f55-f17482b1705e"
      },
      "source": [
        "# Challenge 6\n",
        "# Change the column names of the dataset from this source (http://bit.ly/FiveYearData) \n",
        "# to: country, year, population, continent, life_exp, gdp_per_cap\n",
        "#OUR CODE GOES HERE\n",
        "\n",
        "import pandas as pd\n",
        "df_url = \"http://bit.ly/FiveYearData\"\n",
        "df_FiveYearData = pd.read_csv(df_url)\n",
        "df_FiveYearData.head()"
      ],
      "execution_count": null,
      "outputs": [
        {
          "output_type": "execute_result",
          "data": {
            "text/html": [
              "<div>\n",
              "<style scoped>\n",
              "    .dataframe tbody tr th:only-of-type {\n",
              "        vertical-align: middle;\n",
              "    }\n",
              "\n",
              "    .dataframe tbody tr th {\n",
              "        vertical-align: top;\n",
              "    }\n",
              "\n",
              "    .dataframe thead th {\n",
              "        text-align: right;\n",
              "    }\n",
              "</style>\n",
              "<table border=\"1\" class=\"dataframe\">\n",
              "  <thead>\n",
              "    <tr style=\"text-align: right;\">\n",
              "      <th></th>\n",
              "      <th>country</th>\n",
              "      <th>year</th>\n",
              "      <th>pop</th>\n",
              "      <th>continent</th>\n",
              "      <th>lifeExp</th>\n",
              "      <th>gdpPercap</th>\n",
              "    </tr>\n",
              "  </thead>\n",
              "  <tbody>\n",
              "    <tr>\n",
              "      <th>0</th>\n",
              "      <td>Afghanistan</td>\n",
              "      <td>1952</td>\n",
              "      <td>8425333.0</td>\n",
              "      <td>Asia</td>\n",
              "      <td>28.801</td>\n",
              "      <td>779.445314</td>\n",
              "    </tr>\n",
              "    <tr>\n",
              "      <th>1</th>\n",
              "      <td>Afghanistan</td>\n",
              "      <td>1957</td>\n",
              "      <td>9240934.0</td>\n",
              "      <td>Asia</td>\n",
              "      <td>30.332</td>\n",
              "      <td>820.853030</td>\n",
              "    </tr>\n",
              "    <tr>\n",
              "      <th>2</th>\n",
              "      <td>Afghanistan</td>\n",
              "      <td>1962</td>\n",
              "      <td>10267083.0</td>\n",
              "      <td>Asia</td>\n",
              "      <td>31.997</td>\n",
              "      <td>853.100710</td>\n",
              "    </tr>\n",
              "    <tr>\n",
              "      <th>3</th>\n",
              "      <td>Afghanistan</td>\n",
              "      <td>1967</td>\n",
              "      <td>11537966.0</td>\n",
              "      <td>Asia</td>\n",
              "      <td>34.020</td>\n",
              "      <td>836.197138</td>\n",
              "    </tr>\n",
              "    <tr>\n",
              "      <th>4</th>\n",
              "      <td>Afghanistan</td>\n",
              "      <td>1972</td>\n",
              "      <td>13079460.0</td>\n",
              "      <td>Asia</td>\n",
              "      <td>36.088</td>\n",
              "      <td>739.981106</td>\n",
              "    </tr>\n",
              "  </tbody>\n",
              "</table>\n",
              "</div>"
            ],
            "text/plain": [
              "       country  year         pop continent  lifeExp   gdpPercap\n",
              "0  Afghanistan  1952   8425333.0      Asia   28.801  779.445314\n",
              "1  Afghanistan  1957   9240934.0      Asia   30.332  820.853030\n",
              "2  Afghanistan  1962  10267083.0      Asia   31.997  853.100710\n",
              "3  Afghanistan  1967  11537966.0      Asia   34.020  836.197138\n",
              "4  Afghanistan  1972  13079460.0      Asia   36.088  739.981106"
            ]
          },
          "metadata": {
            "tags": []
          },
          "execution_count": 3
        }
      ]
    },
    {
      "cell_type": "code",
      "metadata": {
        "colab": {
          "base_uri": "https://localhost:8080/",
          "height": 204
        },
        "id": "6jKTIclbWaf2",
        "outputId": "71f67214-8de7-4d46-e9e7-68719c25b4fa"
      },
      "source": [
        "df_FiveYearData.columns = ['country' , 'year' , 'population' , 'continent' , 'life_exp' , 'gdb_per_cap']\r\n",
        "df_FiveYearData.head()"
      ],
      "execution_count": null,
      "outputs": [
        {
          "output_type": "execute_result",
          "data": {
            "text/html": [
              "<div>\n",
              "<style scoped>\n",
              "    .dataframe tbody tr th:only-of-type {\n",
              "        vertical-align: middle;\n",
              "    }\n",
              "\n",
              "    .dataframe tbody tr th {\n",
              "        vertical-align: top;\n",
              "    }\n",
              "\n",
              "    .dataframe thead th {\n",
              "        text-align: right;\n",
              "    }\n",
              "</style>\n",
              "<table border=\"1\" class=\"dataframe\">\n",
              "  <thead>\n",
              "    <tr style=\"text-align: right;\">\n",
              "      <th></th>\n",
              "      <th>country</th>\n",
              "      <th>year</th>\n",
              "      <th>population</th>\n",
              "      <th>continent</th>\n",
              "      <th>life_exp</th>\n",
              "      <th>gdb_per_cap</th>\n",
              "    </tr>\n",
              "  </thead>\n",
              "  <tbody>\n",
              "    <tr>\n",
              "      <th>0</th>\n",
              "      <td>Afghanistan</td>\n",
              "      <td>1952</td>\n",
              "      <td>8425333.0</td>\n",
              "      <td>Asia</td>\n",
              "      <td>28.801</td>\n",
              "      <td>779.445314</td>\n",
              "    </tr>\n",
              "    <tr>\n",
              "      <th>1</th>\n",
              "      <td>Afghanistan</td>\n",
              "      <td>1957</td>\n",
              "      <td>9240934.0</td>\n",
              "      <td>Asia</td>\n",
              "      <td>30.332</td>\n",
              "      <td>820.853030</td>\n",
              "    </tr>\n",
              "    <tr>\n",
              "      <th>2</th>\n",
              "      <td>Afghanistan</td>\n",
              "      <td>1962</td>\n",
              "      <td>10267083.0</td>\n",
              "      <td>Asia</td>\n",
              "      <td>31.997</td>\n",
              "      <td>853.100710</td>\n",
              "    </tr>\n",
              "    <tr>\n",
              "      <th>3</th>\n",
              "      <td>Afghanistan</td>\n",
              "      <td>1967</td>\n",
              "      <td>11537966.0</td>\n",
              "      <td>Asia</td>\n",
              "      <td>34.020</td>\n",
              "      <td>836.197138</td>\n",
              "    </tr>\n",
              "    <tr>\n",
              "      <th>4</th>\n",
              "      <td>Afghanistan</td>\n",
              "      <td>1972</td>\n",
              "      <td>13079460.0</td>\n",
              "      <td>Asia</td>\n",
              "      <td>36.088</td>\n",
              "      <td>739.981106</td>\n",
              "    </tr>\n",
              "  </tbody>\n",
              "</table>\n",
              "</div>"
            ],
            "text/plain": [
              "       country  year  population continent  life_exp  gdb_per_cap\n",
              "0  Afghanistan  1952   8425333.0      Asia    28.801   779.445314\n",
              "1  Afghanistan  1957   9240934.0      Asia    30.332   820.853030\n",
              "2  Afghanistan  1962  10267083.0      Asia    31.997   853.100710\n",
              "3  Afghanistan  1967  11537966.0      Asia    34.020   836.197138\n",
              "4  Afghanistan  1972  13079460.0      Asia    36.088   739.981106"
            ]
          },
          "metadata": {
            "tags": []
          },
          "execution_count": 5
        }
      ]
    },
    {
      "cell_type": "code",
      "metadata": {
        "id": "XgUudekMYX8X"
      },
      "source": [
        "#changing column name for a single column name\r\n",
        "#df_FiveYearData.columns.values[0:1] = ['countries']\r\n",
        "#df_FiveYearData.head()"
      ],
      "execution_count": null,
      "outputs": []
    },
    {
      "cell_type": "code",
      "metadata": {
        "id": "0GUaxYY4vg6c",
        "colab": {
          "base_uri": "https://localhost:8080/",
          "height": 173
        },
        "outputId": "17c74df3-8102-4af6-ad29-219b598cca76"
      },
      "source": [
        "# Challenge 7\n",
        "# Choose the country, year and continent columns from a DataFrame in challenge 6\n",
        "#OUR CODE GOES HERE\n",
        "df_FiveYearData[['country' , 'year' , 'continent']].head(4)"
      ],
      "execution_count": null,
      "outputs": [
        {
          "output_type": "execute_result",
          "data": {
            "text/html": [
              "<div>\n",
              "<style scoped>\n",
              "    .dataframe tbody tr th:only-of-type {\n",
              "        vertical-align: middle;\n",
              "    }\n",
              "\n",
              "    .dataframe tbody tr th {\n",
              "        vertical-align: top;\n",
              "    }\n",
              "\n",
              "    .dataframe thead th {\n",
              "        text-align: right;\n",
              "    }\n",
              "</style>\n",
              "<table border=\"1\" class=\"dataframe\">\n",
              "  <thead>\n",
              "    <tr style=\"text-align: right;\">\n",
              "      <th></th>\n",
              "      <th>country</th>\n",
              "      <th>year</th>\n",
              "      <th>continent</th>\n",
              "    </tr>\n",
              "  </thead>\n",
              "  <tbody>\n",
              "    <tr>\n",
              "      <th>0</th>\n",
              "      <td>Afghanistan</td>\n",
              "      <td>1952</td>\n",
              "      <td>Asia</td>\n",
              "    </tr>\n",
              "    <tr>\n",
              "      <th>1</th>\n",
              "      <td>Afghanistan</td>\n",
              "      <td>1957</td>\n",
              "      <td>Asia</td>\n",
              "    </tr>\n",
              "    <tr>\n",
              "      <th>2</th>\n",
              "      <td>Afghanistan</td>\n",
              "      <td>1962</td>\n",
              "      <td>Asia</td>\n",
              "    </tr>\n",
              "    <tr>\n",
              "      <th>3</th>\n",
              "      <td>Afghanistan</td>\n",
              "      <td>1967</td>\n",
              "      <td>Asia</td>\n",
              "    </tr>\n",
              "  </tbody>\n",
              "</table>\n",
              "</div>"
            ],
            "text/plain": [
              "       country  year continent\n",
              "0  Afghanistan  1952      Asia\n",
              "1  Afghanistan  1957      Asia\n",
              "2  Afghanistan  1962      Asia\n",
              "3  Afghanistan  1967      Asia"
            ]
          },
          "metadata": {
            "tags": []
          },
          "execution_count": 7
        }
      ]
    },
    {
      "cell_type": "code",
      "metadata": {
        "id": "qgt-NO7RHDFe",
        "colab": {
          "base_uri": "https://localhost:8080/",
          "height": 419
        },
        "outputId": "22cd9a58-a82d-4b1a-ea12-6c5923e06546"
      },
      "source": [
        "# Challenge 8\n",
        "# Drop the population and life_exp columns from the DataFrame in challenge 6\n",
        "#OUR CODE GOES HERE\n",
        "df_FiveYearData.drop(['population' , 'life_exp'] , axis = 1 , inplace=True)\n",
        "df_FiveYearData"
      ],
      "execution_count": null,
      "outputs": [
        {
          "output_type": "execute_result",
          "data": {
            "text/html": [
              "<div>\n",
              "<style scoped>\n",
              "    .dataframe tbody tr th:only-of-type {\n",
              "        vertical-align: middle;\n",
              "    }\n",
              "\n",
              "    .dataframe tbody tr th {\n",
              "        vertical-align: top;\n",
              "    }\n",
              "\n",
              "    .dataframe thead th {\n",
              "        text-align: right;\n",
              "    }\n",
              "</style>\n",
              "<table border=\"1\" class=\"dataframe\">\n",
              "  <thead>\n",
              "    <tr style=\"text-align: right;\">\n",
              "      <th></th>\n",
              "      <th>country</th>\n",
              "      <th>year</th>\n",
              "      <th>continent</th>\n",
              "      <th>gdb_per_cap</th>\n",
              "    </tr>\n",
              "  </thead>\n",
              "  <tbody>\n",
              "    <tr>\n",
              "      <th>0</th>\n",
              "      <td>Afghanistan</td>\n",
              "      <td>1952</td>\n",
              "      <td>Asia</td>\n",
              "      <td>779.445314</td>\n",
              "    </tr>\n",
              "    <tr>\n",
              "      <th>1</th>\n",
              "      <td>Afghanistan</td>\n",
              "      <td>1957</td>\n",
              "      <td>Asia</td>\n",
              "      <td>820.853030</td>\n",
              "    </tr>\n",
              "    <tr>\n",
              "      <th>2</th>\n",
              "      <td>Afghanistan</td>\n",
              "      <td>1962</td>\n",
              "      <td>Asia</td>\n",
              "      <td>853.100710</td>\n",
              "    </tr>\n",
              "    <tr>\n",
              "      <th>3</th>\n",
              "      <td>Afghanistan</td>\n",
              "      <td>1967</td>\n",
              "      <td>Asia</td>\n",
              "      <td>836.197138</td>\n",
              "    </tr>\n",
              "    <tr>\n",
              "      <th>4</th>\n",
              "      <td>Afghanistan</td>\n",
              "      <td>1972</td>\n",
              "      <td>Asia</td>\n",
              "      <td>739.981106</td>\n",
              "    </tr>\n",
              "    <tr>\n",
              "      <th>...</th>\n",
              "      <td>...</td>\n",
              "      <td>...</td>\n",
              "      <td>...</td>\n",
              "      <td>...</td>\n",
              "    </tr>\n",
              "    <tr>\n",
              "      <th>1699</th>\n",
              "      <td>Zimbabwe</td>\n",
              "      <td>1987</td>\n",
              "      <td>Africa</td>\n",
              "      <td>706.157306</td>\n",
              "    </tr>\n",
              "    <tr>\n",
              "      <th>1700</th>\n",
              "      <td>Zimbabwe</td>\n",
              "      <td>1992</td>\n",
              "      <td>Africa</td>\n",
              "      <td>693.420786</td>\n",
              "    </tr>\n",
              "    <tr>\n",
              "      <th>1701</th>\n",
              "      <td>Zimbabwe</td>\n",
              "      <td>1997</td>\n",
              "      <td>Africa</td>\n",
              "      <td>792.449960</td>\n",
              "    </tr>\n",
              "    <tr>\n",
              "      <th>1702</th>\n",
              "      <td>Zimbabwe</td>\n",
              "      <td>2002</td>\n",
              "      <td>Africa</td>\n",
              "      <td>672.038623</td>\n",
              "    </tr>\n",
              "    <tr>\n",
              "      <th>1703</th>\n",
              "      <td>Zimbabwe</td>\n",
              "      <td>2007</td>\n",
              "      <td>Africa</td>\n",
              "      <td>469.709298</td>\n",
              "    </tr>\n",
              "  </tbody>\n",
              "</table>\n",
              "<p>1704 rows × 4 columns</p>\n",
              "</div>"
            ],
            "text/plain": [
              "          country  year continent  gdb_per_cap\n",
              "0     Afghanistan  1952      Asia   779.445314\n",
              "1     Afghanistan  1957      Asia   820.853030\n",
              "2     Afghanistan  1962      Asia   853.100710\n",
              "3     Afghanistan  1967      Asia   836.197138\n",
              "4     Afghanistan  1972      Asia   739.981106\n",
              "...           ...   ...       ...          ...\n",
              "1699     Zimbabwe  1987    Africa   706.157306\n",
              "1700     Zimbabwe  1992    Africa   693.420786\n",
              "1701     Zimbabwe  1997    Africa   792.449960\n",
              "1702     Zimbabwe  2002    Africa   672.038623\n",
              "1703     Zimbabwe  2007    Africa   469.709298\n",
              "\n",
              "[1704 rows x 4 columns]"
            ]
          },
          "metadata": {
            "tags": []
          },
          "execution_count": 9
        }
      ]
    },
    {
      "cell_type": "markdown",
      "metadata": {
        "id": "8xDIxQXjv1cs"
      },
      "source": [
        "## 1.2 Manipulating Dataframes"
      ]
    },
    {
      "cell_type": "code",
      "metadata": {
        "id": "NYtpbBzPwLm6",
        "colab": {
          "base_uri": "https://localhost:8080/"
        },
        "outputId": "755dc991-cce4-4fb4-eb03-97a30f9ac63e"
      },
      "source": [
        "# Example 1\n",
        "# While working with dataframes, sometimes we may want to iterate over our dataframe and do sopme operations on each row. \n",
        "#Pandas gives us two methods to enable us to do this.\n",
        "# We are going to look at them in the following example.\n",
        "# \n",
        "\n",
        "df = pd.DataFrame([['AA', 1],['BB', 2],['CC', 3]], columns = ['name','value'])\n",
        "df\n",
        "\n",
        "# Uncomment after running previous lines\n",
        "# Since we are iterating over rows, we are going to use a pandas method called iterrows(). \n",
        "#This method returns an iterator that contains indices of each row and data on each row. Each row is stored in a Series\n",
        "for index, row in df.iterrows():\n",
        "  print(row['name'], row['value'])\n",
        "\n",
        "\n",
        "# Uncomment after runnuni previous lines\n",
        "# The other method we that is available to us is itertuples() method. This method loops through each row and returns a named tuple.\n",
        "for row in df.itertuples():  \n",
        "  print(row)"
      ],
      "execution_count": null,
      "outputs": [
        {
          "output_type": "stream",
          "text": [
            "AA 1\n",
            "BB 2\n",
            "CC 3\n",
            "Pandas(Index=0, name='AA', value=1)\n",
            "Pandas(Index=1, name='BB', value=2)\n",
            "Pandas(Index=2, name='CC', value=3)\n"
          ],
          "name": "stdout"
        }
      ]
    },
    {
      "cell_type": "code",
      "metadata": {
        "id": "RZHYg1hNwLbL",
        "colab": {
          "base_uri": "https://localhost:8080/",
          "height": 142
        },
        "outputId": "74ef7aa5-7c9d-430d-88db-8adf5accea59"
      },
      "source": [
        "# Example 2\n",
        "# Applying a function to Dataframe row\n",
        "# This is useful when cleaning up data - converting formats, altering values etc.\n",
        "# In this example we are going to create a third column then create a function that concatenates the values of the first and second column.\n",
        "df = pd.DataFrame([['AA', 1],['BB', 2],['CC', 3]], columns = ['name','value'])\n",
        "df\n",
        "\n",
        "# Uncomment after running previous lines\n",
        "\n",
        "# Define a function that takes in two values and returns the two values concatenated together\n",
        "def function_1(val_1, val_2):\n",
        "\n",
        "   # before retuning the values, we convert the first values into a string because values in one column are strings\n",
        "  return val_1 + str(val_2)\n",
        "\n",
        "# Create a third column called col_a then apply a function that we defined above using python lambda.\n",
        "# Since lambda is a new concept, take a few minutes to read about it here: https://www.afternerd.com/blog/python-lambdas/ . Its not a difficult concept to grasp, so it should not take alot of time to understand.\n",
        "df['col_a'] = df.apply(lambda row: function_1(row['name'], row['value']), axis=1)\n",
        "df\n",
        "\n",
        "# Uncomment after running previous lines\n",
        "# We create a new function that takes in a row value and multiplies it by 2\n",
        "def function_2(val1):\n",
        "  return val1 * 2\n",
        "df['col_m'] = df.apply(lambda row : function_2(row['value']), axis=1)\n",
        "df\n",
        "# Create another column called col_b, that applies the above function and populates the column with our new values\n",
        "# df['col_b'] = df.apply(lambda row: function_2(row), axis=1)\n",
        "# df"
      ],
      "execution_count": null,
      "outputs": [
        {
          "output_type": "execute_result",
          "data": {
            "text/html": [
              "<div>\n",
              "<style scoped>\n",
              "    .dataframe tbody tr th:only-of-type {\n",
              "        vertical-align: middle;\n",
              "    }\n",
              "\n",
              "    .dataframe tbody tr th {\n",
              "        vertical-align: top;\n",
              "    }\n",
              "\n",
              "    .dataframe thead th {\n",
              "        text-align: right;\n",
              "    }\n",
              "</style>\n",
              "<table border=\"1\" class=\"dataframe\">\n",
              "  <thead>\n",
              "    <tr style=\"text-align: right;\">\n",
              "      <th></th>\n",
              "      <th>name</th>\n",
              "      <th>value</th>\n",
              "      <th>col_a</th>\n",
              "      <th>col_m</th>\n",
              "    </tr>\n",
              "  </thead>\n",
              "  <tbody>\n",
              "    <tr>\n",
              "      <th>0</th>\n",
              "      <td>AA</td>\n",
              "      <td>1</td>\n",
              "      <td>AA1</td>\n",
              "      <td>2</td>\n",
              "    </tr>\n",
              "    <tr>\n",
              "      <th>1</th>\n",
              "      <td>BB</td>\n",
              "      <td>2</td>\n",
              "      <td>BB2</td>\n",
              "      <td>4</td>\n",
              "    </tr>\n",
              "    <tr>\n",
              "      <th>2</th>\n",
              "      <td>CC</td>\n",
              "      <td>3</td>\n",
              "      <td>CC3</td>\n",
              "      <td>6</td>\n",
              "    </tr>\n",
              "  </tbody>\n",
              "</table>\n",
              "</div>"
            ],
            "text/plain": [
              "  name  value col_a  col_m\n",
              "0   AA      1   AA1      2\n",
              "1   BB      2   BB2      4\n",
              "2   CC      3   CC3      6"
            ]
          },
          "metadata": {
            "tags": []
          },
          "execution_count": 32
        }
      ]
    },
    {
      "cell_type": "code",
      "metadata": {
        "id": "0SkH4NweskK4"
      },
      "source": [
        ""
      ],
      "execution_count": null,
      "outputs": []
    },
    {
      "cell_type": "code",
      "metadata": {
        "id": "6loPOfpMwLT0",
        "colab": {
          "base_uri": "https://localhost:8080/",
          "height": 142
        },
        "outputId": "746ff932-a939-4753-8e72-27207968d147"
      },
      "source": [
        "# Example 3\n",
        "# Applying a function to a specific column of Dataframe\n",
        "# \n",
        "df = pd.DataFrame([['AA', 1], ['BB', 2], ['CC', 3]], columns=['name', 'value'])\n",
        "df\n",
        "\n",
        "# Uncomment after running previous lines\n",
        "def function_1(val_1):\n",
        "  return \"prefix_\" + str(val_1)\n",
        "  \n",
        "# Uncomment after running previous lines\n",
        "# To be able to apply a function to the elements of the name column, we use the map function. \n",
        "#This function allows us to apply a specific function to all the elements of the targeted column.\n",
        "df['name'] = df['name'].map(function_1)\n",
        "df \n"
      ],
      "execution_count": null,
      "outputs": [
        {
          "output_type": "execute_result",
          "data": {
            "text/html": [
              "<div>\n",
              "<style scoped>\n",
              "    .dataframe tbody tr th:only-of-type {\n",
              "        vertical-align: middle;\n",
              "    }\n",
              "\n",
              "    .dataframe tbody tr th {\n",
              "        vertical-align: top;\n",
              "    }\n",
              "\n",
              "    .dataframe thead th {\n",
              "        text-align: right;\n",
              "    }\n",
              "</style>\n",
              "<table border=\"1\" class=\"dataframe\">\n",
              "  <thead>\n",
              "    <tr style=\"text-align: right;\">\n",
              "      <th></th>\n",
              "      <th>name</th>\n",
              "      <th>value</th>\n",
              "    </tr>\n",
              "  </thead>\n",
              "  <tbody>\n",
              "    <tr>\n",
              "      <th>0</th>\n",
              "      <td>prefix_AA</td>\n",
              "      <td>1</td>\n",
              "    </tr>\n",
              "    <tr>\n",
              "      <th>1</th>\n",
              "      <td>prefix_BB</td>\n",
              "      <td>2</td>\n",
              "    </tr>\n",
              "    <tr>\n",
              "      <th>2</th>\n",
              "      <td>prefix_CC</td>\n",
              "      <td>3</td>\n",
              "    </tr>\n",
              "  </tbody>\n",
              "</table>\n",
              "</div>"
            ],
            "text/plain": [
              "        name  value\n",
              "0  prefix_AA      1\n",
              "1  prefix_BB      2\n",
              "2  prefix_CC      3"
            ]
          },
          "metadata": {
            "tags": []
          },
          "execution_count": 42
        }
      ]
    },
    {
      "cell_type": "code",
      "metadata": {
        "id": "jFzLm_9nz_ra"
      },
      "source": [
        ""
      ],
      "execution_count": null,
      "outputs": []
    },
    {
      "cell_type": "code",
      "metadata": {
        "id": "lqYeZTldwLPO",
        "colab": {
          "base_uri": "https://localhost:8080/",
          "height": 173
        },
        "outputId": "4a8d374f-0c4d-4b75-c495-93c7d418f6b9"
      },
      "source": [
        "# Example 4\n",
        "# Finding and replacing a value in Dataframe\n",
        "# \n",
        "df = pd.DataFrame([['One', 'Two'], ['Four', 'Abcd'], ['One', 'Bcd'], ['Five', 'Cd']], columns=['A', 'B'])\n",
        "df\n",
        "\n",
        "# Uncomment after running previous lines\n",
        "df.loc[df['A'] == 'One', 'A'] = 0\n",
        "df"
      ],
      "execution_count": null,
      "outputs": [
        {
          "output_type": "execute_result",
          "data": {
            "text/html": [
              "<div>\n",
              "<style scoped>\n",
              "    .dataframe tbody tr th:only-of-type {\n",
              "        vertical-align: middle;\n",
              "    }\n",
              "\n",
              "    .dataframe tbody tr th {\n",
              "        vertical-align: top;\n",
              "    }\n",
              "\n",
              "    .dataframe thead th {\n",
              "        text-align: right;\n",
              "    }\n",
              "</style>\n",
              "<table border=\"1\" class=\"dataframe\">\n",
              "  <thead>\n",
              "    <tr style=\"text-align: right;\">\n",
              "      <th></th>\n",
              "      <th>A</th>\n",
              "      <th>B</th>\n",
              "    </tr>\n",
              "  </thead>\n",
              "  <tbody>\n",
              "    <tr>\n",
              "      <th>0</th>\n",
              "      <td>0</td>\n",
              "      <td>Two</td>\n",
              "    </tr>\n",
              "    <tr>\n",
              "      <th>1</th>\n",
              "      <td>Four</td>\n",
              "      <td>Abcd</td>\n",
              "    </tr>\n",
              "    <tr>\n",
              "      <th>2</th>\n",
              "      <td>0</td>\n",
              "      <td>Bcd</td>\n",
              "    </tr>\n",
              "    <tr>\n",
              "      <th>3</th>\n",
              "      <td>Five</td>\n",
              "      <td>Cd</td>\n",
              "    </tr>\n",
              "  </tbody>\n",
              "</table>\n",
              "</div>"
            ],
            "text/plain": [
              "      A     B\n",
              "0     0   Two\n",
              "1  Four  Abcd\n",
              "2     0   Bcd\n",
              "3  Five    Cd"
            ]
          },
          "metadata": {
            "tags": []
          },
          "execution_count": 46
        }
      ]
    },
    {
      "cell_type": "code",
      "metadata": {
        "colab": {
          "base_uri": "https://localhost:8080/"
        },
        "id": "CH90-gqJ1ArY",
        "outputId": "4645c698-3e58-421a-faa7-f15103f28b44"
      },
      "source": [
        "df.loc[df['B']=='Two' , 'B']"
      ],
      "execution_count": null,
      "outputs": [
        {
          "output_type": "execute_result",
          "data": {
            "text/plain": [
              "0    Two\n",
              "Name: B, dtype: object"
            ]
          },
          "metadata": {
            "tags": []
          },
          "execution_count": 48
        }
      ]
    },
    {
      "cell_type": "markdown",
      "metadata": {
        "id": "2HvwqV6UwMFI"
      },
      "source": [
        "### <font color=\"green\">1.2 Challenges</font>"
      ]
    },
    {
      "cell_type": "code",
      "metadata": {
        "id": "hSm2qyoEwSwo",
        "colab": {
          "base_uri": "https://localhost:8080/",
          "height": 173
        },
        "outputId": "227f544b-5927-45a3-b12a-ea95de7b9f13"
      },
      "source": [
        "# Challenge 1\n",
        "# Create a Dataframe from the Dictionary below and iterate over the rows\n",
        "graduates = {'name':[\"Jane Njoroge\", \"June Adhiambo\", \"Kevin Swale\", \"Heidi Sang\"], \n",
        "        'degree': [\"MBA\", \"BCA\", \"M.Tech\", \"MBA\"], \n",
        "        'score':[90, 40, 80, 98]} \n",
        "\n",
        "#OUR CODE GOES HERE\n",
        "df_graduates = pd.DataFrame.from_dict(graduates , orient='columns')\n",
        "df_graduates"
      ],
      "execution_count": null,
      "outputs": [
        {
          "output_type": "execute_result",
          "data": {
            "text/html": [
              "<div>\n",
              "<style scoped>\n",
              "    .dataframe tbody tr th:only-of-type {\n",
              "        vertical-align: middle;\n",
              "    }\n",
              "\n",
              "    .dataframe tbody tr th {\n",
              "        vertical-align: top;\n",
              "    }\n",
              "\n",
              "    .dataframe thead th {\n",
              "        text-align: right;\n",
              "    }\n",
              "</style>\n",
              "<table border=\"1\" class=\"dataframe\">\n",
              "  <thead>\n",
              "    <tr style=\"text-align: right;\">\n",
              "      <th></th>\n",
              "      <th>name</th>\n",
              "      <th>degree</th>\n",
              "      <th>score</th>\n",
              "    </tr>\n",
              "  </thead>\n",
              "  <tbody>\n",
              "    <tr>\n",
              "      <th>0</th>\n",
              "      <td>Jane Njoroge</td>\n",
              "      <td>MBA</td>\n",
              "      <td>90</td>\n",
              "    </tr>\n",
              "    <tr>\n",
              "      <th>1</th>\n",
              "      <td>June Adhiambo</td>\n",
              "      <td>BCA</td>\n",
              "      <td>40</td>\n",
              "    </tr>\n",
              "    <tr>\n",
              "      <th>2</th>\n",
              "      <td>Kevin Swale</td>\n",
              "      <td>M.Tech</td>\n",
              "      <td>80</td>\n",
              "    </tr>\n",
              "    <tr>\n",
              "      <th>3</th>\n",
              "      <td>Heidi Sang</td>\n",
              "      <td>MBA</td>\n",
              "      <td>98</td>\n",
              "    </tr>\n",
              "  </tbody>\n",
              "</table>\n",
              "</div>"
            ],
            "text/plain": [
              "            name  degree  score\n",
              "0   Jane Njoroge     MBA     90\n",
              "1  June Adhiambo     BCA     40\n",
              "2    Kevin Swale  M.Tech     80\n",
              "3     Heidi Sang     MBA     98"
            ]
          },
          "metadata": {
            "tags": []
          },
          "execution_count": 49
        }
      ]
    },
    {
      "cell_type": "code",
      "metadata": {
        "colab": {
          "base_uri": "https://localhost:8080/"
        },
        "id": "hF9g25p02WbR",
        "outputId": "b8b15b9a-26d4-4b15-e774-fb88f73d4858"
      },
      "source": [
        "for index , row in df_graduates.iterrows():\r\n",
        "  print(row['name'] , row['degree'] , row['score'] )\r\n"
      ],
      "execution_count": null,
      "outputs": [
        {
          "output_type": "stream",
          "text": [
            "Jane Njoroge MBA 90\n",
            "June Adhiambo BCA 40\n",
            "Kevin Swale M.Tech 80\n",
            "Heidi Sang MBA 98\n"
          ],
          "name": "stdout"
        }
      ]
    },
    {
      "cell_type": "code",
      "metadata": {
        "colab": {
          "base_uri": "https://localhost:8080/"
        },
        "id": "Bt7JMK6m44m1",
        "outputId": "08dd31f4-ccfd-46d5-efb2-9d9fdfa80f09"
      },
      "source": [
        "for row in df_graduates.itertuples():\r\n",
        "  print(row)"
      ],
      "execution_count": null,
      "outputs": [
        {
          "output_type": "stream",
          "text": [
            "Pandas(Index=0, name='Jane Njoroge', degree='MBA', score=90)\n",
            "Pandas(Index=1, name='June Adhiambo', degree='BCA', score=40)\n",
            "Pandas(Index=2, name='Kevin Swale', degree='M.Tech', score=80)\n",
            "Pandas(Index=3, name='Heidi Sang', degree='MBA', score=98)\n"
          ],
          "name": "stdout"
        }
      ]
    },
    {
      "cell_type": "code",
      "metadata": {
        "id": "9rMJz-2uwTWc",
        "colab": {
          "base_uri": "https://localhost:8080/",
          "height": 204
        },
        "outputId": "3925f16b-a97e-4cc1-96ea-96120c0e3b59"
      },
      "source": [
        "# Challenge 2\n",
        "# Apply the given function to SAL-RATE column\n",
        "# http://bit.ly/EmployeeSalary\n",
        "\n",
        "df_url_EmployeeSalary = \"http://bit.ly/EmployeeSalary\"\n",
        "df_EmployeeSalary = pd.read_csv(df_url_EmployeeSalary)\n",
        "#OUR CODE GOES HERE\n",
        "df_EmployeeSalary.head(5)"
      ],
      "execution_count": null,
      "outputs": [
        {
          "output_type": "execute_result",
          "data": {
            "text/html": [
              "<div>\n",
              "<style scoped>\n",
              "    .dataframe tbody tr th:only-of-type {\n",
              "        vertical-align: middle;\n",
              "    }\n",
              "\n",
              "    .dataframe tbody tr th {\n",
              "        vertical-align: top;\n",
              "    }\n",
              "\n",
              "    .dataframe thead th {\n",
              "        text-align: right;\n",
              "    }\n",
              "</style>\n",
              "<table border=\"1\" class=\"dataframe\">\n",
              "  <thead>\n",
              "    <tr style=\"text-align: right;\">\n",
              "      <th></th>\n",
              "      <th>DPT</th>\n",
              "      <th>NAME</th>\n",
              "      <th>ADDRESS</th>\n",
              "      <th>TTL #</th>\n",
              "      <th>PC</th>\n",
              "      <th>SAL-RATE</th>\n",
              "    </tr>\n",
              "  </thead>\n",
              "  <tbody>\n",
              "    <tr>\n",
              "      <th>0</th>\n",
              "      <td>868</td>\n",
              "      <td>B J  SANDIFORD</td>\n",
              "      <td>DEPARTMENT OF CITYWIDE ADM</td>\n",
              "      <td>12702</td>\n",
              "      <td>X</td>\n",
              "      <td>$5.00</td>\n",
              "    </tr>\n",
              "    <tr>\n",
              "      <th>1</th>\n",
              "      <td>868</td>\n",
              "      <td>C A  WIGFALL</td>\n",
              "      <td>DEPARTMENT OF CITYWIDE ADM</td>\n",
              "      <td>12702</td>\n",
              "      <td>X</td>\n",
              "      <td>$5.00</td>\n",
              "    </tr>\n",
              "    <tr>\n",
              "      <th>2</th>\n",
              "      <td>69</td>\n",
              "      <td>A E A-AWOSOGBA</td>\n",
              "      <td>HRA/DEPARTMENT OF SOCIAL S</td>\n",
              "      <td>52311</td>\n",
              "      <td>A</td>\n",
              "      <td>$51955.00</td>\n",
              "    </tr>\n",
              "    <tr>\n",
              "      <th>3</th>\n",
              "      <td>868</td>\n",
              "      <td>K D AABY</td>\n",
              "      <td>DEPARTMENT OF CITYWIDE ADM</td>\n",
              "      <td>10209</td>\n",
              "      <td>X</td>\n",
              "      <td>$12.00</td>\n",
              "    </tr>\n",
              "    <tr>\n",
              "      <th>4</th>\n",
              "      <td>56</td>\n",
              "      <td>I D AADIL</td>\n",
              "      <td>POLICE DEPARTMENT</td>\n",
              "      <td>71012</td>\n",
              "      <td>A</td>\n",
              "      <td>$46953.00</td>\n",
              "    </tr>\n",
              "  </tbody>\n",
              "</table>\n",
              "</div>"
            ],
            "text/plain": [
              "   DPT             NAME      ... PC         SAL-RATE\n",
              "0       868  B J  SANDIFORD  ...        X      $5.00\n",
              "1       868    C A  WIGFALL  ...        X      $5.00\n",
              "2        69  A E A-AWOSOGBA  ...        A  $51955.00\n",
              "3       868        K D AABY  ...        X     $12.00\n",
              "4        56       I D AADIL  ...        A  $46953.00\n",
              "\n",
              "[5 rows x 6 columns]"
            ]
          },
          "metadata": {
            "tags": []
          },
          "execution_count": 72
        }
      ]
    },
    {
      "cell_type": "code",
      "metadata": {
        "colab": {
          "base_uri": "https://localhost:8080/",
          "height": 204
        },
        "id": "skXKz-Y16eRz",
        "outputId": "d4e01b11-654a-434d-899b-e417871708e7"
      },
      "source": [
        "# Get rid of $ and , in the SAL-RATE, then convert it to a float\r\n",
        "def money_to_float(money_str):\r\n",
        "    return float(money_str.replace(\"$\",\"\").replace(\",\",\"\"))\r\n",
        "\r\n",
        "df_EmployeeSalary['SAL-RATE'] =  df_EmployeeSalary['SAL-RATE'].map(money_to_float)\r\n",
        "df_EmployeeSalary.head(5)"
      ],
      "execution_count": null,
      "outputs": [
        {
          "output_type": "execute_result",
          "data": {
            "text/html": [
              "<div>\n",
              "<style scoped>\n",
              "    .dataframe tbody tr th:only-of-type {\n",
              "        vertical-align: middle;\n",
              "    }\n",
              "\n",
              "    .dataframe tbody tr th {\n",
              "        vertical-align: top;\n",
              "    }\n",
              "\n",
              "    .dataframe thead th {\n",
              "        text-align: right;\n",
              "    }\n",
              "</style>\n",
              "<table border=\"1\" class=\"dataframe\">\n",
              "  <thead>\n",
              "    <tr style=\"text-align: right;\">\n",
              "      <th></th>\n",
              "      <th>DPT</th>\n",
              "      <th>NAME</th>\n",
              "      <th>ADDRESS</th>\n",
              "      <th>TTL #</th>\n",
              "      <th>PC</th>\n",
              "      <th>SAL-RATE</th>\n",
              "    </tr>\n",
              "  </thead>\n",
              "  <tbody>\n",
              "    <tr>\n",
              "      <th>0</th>\n",
              "      <td>868</td>\n",
              "      <td>B J  SANDIFORD</td>\n",
              "      <td>DEPARTMENT OF CITYWIDE ADM</td>\n",
              "      <td>12702</td>\n",
              "      <td>X</td>\n",
              "      <td>5.0</td>\n",
              "    </tr>\n",
              "    <tr>\n",
              "      <th>1</th>\n",
              "      <td>868</td>\n",
              "      <td>C A  WIGFALL</td>\n",
              "      <td>DEPARTMENT OF CITYWIDE ADM</td>\n",
              "      <td>12702</td>\n",
              "      <td>X</td>\n",
              "      <td>5.0</td>\n",
              "    </tr>\n",
              "    <tr>\n",
              "      <th>2</th>\n",
              "      <td>69</td>\n",
              "      <td>A E A-AWOSOGBA</td>\n",
              "      <td>HRA/DEPARTMENT OF SOCIAL S</td>\n",
              "      <td>52311</td>\n",
              "      <td>A</td>\n",
              "      <td>51955.0</td>\n",
              "    </tr>\n",
              "    <tr>\n",
              "      <th>3</th>\n",
              "      <td>868</td>\n",
              "      <td>K D AABY</td>\n",
              "      <td>DEPARTMENT OF CITYWIDE ADM</td>\n",
              "      <td>10209</td>\n",
              "      <td>X</td>\n",
              "      <td>12.0</td>\n",
              "    </tr>\n",
              "    <tr>\n",
              "      <th>4</th>\n",
              "      <td>56</td>\n",
              "      <td>I D AADIL</td>\n",
              "      <td>POLICE DEPARTMENT</td>\n",
              "      <td>71012</td>\n",
              "      <td>A</td>\n",
              "      <td>46953.0</td>\n",
              "    </tr>\n",
              "  </tbody>\n",
              "</table>\n",
              "</div>"
            ],
            "text/plain": [
              "   DPT             NAME      ... PC       SAL-RATE\n",
              "0       868  B J  SANDIFORD  ...        X      5.0\n",
              "1       868    C A  WIGFALL  ...        X      5.0\n",
              "2        69  A E A-AWOSOGBA  ...        A  51955.0\n",
              "3       868        K D AABY  ...        X     12.0\n",
              "4        56       I D AADIL  ...        A  46953.0\n",
              "\n",
              "[5 rows x 6 columns]"
            ]
          },
          "metadata": {
            "tags": []
          },
          "execution_count": 73
        }
      ]
    },
    {
      "cell_type": "code",
      "metadata": {
        "id": "Pc0MmJHXwTQP",
        "colab": {
          "base_uri": "https://localhost:8080/",
          "height": 173
        },
        "outputId": "8caea386-ed1d-4307-d070-5039127f1cee"
      },
      "source": [
        "# Challenge 3\n",
        "# Replace the value in M.Tech in Challenge 1 Dataframe with Msc.Tech\n",
        "# OUR CODE GOES HERE\n",
        "df_graduates"
      ],
      "execution_count": null,
      "outputs": [
        {
          "output_type": "execute_result",
          "data": {
            "text/html": [
              "<div>\n",
              "<style scoped>\n",
              "    .dataframe tbody tr th:only-of-type {\n",
              "        vertical-align: middle;\n",
              "    }\n",
              "\n",
              "    .dataframe tbody tr th {\n",
              "        vertical-align: top;\n",
              "    }\n",
              "\n",
              "    .dataframe thead th {\n",
              "        text-align: right;\n",
              "    }\n",
              "</style>\n",
              "<table border=\"1\" class=\"dataframe\">\n",
              "  <thead>\n",
              "    <tr style=\"text-align: right;\">\n",
              "      <th></th>\n",
              "      <th>name</th>\n",
              "      <th>degree</th>\n",
              "      <th>score</th>\n",
              "    </tr>\n",
              "  </thead>\n",
              "  <tbody>\n",
              "    <tr>\n",
              "      <th>0</th>\n",
              "      <td>Jane Njoroge</td>\n",
              "      <td>MBA</td>\n",
              "      <td>90</td>\n",
              "    </tr>\n",
              "    <tr>\n",
              "      <th>1</th>\n",
              "      <td>June Adhiambo</td>\n",
              "      <td>BCA</td>\n",
              "      <td>40</td>\n",
              "    </tr>\n",
              "    <tr>\n",
              "      <th>2</th>\n",
              "      <td>Kevin Swale</td>\n",
              "      <td>M.Tech</td>\n",
              "      <td>80</td>\n",
              "    </tr>\n",
              "    <tr>\n",
              "      <th>3</th>\n",
              "      <td>Heidi Sang</td>\n",
              "      <td>MBA</td>\n",
              "      <td>98</td>\n",
              "    </tr>\n",
              "  </tbody>\n",
              "</table>\n",
              "</div>"
            ],
            "text/plain": [
              "            name  degree  score\n",
              "0   Jane Njoroge     MBA     90\n",
              "1  June Adhiambo     BCA     40\n",
              "2    Kevin Swale  M.Tech     80\n",
              "3     Heidi Sang     MBA     98"
            ]
          },
          "metadata": {
            "tags": []
          },
          "execution_count": 75
        }
      ]
    },
    {
      "cell_type": "code",
      "metadata": {
        "colab": {
          "base_uri": "https://localhost:8080/",
          "height": 173
        },
        "id": "TtrBn4rC7iVq",
        "outputId": "fcee1c1b-82f4-4ef1-8e90-42fa8d671884"
      },
      "source": [
        "df_graduates.loc[df_graduates['degree']=='M.Tech' , 'degree'] = 'Msc.Tech'\r\n",
        "df_graduates"
      ],
      "execution_count": null,
      "outputs": [
        {
          "output_type": "execute_result",
          "data": {
            "text/html": [
              "<div>\n",
              "<style scoped>\n",
              "    .dataframe tbody tr th:only-of-type {\n",
              "        vertical-align: middle;\n",
              "    }\n",
              "\n",
              "    .dataframe tbody tr th {\n",
              "        vertical-align: top;\n",
              "    }\n",
              "\n",
              "    .dataframe thead th {\n",
              "        text-align: right;\n",
              "    }\n",
              "</style>\n",
              "<table border=\"1\" class=\"dataframe\">\n",
              "  <thead>\n",
              "    <tr style=\"text-align: right;\">\n",
              "      <th></th>\n",
              "      <th>name</th>\n",
              "      <th>degree</th>\n",
              "      <th>score</th>\n",
              "    </tr>\n",
              "  </thead>\n",
              "  <tbody>\n",
              "    <tr>\n",
              "      <th>0</th>\n",
              "      <td>Jane Njoroge</td>\n",
              "      <td>MBA</td>\n",
              "      <td>90</td>\n",
              "    </tr>\n",
              "    <tr>\n",
              "      <th>1</th>\n",
              "      <td>June Adhiambo</td>\n",
              "      <td>BCA</td>\n",
              "      <td>40</td>\n",
              "    </tr>\n",
              "    <tr>\n",
              "      <th>2</th>\n",
              "      <td>Kevin Swale</td>\n",
              "      <td>Msc.Tech</td>\n",
              "      <td>80</td>\n",
              "    </tr>\n",
              "    <tr>\n",
              "      <th>3</th>\n",
              "      <td>Heidi Sang</td>\n",
              "      <td>MBA</td>\n",
              "      <td>98</td>\n",
              "    </tr>\n",
              "  </tbody>\n",
              "</table>\n",
              "</div>"
            ],
            "text/plain": [
              "            name    degree  score\n",
              "0   Jane Njoroge       MBA     90\n",
              "1  June Adhiambo       BCA     40\n",
              "2    Kevin Swale  Msc.Tech     80\n",
              "3     Heidi Sang       MBA     98"
            ]
          },
          "metadata": {
            "tags": []
          },
          "execution_count": 82
        }
      ]
    },
    {
      "cell_type": "markdown",
      "metadata": {
        "id": "uCmfk1Urv7mM"
      },
      "source": [
        "## 1.3 Splitting and Merging Dataframes\n"
      ]
    },
    {
      "cell_type": "code",
      "metadata": {
        "id": "n0b8ZowiwGxU"
      },
      "source": [
        "# Example 1\n",
        "# Merging Dataframes by columns using join\n",
        "# Create the first dataframe\n",
        "df = pd.DataFrame([[1, 3], [2, 4]], columns=['A', 'B'])\n",
        "df\n",
        "\n",
        "# Uncomment and run after running previous lines\n",
        "# Create the second dataframe\n",
        "df2 = pd.DataFrame([[1, 5], [1, 6]], columns=['A', 'C'])\n",
        "df2\n",
        "\n",
        "# Uncomment and run after running previous lines\n",
        "df.merge(df2, how='left', on='A')  # merges on columns A\n",
        "\n",
        "# Uncomment and run after running previous lines\n",
        "#df2.drop_duplicates(subset=['A'], inplace=True)\n",
        "\n",
        "# Uncomment and run after running previous lines\n",
        "# df.merge(df2, how='left', on='A')"
      ],
      "execution_count": null,
      "outputs": []
    },
    {
      "cell_type": "code",
      "metadata": {
        "id": "KMIoB_OVR94I"
      },
      "source": [
        ""
      ],
      "execution_count": null,
      "outputs": []
    },
    {
      "cell_type": "code",
      "metadata": {
        "id": "t7nm8_etwGtF",
        "colab": {
          "base_uri": "https://localhost:8080/",
          "height": 111
        },
        "outputId": "2ff72310-a89b-4c23-b7c7-0ee6bdb76468"
      },
      "source": [
        "# Example 2\n",
        "# Merging Dataframes by columns on index\n",
        "# \n",
        "df = pd.DataFrame([[1, 3], [2, 4]], columns=['A', 'B'])\n",
        "df\n",
        "\n",
        "# Uncomment and run after running previous lines\n",
        "# df2 = pd.DataFrame([[1, 5], [1, 6]], columns=['A', 'D'])\n",
        "# df2\n",
        "\n",
        "# Uncomment and run after running previous lines\n",
        "# pd.concat([df, df2], axis=1)"
      ],
      "execution_count": null,
      "outputs": [
        {
          "output_type": "execute_result",
          "data": {
            "text/html": [
              "<div>\n",
              "<style scoped>\n",
              "    .dataframe tbody tr th:only-of-type {\n",
              "        vertical-align: middle;\n",
              "    }\n",
              "\n",
              "    .dataframe tbody tr th {\n",
              "        vertical-align: top;\n",
              "    }\n",
              "\n",
              "    .dataframe thead th {\n",
              "        text-align: right;\n",
              "    }\n",
              "</style>\n",
              "<table border=\"1\" class=\"dataframe\">\n",
              "  <thead>\n",
              "    <tr style=\"text-align: right;\">\n",
              "      <th></th>\n",
              "      <th>A</th>\n",
              "      <th>B</th>\n",
              "    </tr>\n",
              "  </thead>\n",
              "  <tbody>\n",
              "    <tr>\n",
              "      <th>0</th>\n",
              "      <td>1</td>\n",
              "      <td>3</td>\n",
              "    </tr>\n",
              "    <tr>\n",
              "      <th>1</th>\n",
              "      <td>2</td>\n",
              "      <td>4</td>\n",
              "    </tr>\n",
              "  </tbody>\n",
              "</table>\n",
              "</div>"
            ],
            "text/plain": [
              "   A  B\n",
              "0  1  3\n",
              "1  2  4"
            ]
          },
          "metadata": {
            "tags": []
          },
          "execution_count": 87
        }
      ]
    },
    {
      "cell_type": "code",
      "metadata": {
        "colab": {
          "base_uri": "https://localhost:8080/",
          "height": 111
        },
        "id": "s4juHRB0Zgal",
        "outputId": "79876dff-5fd9-4864-e48d-f2385ec14bbb"
      },
      "source": [
        "df2 = pd.DataFrame([[1, 5], [1, 6]], columns=['A', 'D'])\r\n",
        "df2"
      ],
      "execution_count": null,
      "outputs": [
        {
          "output_type": "execute_result",
          "data": {
            "text/html": [
              "<div>\n",
              "<style scoped>\n",
              "    .dataframe tbody tr th:only-of-type {\n",
              "        vertical-align: middle;\n",
              "    }\n",
              "\n",
              "    .dataframe tbody tr th {\n",
              "        vertical-align: top;\n",
              "    }\n",
              "\n",
              "    .dataframe thead th {\n",
              "        text-align: right;\n",
              "    }\n",
              "</style>\n",
              "<table border=\"1\" class=\"dataframe\">\n",
              "  <thead>\n",
              "    <tr style=\"text-align: right;\">\n",
              "      <th></th>\n",
              "      <th>A</th>\n",
              "      <th>D</th>\n",
              "    </tr>\n",
              "  </thead>\n",
              "  <tbody>\n",
              "    <tr>\n",
              "      <th>0</th>\n",
              "      <td>1</td>\n",
              "      <td>5</td>\n",
              "    </tr>\n",
              "    <tr>\n",
              "      <th>1</th>\n",
              "      <td>1</td>\n",
              "      <td>6</td>\n",
              "    </tr>\n",
              "  </tbody>\n",
              "</table>\n",
              "</div>"
            ],
            "text/plain": [
              "   A  D\n",
              "0  1  5\n",
              "1  1  6"
            ]
          },
          "metadata": {
            "tags": []
          },
          "execution_count": 88
        }
      ]
    },
    {
      "cell_type": "code",
      "metadata": {
        "colab": {
          "base_uri": "https://localhost:8080/",
          "height": 111
        },
        "id": "UDnidE2dZac_",
        "outputId": "0dda3668-22d4-4318-aad8-a4041447ff83"
      },
      "source": [
        "pd.concat([df, df2], axis=1)"
      ],
      "execution_count": null,
      "outputs": [
        {
          "output_type": "execute_result",
          "data": {
            "text/html": [
              "<div>\n",
              "<style scoped>\n",
              "    .dataframe tbody tr th:only-of-type {\n",
              "        vertical-align: middle;\n",
              "    }\n",
              "\n",
              "    .dataframe tbody tr th {\n",
              "        vertical-align: top;\n",
              "    }\n",
              "\n",
              "    .dataframe thead th {\n",
              "        text-align: right;\n",
              "    }\n",
              "</style>\n",
              "<table border=\"1\" class=\"dataframe\">\n",
              "  <thead>\n",
              "    <tr style=\"text-align: right;\">\n",
              "      <th></th>\n",
              "      <th>A</th>\n",
              "      <th>B</th>\n",
              "      <th>A</th>\n",
              "      <th>D</th>\n",
              "    </tr>\n",
              "  </thead>\n",
              "  <tbody>\n",
              "    <tr>\n",
              "      <th>0</th>\n",
              "      <td>1</td>\n",
              "      <td>3</td>\n",
              "      <td>1</td>\n",
              "      <td>5</td>\n",
              "    </tr>\n",
              "    <tr>\n",
              "      <th>1</th>\n",
              "      <td>2</td>\n",
              "      <td>4</td>\n",
              "      <td>1</td>\n",
              "      <td>6</td>\n",
              "    </tr>\n",
              "  </tbody>\n",
              "</table>\n",
              "</div>"
            ],
            "text/plain": [
              "   A  B  A  D\n",
              "0  1  3  1  5\n",
              "1  2  4  1  6"
            ]
          },
          "metadata": {
            "tags": []
          },
          "execution_count": 89
        }
      ]
    },
    {
      "cell_type": "code",
      "metadata": {
        "id": "LyyI-VpiwGps",
        "colab": {
          "base_uri": "https://localhost:8080/"
        },
        "outputId": "4431b950-96ae-4f12-ce63-b11bc90193d5"
      },
      "source": [
        "# Example 3\n",
        "# Merging Dataframes and splitting again \n",
        "# \n",
        "ts1 = [1,2,3,4]\n",
        "ts2 = [6,7,8,9]\n",
        "d = {'col_1': ts1, 'col_2': ts2}\n",
        "d\n",
        "\n",
        "# Uncomment and run after running previous lines\n",
        "# df_1 = pd.DataFrame(data=d)\n",
        "# df_1\n",
        "\n",
        "# Uncomment and run after running previous lines\n",
        "# df_2 = pd.DataFrame(np.random.randn(3, 2), columns=['col_1', 'col_2'])\n",
        "# df_2\n",
        "\n",
        "# Uncomment and run after running previous lines\n",
        "# df_all = pd.concat((df_1, df_2), axis=0, ignore_index=True)\n",
        "# df_all\n",
        "\n",
        "# Uncomment and run after running previous lines\n",
        "# print(df_1.shape)\n",
        "# print(df_2.shape)\n",
        "# print(df_all.shape)\n",
        "\n",
        "# Uncomment and run after running previous lines\n",
        "# print(df_1.shape)\n",
        "# print(df_2.shape)\n",
        "# print(df_all.shape)\n",
        "\n",
        "# Uncomment and run after running previous lines\n",
        "# print(df_train.shape)\n",
        "# print(df_test.shape)\n",
        "# print(df_all.shape)"
      ],
      "execution_count": null,
      "outputs": [
        {
          "output_type": "execute_result",
          "data": {
            "text/plain": [
              "{'col_1': [1, 2, 3, 4], 'col_2': [6, 7, 8, 9]}"
            ]
          },
          "metadata": {
            "tags": []
          },
          "execution_count": 90
        }
      ]
    },
    {
      "cell_type": "code",
      "metadata": {
        "colab": {
          "base_uri": "https://localhost:8080/",
          "height": 173
        },
        "id": "7unQKqMEaYo6",
        "outputId": "39a84fa0-b38d-4bb5-ab4d-692d9ce1d948"
      },
      "source": [
        "df_1 = pd.DataFrame(data=d)\r\n",
        "df_1"
      ],
      "execution_count": null,
      "outputs": [
        {
          "output_type": "execute_result",
          "data": {
            "text/html": [
              "<div>\n",
              "<style scoped>\n",
              "    .dataframe tbody tr th:only-of-type {\n",
              "        vertical-align: middle;\n",
              "    }\n",
              "\n",
              "    .dataframe tbody tr th {\n",
              "        vertical-align: top;\n",
              "    }\n",
              "\n",
              "    .dataframe thead th {\n",
              "        text-align: right;\n",
              "    }\n",
              "</style>\n",
              "<table border=\"1\" class=\"dataframe\">\n",
              "  <thead>\n",
              "    <tr style=\"text-align: right;\">\n",
              "      <th></th>\n",
              "      <th>col_1</th>\n",
              "      <th>col_2</th>\n",
              "    </tr>\n",
              "  </thead>\n",
              "  <tbody>\n",
              "    <tr>\n",
              "      <th>0</th>\n",
              "      <td>1</td>\n",
              "      <td>6</td>\n",
              "    </tr>\n",
              "    <tr>\n",
              "      <th>1</th>\n",
              "      <td>2</td>\n",
              "      <td>7</td>\n",
              "    </tr>\n",
              "    <tr>\n",
              "      <th>2</th>\n",
              "      <td>3</td>\n",
              "      <td>8</td>\n",
              "    </tr>\n",
              "    <tr>\n",
              "      <th>3</th>\n",
              "      <td>4</td>\n",
              "      <td>9</td>\n",
              "    </tr>\n",
              "  </tbody>\n",
              "</table>\n",
              "</div>"
            ],
            "text/plain": [
              "   col_1  col_2\n",
              "0      1      6\n",
              "1      2      7\n",
              "2      3      8\n",
              "3      4      9"
            ]
          },
          "metadata": {
            "tags": []
          },
          "execution_count": 93
        }
      ]
    },
    {
      "cell_type": "code",
      "metadata": {
        "colab": {
          "base_uri": "https://localhost:8080/",
          "height": 142
        },
        "id": "XjuehLq4bE4-",
        "outputId": "640e9fca-cb23-4717-d271-c0e6d7d8c4da"
      },
      "source": [
        "df_2 = pd.DataFrame(np.random.randn(3, 2), columns=['col_1', 'col_2'])\r\n",
        "df_2"
      ],
      "execution_count": null,
      "outputs": [
        {
          "output_type": "execute_result",
          "data": {
            "text/html": [
              "<div>\n",
              "<style scoped>\n",
              "    .dataframe tbody tr th:only-of-type {\n",
              "        vertical-align: middle;\n",
              "    }\n",
              "\n",
              "    .dataframe tbody tr th {\n",
              "        vertical-align: top;\n",
              "    }\n",
              "\n",
              "    .dataframe thead th {\n",
              "        text-align: right;\n",
              "    }\n",
              "</style>\n",
              "<table border=\"1\" class=\"dataframe\">\n",
              "  <thead>\n",
              "    <tr style=\"text-align: right;\">\n",
              "      <th></th>\n",
              "      <th>col_1</th>\n",
              "      <th>col_2</th>\n",
              "    </tr>\n",
              "  </thead>\n",
              "  <tbody>\n",
              "    <tr>\n",
              "      <th>0</th>\n",
              "      <td>-1.032193</td>\n",
              "      <td>0.192051</td>\n",
              "    </tr>\n",
              "    <tr>\n",
              "      <th>1</th>\n",
              "      <td>-0.602140</td>\n",
              "      <td>-0.074924</td>\n",
              "    </tr>\n",
              "    <tr>\n",
              "      <th>2</th>\n",
              "      <td>-0.410027</td>\n",
              "      <td>1.688486</td>\n",
              "    </tr>\n",
              "  </tbody>\n",
              "</table>\n",
              "</div>"
            ],
            "text/plain": [
              "      col_1     col_2\n",
              "0 -1.032193  0.192051\n",
              "1 -0.602140 -0.074924\n",
              "2 -0.410027  1.688486"
            ]
          },
          "metadata": {
            "tags": []
          },
          "execution_count": 105
        }
      ]
    },
    {
      "cell_type": "code",
      "metadata": {
        "colab": {
          "base_uri": "https://localhost:8080/",
          "height": 266
        },
        "id": "TvW9ug5GbkA6",
        "outputId": "0c093b2e-c7b2-461b-ebf4-25911b7b93d3"
      },
      "source": [
        "df_all = pd.concat((df_1, df_2), axis=0, ignore_index=True)\r\n",
        "df_all"
      ],
      "execution_count": null,
      "outputs": [
        {
          "output_type": "execute_result",
          "data": {
            "text/html": [
              "<div>\n",
              "<style scoped>\n",
              "    .dataframe tbody tr th:only-of-type {\n",
              "        vertical-align: middle;\n",
              "    }\n",
              "\n",
              "    .dataframe tbody tr th {\n",
              "        vertical-align: top;\n",
              "    }\n",
              "\n",
              "    .dataframe thead th {\n",
              "        text-align: right;\n",
              "    }\n",
              "</style>\n",
              "<table border=\"1\" class=\"dataframe\">\n",
              "  <thead>\n",
              "    <tr style=\"text-align: right;\">\n",
              "      <th></th>\n",
              "      <th>col_1</th>\n",
              "      <th>col_2</th>\n",
              "    </tr>\n",
              "  </thead>\n",
              "  <tbody>\n",
              "    <tr>\n",
              "      <th>0</th>\n",
              "      <td>1.000000</td>\n",
              "      <td>6.000000</td>\n",
              "    </tr>\n",
              "    <tr>\n",
              "      <th>1</th>\n",
              "      <td>2.000000</td>\n",
              "      <td>7.000000</td>\n",
              "    </tr>\n",
              "    <tr>\n",
              "      <th>2</th>\n",
              "      <td>3.000000</td>\n",
              "      <td>8.000000</td>\n",
              "    </tr>\n",
              "    <tr>\n",
              "      <th>3</th>\n",
              "      <td>4.000000</td>\n",
              "      <td>9.000000</td>\n",
              "    </tr>\n",
              "    <tr>\n",
              "      <th>4</th>\n",
              "      <td>-1.032193</td>\n",
              "      <td>0.192051</td>\n",
              "    </tr>\n",
              "    <tr>\n",
              "      <th>5</th>\n",
              "      <td>-0.602140</td>\n",
              "      <td>-0.074924</td>\n",
              "    </tr>\n",
              "    <tr>\n",
              "      <th>6</th>\n",
              "      <td>-0.410027</td>\n",
              "      <td>1.688486</td>\n",
              "    </tr>\n",
              "  </tbody>\n",
              "</table>\n",
              "</div>"
            ],
            "text/plain": [
              "      col_1     col_2\n",
              "0  1.000000  6.000000\n",
              "1  2.000000  7.000000\n",
              "2  3.000000  8.000000\n",
              "3  4.000000  9.000000\n",
              "4 -1.032193  0.192051\n",
              "5 -0.602140 -0.074924\n",
              "6 -0.410027  1.688486"
            ]
          },
          "metadata": {
            "tags": []
          },
          "execution_count": 106
        }
      ]
    },
    {
      "cell_type": "code",
      "metadata": {
        "colab": {
          "base_uri": "https://localhost:8080/"
        },
        "id": "AW8IWsmadbi0",
        "outputId": "c93dafde-f311-4a5b-e18b-c0ed6e7fe41f"
      },
      "source": [
        "print(df_1.shape)\r\n",
        "print(df_2.shape)\r\n",
        "print(df_all.shape)"
      ],
      "execution_count": null,
      "outputs": [
        {
          "output_type": "stream",
          "text": [
            "(4, 2)\n",
            "(3, 2)\n",
            "(7, 2)\n"
          ],
          "name": "stdout"
        }
      ]
    },
    {
      "cell_type": "code",
      "metadata": {
        "colab": {
          "base_uri": "https://localhost:8080/",
          "height": 197
        },
        "id": "nW38_JRbdjWE",
        "outputId": "c23d97e7-f750-47d3-bcb5-39aa23c7428f"
      },
      "source": [
        "print(df_train.shape)\r\n",
        "print(df_test.shape)\r\n",
        "print(df_all.shape)"
      ],
      "execution_count": null,
      "outputs": [
        {
          "output_type": "error",
          "ename": "NameError",
          "evalue": "ignored",
          "traceback": [
            "\u001b[0;31m---------------------------------------------------------------------------\u001b[0m",
            "\u001b[0;31mNameError\u001b[0m                                 Traceback (most recent call last)",
            "\u001b[0;32m<ipython-input-108-b1483508f13f>\u001b[0m in \u001b[0;36m<module>\u001b[0;34m()\u001b[0m\n\u001b[0;32m----> 1\u001b[0;31m \u001b[0mprint\u001b[0m\u001b[0;34m(\u001b[0m\u001b[0mdf_train\u001b[0m\u001b[0;34m.\u001b[0m\u001b[0mshape\u001b[0m\u001b[0;34m)\u001b[0m\u001b[0;34m\u001b[0m\u001b[0;34m\u001b[0m\u001b[0m\n\u001b[0m\u001b[1;32m      2\u001b[0m \u001b[0mprint\u001b[0m\u001b[0;34m(\u001b[0m\u001b[0mdf_test\u001b[0m\u001b[0;34m.\u001b[0m\u001b[0mshape\u001b[0m\u001b[0;34m)\u001b[0m\u001b[0;34m\u001b[0m\u001b[0;34m\u001b[0m\u001b[0m\n\u001b[1;32m      3\u001b[0m \u001b[0mprint\u001b[0m\u001b[0;34m(\u001b[0m\u001b[0mdf_all\u001b[0m\u001b[0;34m.\u001b[0m\u001b[0mshape\u001b[0m\u001b[0;34m)\u001b[0m\u001b[0;34m\u001b[0m\u001b[0;34m\u001b[0m\u001b[0m\n",
            "\u001b[0;31mNameError\u001b[0m: name 'df_train' is not defined"
          ]
        }
      ]
    },
    {
      "cell_type": "code",
      "metadata": {
        "id": "p66l2GrFwGFi",
        "colab": {
          "base_uri": "https://localhost:8080/",
          "height": 359
        },
        "outputId": "17fdbd9e-086f-4a61-d7f2-d6380c082eaa"
      },
      "source": [
        "# Example 4\n",
        "# Grouping by a Dataframe and iterating over grouped series\n",
        "# \n",
        "classes = [\"class 1\"] * 5 + [\"class 2\"] * 5\n",
        "sub_class = ['c1','c2','c2','c1','c3'] + ['c1','c2','c3','c2','c3']\n",
        "vals = [1,3,5,1,3] + [2,6,7,5,2]\n",
        "p_df = pd.DataFrame({\"class\": classes, \"sub_class\": sub_class, \"vals\": vals})\n",
        "p_df\n",
        "\n",
        "# Uncomment and run after running previous lines\n",
        "# grouped = p_df.groupby(['class', 'sub_class'])['vals'].median()\n",
        "# grouped\n",
        "\n",
        "# Uncomment and run after running previous lines\n",
        "# for index_val, value in grouped.iteritems():\n",
        "#     class_name, sub_class_name = index_val\n",
        "#     print(class_name, \":\", sub_class_name, \":\", value)"
      ],
      "execution_count": null,
      "outputs": [
        {
          "output_type": "execute_result",
          "data": {
            "text/html": [
              "<div>\n",
              "<style scoped>\n",
              "    .dataframe tbody tr th:only-of-type {\n",
              "        vertical-align: middle;\n",
              "    }\n",
              "\n",
              "    .dataframe tbody tr th {\n",
              "        vertical-align: top;\n",
              "    }\n",
              "\n",
              "    .dataframe thead th {\n",
              "        text-align: right;\n",
              "    }\n",
              "</style>\n",
              "<table border=\"1\" class=\"dataframe\">\n",
              "  <thead>\n",
              "    <tr style=\"text-align: right;\">\n",
              "      <th></th>\n",
              "      <th>class</th>\n",
              "      <th>sub_class</th>\n",
              "      <th>vals</th>\n",
              "    </tr>\n",
              "  </thead>\n",
              "  <tbody>\n",
              "    <tr>\n",
              "      <th>0</th>\n",
              "      <td>class 1</td>\n",
              "      <td>c1</td>\n",
              "      <td>1</td>\n",
              "    </tr>\n",
              "    <tr>\n",
              "      <th>1</th>\n",
              "      <td>class 1</td>\n",
              "      <td>c2</td>\n",
              "      <td>3</td>\n",
              "    </tr>\n",
              "    <tr>\n",
              "      <th>2</th>\n",
              "      <td>class 1</td>\n",
              "      <td>c2</td>\n",
              "      <td>5</td>\n",
              "    </tr>\n",
              "    <tr>\n",
              "      <th>3</th>\n",
              "      <td>class 1</td>\n",
              "      <td>c1</td>\n",
              "      <td>1</td>\n",
              "    </tr>\n",
              "    <tr>\n",
              "      <th>4</th>\n",
              "      <td>class 1</td>\n",
              "      <td>c3</td>\n",
              "      <td>3</td>\n",
              "    </tr>\n",
              "    <tr>\n",
              "      <th>5</th>\n",
              "      <td>class 2</td>\n",
              "      <td>c1</td>\n",
              "      <td>2</td>\n",
              "    </tr>\n",
              "    <tr>\n",
              "      <th>6</th>\n",
              "      <td>class 2</td>\n",
              "      <td>c2</td>\n",
              "      <td>6</td>\n",
              "    </tr>\n",
              "    <tr>\n",
              "      <th>7</th>\n",
              "      <td>class 2</td>\n",
              "      <td>c3</td>\n",
              "      <td>7</td>\n",
              "    </tr>\n",
              "    <tr>\n",
              "      <th>8</th>\n",
              "      <td>class 2</td>\n",
              "      <td>c2</td>\n",
              "      <td>5</td>\n",
              "    </tr>\n",
              "    <tr>\n",
              "      <th>9</th>\n",
              "      <td>class 2</td>\n",
              "      <td>c3</td>\n",
              "      <td>2</td>\n",
              "    </tr>\n",
              "  </tbody>\n",
              "</table>\n",
              "</div>"
            ],
            "text/plain": [
              "     class sub_class  vals\n",
              "0  class 1        c1     1\n",
              "1  class 1        c2     3\n",
              "2  class 1        c2     5\n",
              "3  class 1        c1     1\n",
              "4  class 1        c3     3\n",
              "5  class 2        c1     2\n",
              "6  class 2        c2     6\n",
              "7  class 2        c3     7\n",
              "8  class 2        c2     5\n",
              "9  class 2        c3     2"
            ]
          },
          "metadata": {
            "tags": []
          },
          "execution_count": 111
        }
      ]
    },
    {
      "cell_type": "code",
      "metadata": {
        "colab": {
          "base_uri": "https://localhost:8080/"
        },
        "id": "_zsCrhXPgDeL",
        "outputId": "3e646626-50b2-494b-854b-354109437b5c"
      },
      "source": [
        "grouped = p_df.groupby(['class', 'sub_class'])['vals'].median()\r\n",
        "grouped"
      ],
      "execution_count": null,
      "outputs": [
        {
          "output_type": "execute_result",
          "data": {
            "text/plain": [
              "class    sub_class\n",
              "class 1  c1           1.0\n",
              "         c2           4.0\n",
              "         c3           3.0\n",
              "class 2  c1           2.0\n",
              "         c2           5.5\n",
              "         c3           4.5\n",
              "Name: vals, dtype: float64"
            ]
          },
          "metadata": {
            "tags": []
          },
          "execution_count": 116
        }
      ]
    },
    {
      "cell_type": "code",
      "metadata": {
        "colab": {
          "base_uri": "https://localhost:8080/"
        },
        "id": "FR9KfFMIgMyw",
        "outputId": "2b8e070d-ed9f-4138-f545-5b745b07d350"
      },
      "source": [
        "grouped = p_df.groupby([ 'sub_class' , 'class'])['vals'].median()\r\n",
        "grouped"
      ],
      "execution_count": null,
      "outputs": [
        {
          "output_type": "execute_result",
          "data": {
            "text/plain": [
              "sub_class  class  \n",
              "c1         class 1    1.0\n",
              "           class 2    2.0\n",
              "c2         class 1    4.0\n",
              "           class 2    5.5\n",
              "c3         class 1    3.0\n",
              "           class 2    4.5\n",
              "Name: vals, dtype: float64"
            ]
          },
          "metadata": {
            "tags": []
          },
          "execution_count": 114
        }
      ]
    },
    {
      "cell_type": "code",
      "metadata": {
        "colab": {
          "base_uri": "https://localhost:8080/",
          "height": 359
        },
        "id": "kfRqgoHbijvY",
        "outputId": "e3f04d34-caaa-482b-bca3-1cd0f1273f07"
      },
      "source": [
        "grouped2 = p_df.drop('class' , axis = 1)\r\n",
        "grouped2"
      ],
      "execution_count": null,
      "outputs": [
        {
          "output_type": "execute_result",
          "data": {
            "text/html": [
              "<div>\n",
              "<style scoped>\n",
              "    .dataframe tbody tr th:only-of-type {\n",
              "        vertical-align: middle;\n",
              "    }\n",
              "\n",
              "    .dataframe tbody tr th {\n",
              "        vertical-align: top;\n",
              "    }\n",
              "\n",
              "    .dataframe thead th {\n",
              "        text-align: right;\n",
              "    }\n",
              "</style>\n",
              "<table border=\"1\" class=\"dataframe\">\n",
              "  <thead>\n",
              "    <tr style=\"text-align: right;\">\n",
              "      <th></th>\n",
              "      <th>sub_class</th>\n",
              "      <th>vals</th>\n",
              "    </tr>\n",
              "  </thead>\n",
              "  <tbody>\n",
              "    <tr>\n",
              "      <th>0</th>\n",
              "      <td>c1</td>\n",
              "      <td>1</td>\n",
              "    </tr>\n",
              "    <tr>\n",
              "      <th>1</th>\n",
              "      <td>c2</td>\n",
              "      <td>3</td>\n",
              "    </tr>\n",
              "    <tr>\n",
              "      <th>2</th>\n",
              "      <td>c2</td>\n",
              "      <td>5</td>\n",
              "    </tr>\n",
              "    <tr>\n",
              "      <th>3</th>\n",
              "      <td>c1</td>\n",
              "      <td>1</td>\n",
              "    </tr>\n",
              "    <tr>\n",
              "      <th>4</th>\n",
              "      <td>c3</td>\n",
              "      <td>3</td>\n",
              "    </tr>\n",
              "    <tr>\n",
              "      <th>5</th>\n",
              "      <td>c1</td>\n",
              "      <td>2</td>\n",
              "    </tr>\n",
              "    <tr>\n",
              "      <th>6</th>\n",
              "      <td>c2</td>\n",
              "      <td>6</td>\n",
              "    </tr>\n",
              "    <tr>\n",
              "      <th>7</th>\n",
              "      <td>c3</td>\n",
              "      <td>7</td>\n",
              "    </tr>\n",
              "    <tr>\n",
              "      <th>8</th>\n",
              "      <td>c2</td>\n",
              "      <td>5</td>\n",
              "    </tr>\n",
              "    <tr>\n",
              "      <th>9</th>\n",
              "      <td>c3</td>\n",
              "      <td>2</td>\n",
              "    </tr>\n",
              "  </tbody>\n",
              "</table>\n",
              "</div>"
            ],
            "text/plain": [
              "  sub_class  vals\n",
              "0        c1     1\n",
              "1        c2     3\n",
              "2        c2     5\n",
              "3        c1     1\n",
              "4        c3     3\n",
              "5        c1     2\n",
              "6        c2     6\n",
              "7        c3     7\n",
              "8        c2     5\n",
              "9        c3     2"
            ]
          },
          "metadata": {
            "tags": []
          },
          "execution_count": 124
        }
      ]
    },
    {
      "cell_type": "code",
      "metadata": {
        "colab": {
          "base_uri": "https://localhost:8080/"
        },
        "id": "AGKmTgOOjW8L",
        "outputId": "101f6969-3f0a-46a9-bd27-a3e1217c99e7"
      },
      "source": [
        "for index_val, value in grouped2.iteritems():\r\n",
        "  print(class_name, \":\", sub_class_name, \":\", value)"
      ],
      "execution_count": null,
      "outputs": [
        {
          "output_type": "stream",
          "text": [
            "class 2 : c3 : 0    c1\n",
            "1    c2\n",
            "2    c2\n",
            "3    c1\n",
            "4    c3\n",
            "5    c1\n",
            "6    c2\n",
            "7    c3\n",
            "8    c2\n",
            "9    c3\n",
            "Name: sub_class, dtype: object\n",
            "class 2 : c3 : 0    1\n",
            "1    3\n",
            "2    5\n",
            "3    1\n",
            "4    3\n",
            "5    2\n",
            "6    6\n",
            "7    7\n",
            "8    5\n",
            "9    2\n",
            "Name: vals, dtype: int64\n"
          ],
          "name": "stdout"
        }
      ]
    },
    {
      "cell_type": "code",
      "metadata": {
        "colab": {
          "base_uri": "https://localhost:8080/"
        },
        "id": "5x_ep8lYhEEv",
        "outputId": "e6976b0e-e908-4452-d52b-4bdeef97f968"
      },
      "source": [
        "for index_val, value in grouped.iteritems():\r\n",
        "  #class_name, sub_class_name = index_val\r\n",
        "  #print(class_name, \":\", sub_class_name, \":\", value)\r\n",
        "  print(index_val)"
      ],
      "execution_count": null,
      "outputs": [
        {
          "output_type": "stream",
          "text": [
            "('class 1', 'c1')\n",
            "('class 1', 'c2')\n",
            "('class 1', 'c3')\n",
            "('class 2', 'c1')\n",
            "('class 2', 'c2')\n",
            "('class 2', 'c3')\n"
          ],
          "name": "stdout"
        }
      ]
    },
    {
      "cell_type": "code",
      "metadata": {
        "colab": {
          "base_uri": "https://localhost:8080/"
        },
        "id": "i4TL6iXmhiCM",
        "outputId": "08186ac2-fa02-4756-c79b-ab4ca2002d61"
      },
      "source": [
        "for index_val, value in grouped.iteritems():\r\n",
        "  class_name, sub_class_name = index_val\r\n",
        "  print(class_name, \":\", sub_class_name, \":\", value)"
      ],
      "execution_count": null,
      "outputs": [
        {
          "output_type": "stream",
          "text": [
            "class 1 : c1 : 1.0\n",
            "class 1 : c2 : 4.0\n",
            "class 1 : c3 : 3.0\n",
            "class 2 : c1 : 2.0\n",
            "class 2 : c2 : 5.5\n",
            "class 2 : c3 : 4.5\n"
          ],
          "name": "stdout"
        }
      ]
    },
    {
      "cell_type": "markdown",
      "metadata": {
        "id": "B6WJ99XswWfn"
      },
      "source": [
        "### <font color=\"green\">1.3 Challenges</font>"
      ]
    },
    {
      "cell_type": "code",
      "metadata": {
        "id": "HVLYNjFNwY39",
        "colab": {
          "base_uri": "https://localhost:8080/",
          "height": 204
        },
        "outputId": "32649e42-11c7-420c-fe96-91e7693b138f"
      },
      "source": [
        "# Challenge 1\n",
        "# Create the Dataframes from the given Dictionaries below and then merge them \n",
        "#\n",
        "dt1 = {\n",
        "        'subject_id': ['1', '2', '3', '4', '5'],\n",
        "        'first_name': ['Fridah', 'Kwasi', 'Victor', 'Alice', 'Audrey'], \n",
        "        'last_name': ['Njeri', 'Adi Dako', 'Oliech', 'Tergat', 'Cheng']}\n",
        "\n",
        "dt2 = {\n",
        "        'subject_id': ['4', '5', '6', '7', '8'],\n",
        "        'first_name': ['Michael', 'Judy', 'Lenny', 'Mohammed', 'Betty'], \n",
        "        'last_name': ['Macharia', 'Waithera', 'Baraza', 'Ali', 'Kyalo']}\n",
        "\n",
        "#OUR CODE GOES HERE\n",
        "\n",
        "df_11 = pd.DataFrame(dt1)\n",
        "df_11"
      ],
      "execution_count": null,
      "outputs": [
        {
          "output_type": "execute_result",
          "data": {
            "text/html": [
              "<div>\n",
              "<style scoped>\n",
              "    .dataframe tbody tr th:only-of-type {\n",
              "        vertical-align: middle;\n",
              "    }\n",
              "\n",
              "    .dataframe tbody tr th {\n",
              "        vertical-align: top;\n",
              "    }\n",
              "\n",
              "    .dataframe thead th {\n",
              "        text-align: right;\n",
              "    }\n",
              "</style>\n",
              "<table border=\"1\" class=\"dataframe\">\n",
              "  <thead>\n",
              "    <tr style=\"text-align: right;\">\n",
              "      <th></th>\n",
              "      <th>subject_id</th>\n",
              "      <th>first_name</th>\n",
              "      <th>last_name</th>\n",
              "    </tr>\n",
              "  </thead>\n",
              "  <tbody>\n",
              "    <tr>\n",
              "      <th>0</th>\n",
              "      <td>1</td>\n",
              "      <td>Fridah</td>\n",
              "      <td>Njeri</td>\n",
              "    </tr>\n",
              "    <tr>\n",
              "      <th>1</th>\n",
              "      <td>2</td>\n",
              "      <td>Kwasi</td>\n",
              "      <td>Adi Dako</td>\n",
              "    </tr>\n",
              "    <tr>\n",
              "      <th>2</th>\n",
              "      <td>3</td>\n",
              "      <td>Victor</td>\n",
              "      <td>Oliech</td>\n",
              "    </tr>\n",
              "    <tr>\n",
              "      <th>3</th>\n",
              "      <td>4</td>\n",
              "      <td>Alice</td>\n",
              "      <td>Tergat</td>\n",
              "    </tr>\n",
              "    <tr>\n",
              "      <th>4</th>\n",
              "      <td>5</td>\n",
              "      <td>Audrey</td>\n",
              "      <td>Cheng</td>\n",
              "    </tr>\n",
              "  </tbody>\n",
              "</table>\n",
              "</div>"
            ],
            "text/plain": [
              "  subject_id first_name last_name\n",
              "0          1     Fridah     Njeri\n",
              "1          2      Kwasi  Adi Dako\n",
              "2          3     Victor    Oliech\n",
              "3          4      Alice    Tergat\n",
              "4          5     Audrey     Cheng"
            ]
          },
          "metadata": {
            "tags": []
          },
          "execution_count": 131
        }
      ]
    },
    {
      "cell_type": "code",
      "metadata": {
        "colab": {
          "base_uri": "https://localhost:8080/",
          "height": 204
        },
        "id": "qfAgGKaQmShN",
        "outputId": "5439a1ab-f979-4967-bac2-f9ccb4575aa6"
      },
      "source": [
        "df_22 = pd.DataFrame(dt2)\r\n",
        "df_22"
      ],
      "execution_count": null,
      "outputs": [
        {
          "output_type": "execute_result",
          "data": {
            "text/html": [
              "<div>\n",
              "<style scoped>\n",
              "    .dataframe tbody tr th:only-of-type {\n",
              "        vertical-align: middle;\n",
              "    }\n",
              "\n",
              "    .dataframe tbody tr th {\n",
              "        vertical-align: top;\n",
              "    }\n",
              "\n",
              "    .dataframe thead th {\n",
              "        text-align: right;\n",
              "    }\n",
              "</style>\n",
              "<table border=\"1\" class=\"dataframe\">\n",
              "  <thead>\n",
              "    <tr style=\"text-align: right;\">\n",
              "      <th></th>\n",
              "      <th>subject_id</th>\n",
              "      <th>first_name</th>\n",
              "      <th>last_name</th>\n",
              "    </tr>\n",
              "  </thead>\n",
              "  <tbody>\n",
              "    <tr>\n",
              "      <th>0</th>\n",
              "      <td>4</td>\n",
              "      <td>Michael</td>\n",
              "      <td>Macharia</td>\n",
              "    </tr>\n",
              "    <tr>\n",
              "      <th>1</th>\n",
              "      <td>5</td>\n",
              "      <td>Judy</td>\n",
              "      <td>Waithera</td>\n",
              "    </tr>\n",
              "    <tr>\n",
              "      <th>2</th>\n",
              "      <td>6</td>\n",
              "      <td>Lenny</td>\n",
              "      <td>Baraza</td>\n",
              "    </tr>\n",
              "    <tr>\n",
              "      <th>3</th>\n",
              "      <td>7</td>\n",
              "      <td>Mohammed</td>\n",
              "      <td>Ali</td>\n",
              "    </tr>\n",
              "    <tr>\n",
              "      <th>4</th>\n",
              "      <td>8</td>\n",
              "      <td>Betty</td>\n",
              "      <td>Kyalo</td>\n",
              "    </tr>\n",
              "  </tbody>\n",
              "</table>\n",
              "</div>"
            ],
            "text/plain": [
              "  subject_id first_name last_name\n",
              "0          4    Michael  Macharia\n",
              "1          5       Judy  Waithera\n",
              "2          6      Lenny    Baraza\n",
              "3          7   Mohammed       Ali\n",
              "4          8      Betty     Kyalo"
            ]
          },
          "metadata": {
            "tags": []
          },
          "execution_count": 132
        }
      ]
    },
    {
      "cell_type": "code",
      "metadata": {
        "colab": {
          "base_uri": "https://localhost:8080/",
          "height": 297
        },
        "id": "mVEu5Fn5r-ED",
        "outputId": "d1b7111e-8d54-48f6-a3b7-bde89669a71e"
      },
      "source": [
        "df_11.merge(df_22 , on = 'subject_id' , how='outer')"
      ],
      "execution_count": null,
      "outputs": [
        {
          "output_type": "execute_result",
          "data": {
            "text/html": [
              "<div>\n",
              "<style scoped>\n",
              "    .dataframe tbody tr th:only-of-type {\n",
              "        vertical-align: middle;\n",
              "    }\n",
              "\n",
              "    .dataframe tbody tr th {\n",
              "        vertical-align: top;\n",
              "    }\n",
              "\n",
              "    .dataframe thead th {\n",
              "        text-align: right;\n",
              "    }\n",
              "</style>\n",
              "<table border=\"1\" class=\"dataframe\">\n",
              "  <thead>\n",
              "    <tr style=\"text-align: right;\">\n",
              "      <th></th>\n",
              "      <th>subject_id</th>\n",
              "      <th>first_name_x</th>\n",
              "      <th>last_name_x</th>\n",
              "      <th>first_name_y</th>\n",
              "      <th>last_name_y</th>\n",
              "    </tr>\n",
              "  </thead>\n",
              "  <tbody>\n",
              "    <tr>\n",
              "      <th>0</th>\n",
              "      <td>1</td>\n",
              "      <td>Fridah</td>\n",
              "      <td>Njeri</td>\n",
              "      <td>NaN</td>\n",
              "      <td>NaN</td>\n",
              "    </tr>\n",
              "    <tr>\n",
              "      <th>1</th>\n",
              "      <td>2</td>\n",
              "      <td>Kwasi</td>\n",
              "      <td>Adi Dako</td>\n",
              "      <td>NaN</td>\n",
              "      <td>NaN</td>\n",
              "    </tr>\n",
              "    <tr>\n",
              "      <th>2</th>\n",
              "      <td>3</td>\n",
              "      <td>Victor</td>\n",
              "      <td>Oliech</td>\n",
              "      <td>NaN</td>\n",
              "      <td>NaN</td>\n",
              "    </tr>\n",
              "    <tr>\n",
              "      <th>3</th>\n",
              "      <td>4</td>\n",
              "      <td>Alice</td>\n",
              "      <td>Tergat</td>\n",
              "      <td>Michael</td>\n",
              "      <td>Macharia</td>\n",
              "    </tr>\n",
              "    <tr>\n",
              "      <th>4</th>\n",
              "      <td>5</td>\n",
              "      <td>Audrey</td>\n",
              "      <td>Cheng</td>\n",
              "      <td>Judy</td>\n",
              "      <td>Waithera</td>\n",
              "    </tr>\n",
              "    <tr>\n",
              "      <th>5</th>\n",
              "      <td>6</td>\n",
              "      <td>NaN</td>\n",
              "      <td>NaN</td>\n",
              "      <td>Lenny</td>\n",
              "      <td>Baraza</td>\n",
              "    </tr>\n",
              "    <tr>\n",
              "      <th>6</th>\n",
              "      <td>7</td>\n",
              "      <td>NaN</td>\n",
              "      <td>NaN</td>\n",
              "      <td>Mohammed</td>\n",
              "      <td>Ali</td>\n",
              "    </tr>\n",
              "    <tr>\n",
              "      <th>7</th>\n",
              "      <td>8</td>\n",
              "      <td>NaN</td>\n",
              "      <td>NaN</td>\n",
              "      <td>Betty</td>\n",
              "      <td>Kyalo</td>\n",
              "    </tr>\n",
              "  </tbody>\n",
              "</table>\n",
              "</div>"
            ],
            "text/plain": [
              "  subject_id first_name_x last_name_x first_name_y last_name_y\n",
              "0          1       Fridah       Njeri          NaN         NaN\n",
              "1          2        Kwasi    Adi Dako          NaN         NaN\n",
              "2          3       Victor      Oliech          NaN         NaN\n",
              "3          4        Alice      Tergat      Michael    Macharia\n",
              "4          5       Audrey       Cheng         Judy    Waithera\n",
              "5          6          NaN         NaN        Lenny      Baraza\n",
              "6          7          NaN         NaN     Mohammed         Ali\n",
              "7          8          NaN         NaN        Betty       Kyalo"
            ]
          },
          "metadata": {
            "tags": []
          },
          "execution_count": 194
        }
      ]
    },
    {
      "cell_type": "code",
      "metadata": {
        "colab": {
          "base_uri": "https://localhost:8080/",
          "height": 359
        },
        "id": "WBXri9nHmWrx",
        "outputId": "f7aa123d-1f51-4b93-ac87-4fa9862fd7a4"
      },
      "source": [
        " pd.concat((df_11 , df_22) , axis=0)"
      ],
      "execution_count": null,
      "outputs": [
        {
          "output_type": "execute_result",
          "data": {
            "text/html": [
              "<div>\n",
              "<style scoped>\n",
              "    .dataframe tbody tr th:only-of-type {\n",
              "        vertical-align: middle;\n",
              "    }\n",
              "\n",
              "    .dataframe tbody tr th {\n",
              "        vertical-align: top;\n",
              "    }\n",
              "\n",
              "    .dataframe thead th {\n",
              "        text-align: right;\n",
              "    }\n",
              "</style>\n",
              "<table border=\"1\" class=\"dataframe\">\n",
              "  <thead>\n",
              "    <tr style=\"text-align: right;\">\n",
              "      <th></th>\n",
              "      <th>subject_id</th>\n",
              "      <th>first_name</th>\n",
              "      <th>last_name</th>\n",
              "    </tr>\n",
              "  </thead>\n",
              "  <tbody>\n",
              "    <tr>\n",
              "      <th>0</th>\n",
              "      <td>1</td>\n",
              "      <td>Fridah</td>\n",
              "      <td>Njeri</td>\n",
              "    </tr>\n",
              "    <tr>\n",
              "      <th>1</th>\n",
              "      <td>2</td>\n",
              "      <td>Kwasi</td>\n",
              "      <td>Adi Dako</td>\n",
              "    </tr>\n",
              "    <tr>\n",
              "      <th>2</th>\n",
              "      <td>3</td>\n",
              "      <td>Victor</td>\n",
              "      <td>Oliech</td>\n",
              "    </tr>\n",
              "    <tr>\n",
              "      <th>3</th>\n",
              "      <td>4</td>\n",
              "      <td>Alice</td>\n",
              "      <td>Tergat</td>\n",
              "    </tr>\n",
              "    <tr>\n",
              "      <th>4</th>\n",
              "      <td>5</td>\n",
              "      <td>Audrey</td>\n",
              "      <td>Cheng</td>\n",
              "    </tr>\n",
              "    <tr>\n",
              "      <th>5</th>\n",
              "      <td>4</td>\n",
              "      <td>Michael</td>\n",
              "      <td>Macharia</td>\n",
              "    </tr>\n",
              "    <tr>\n",
              "      <th>6</th>\n",
              "      <td>5</td>\n",
              "      <td>Judy</td>\n",
              "      <td>Waithera</td>\n",
              "    </tr>\n",
              "    <tr>\n",
              "      <th>7</th>\n",
              "      <td>6</td>\n",
              "      <td>Lenny</td>\n",
              "      <td>Baraza</td>\n",
              "    </tr>\n",
              "    <tr>\n",
              "      <th>8</th>\n",
              "      <td>7</td>\n",
              "      <td>Mohammed</td>\n",
              "      <td>Ali</td>\n",
              "    </tr>\n",
              "    <tr>\n",
              "      <th>9</th>\n",
              "      <td>8</td>\n",
              "      <td>Betty</td>\n",
              "      <td>Kyalo</td>\n",
              "    </tr>\n",
              "  </tbody>\n",
              "</table>\n",
              "</div>"
            ],
            "text/plain": [
              "  subject_id first_name last_name\n",
              "0          1     Fridah     Njeri\n",
              "1          2      Kwasi  Adi Dako\n",
              "2          3     Victor    Oliech\n",
              "3          4      Alice    Tergat\n",
              "4          5     Audrey     Cheng\n",
              "5          4    Michael  Macharia\n",
              "6          5       Judy  Waithera\n",
              "7          6      Lenny    Baraza\n",
              "8          7   Mohammed       Ali\n",
              "9          8      Betty     Kyalo"
            ]
          },
          "metadata": {
            "tags": []
          },
          "execution_count": 150
        }
      ]
    },
    {
      "cell_type": "code",
      "metadata": {
        "id": "89ZvjJrEpIsn"
      },
      "source": [
        ""
      ],
      "execution_count": null,
      "outputs": []
    },
    {
      "cell_type": "code",
      "metadata": {
        "id": "g4l9Z5MWwYo6",
        "colab": {
          "base_uri": "https://localhost:8080/",
          "height": 359
        },
        "outputId": "a61981ac-b5b1-4311-ba59-93eb45670d93"
      },
      "source": [
        "# Challenge 2\n",
        "# Using dt1 and dt2 dictionaries from Challenge 1, create another Dataframe from\n",
        "# the dt3 Dictionary below. Then merge all of them along the subject_id value\n",
        "# i.e. Columns from left; subject_id, first_name, last_name, test_id\n",
        "dt3 = {\n",
        "        'subject_id': ['1', '2', '3', '4', '5', '7', '8', '9', '10', '11'],\n",
        "        'test_id': [51, 15, 15, 61, 16, 14, 15, 1, 61, 16]}\n",
        "\n",
        "#OUR CODE GOES HERE\n",
        "df_33 = pd.DataFrame(dt3)\n",
        "df_33"
      ],
      "execution_count": null,
      "outputs": [
        {
          "output_type": "execute_result",
          "data": {
            "text/html": [
              "<div>\n",
              "<style scoped>\n",
              "    .dataframe tbody tr th:only-of-type {\n",
              "        vertical-align: middle;\n",
              "    }\n",
              "\n",
              "    .dataframe tbody tr th {\n",
              "        vertical-align: top;\n",
              "    }\n",
              "\n",
              "    .dataframe thead th {\n",
              "        text-align: right;\n",
              "    }\n",
              "</style>\n",
              "<table border=\"1\" class=\"dataframe\">\n",
              "  <thead>\n",
              "    <tr style=\"text-align: right;\">\n",
              "      <th></th>\n",
              "      <th>subject_id</th>\n",
              "      <th>test_id</th>\n",
              "    </tr>\n",
              "  </thead>\n",
              "  <tbody>\n",
              "    <tr>\n",
              "      <th>0</th>\n",
              "      <td>1</td>\n",
              "      <td>51</td>\n",
              "    </tr>\n",
              "    <tr>\n",
              "      <th>1</th>\n",
              "      <td>2</td>\n",
              "      <td>15</td>\n",
              "    </tr>\n",
              "    <tr>\n",
              "      <th>2</th>\n",
              "      <td>3</td>\n",
              "      <td>15</td>\n",
              "    </tr>\n",
              "    <tr>\n",
              "      <th>3</th>\n",
              "      <td>4</td>\n",
              "      <td>61</td>\n",
              "    </tr>\n",
              "    <tr>\n",
              "      <th>4</th>\n",
              "      <td>5</td>\n",
              "      <td>16</td>\n",
              "    </tr>\n",
              "    <tr>\n",
              "      <th>5</th>\n",
              "      <td>7</td>\n",
              "      <td>14</td>\n",
              "    </tr>\n",
              "    <tr>\n",
              "      <th>6</th>\n",
              "      <td>8</td>\n",
              "      <td>15</td>\n",
              "    </tr>\n",
              "    <tr>\n",
              "      <th>7</th>\n",
              "      <td>9</td>\n",
              "      <td>1</td>\n",
              "    </tr>\n",
              "    <tr>\n",
              "      <th>8</th>\n",
              "      <td>10</td>\n",
              "      <td>61</td>\n",
              "    </tr>\n",
              "    <tr>\n",
              "      <th>9</th>\n",
              "      <td>11</td>\n",
              "      <td>16</td>\n",
              "    </tr>\n",
              "  </tbody>\n",
              "</table>\n",
              "</div>"
            ],
            "text/plain": [
              "  subject_id  test_id\n",
              "0          1       51\n",
              "1          2       15\n",
              "2          3       15\n",
              "3          4       61\n",
              "4          5       16\n",
              "5          7       14\n",
              "6          8       15\n",
              "7          9        1\n",
              "8         10       61\n",
              "9         11       16"
            ]
          },
          "metadata": {
            "tags": []
          },
          "execution_count": 154
        }
      ]
    },
    {
      "cell_type": "code",
      "metadata": {
        "colab": {
          "base_uri": "https://localhost:8080/",
          "height": 390
        },
        "id": "HVZV-siutQVt",
        "outputId": "c9b2f81d-c64c-47cc-ee84-ef33f7087a1a"
      },
      "source": [
        "df_11.merge(df_22 , on = 'subject_id' , how='outer').merge(df_33 , on = 'subject_id' , how='outer')"
      ],
      "execution_count": null,
      "outputs": [
        {
          "output_type": "execute_result",
          "data": {
            "text/html": [
              "<div>\n",
              "<style scoped>\n",
              "    .dataframe tbody tr th:only-of-type {\n",
              "        vertical-align: middle;\n",
              "    }\n",
              "\n",
              "    .dataframe tbody tr th {\n",
              "        vertical-align: top;\n",
              "    }\n",
              "\n",
              "    .dataframe thead th {\n",
              "        text-align: right;\n",
              "    }\n",
              "</style>\n",
              "<table border=\"1\" class=\"dataframe\">\n",
              "  <thead>\n",
              "    <tr style=\"text-align: right;\">\n",
              "      <th></th>\n",
              "      <th>subject_id</th>\n",
              "      <th>first_name_x</th>\n",
              "      <th>last_name_x</th>\n",
              "      <th>first_name_y</th>\n",
              "      <th>last_name_y</th>\n",
              "      <th>test_id</th>\n",
              "    </tr>\n",
              "  </thead>\n",
              "  <tbody>\n",
              "    <tr>\n",
              "      <th>0</th>\n",
              "      <td>1</td>\n",
              "      <td>Fridah</td>\n",
              "      <td>Njeri</td>\n",
              "      <td>NaN</td>\n",
              "      <td>NaN</td>\n",
              "      <td>51.0</td>\n",
              "    </tr>\n",
              "    <tr>\n",
              "      <th>1</th>\n",
              "      <td>2</td>\n",
              "      <td>Kwasi</td>\n",
              "      <td>Adi Dako</td>\n",
              "      <td>NaN</td>\n",
              "      <td>NaN</td>\n",
              "      <td>15.0</td>\n",
              "    </tr>\n",
              "    <tr>\n",
              "      <th>2</th>\n",
              "      <td>3</td>\n",
              "      <td>Victor</td>\n",
              "      <td>Oliech</td>\n",
              "      <td>NaN</td>\n",
              "      <td>NaN</td>\n",
              "      <td>15.0</td>\n",
              "    </tr>\n",
              "    <tr>\n",
              "      <th>3</th>\n",
              "      <td>4</td>\n",
              "      <td>Alice</td>\n",
              "      <td>Tergat</td>\n",
              "      <td>Michael</td>\n",
              "      <td>Macharia</td>\n",
              "      <td>61.0</td>\n",
              "    </tr>\n",
              "    <tr>\n",
              "      <th>4</th>\n",
              "      <td>5</td>\n",
              "      <td>Audrey</td>\n",
              "      <td>Cheng</td>\n",
              "      <td>Judy</td>\n",
              "      <td>Waithera</td>\n",
              "      <td>16.0</td>\n",
              "    </tr>\n",
              "    <tr>\n",
              "      <th>5</th>\n",
              "      <td>6</td>\n",
              "      <td>NaN</td>\n",
              "      <td>NaN</td>\n",
              "      <td>Lenny</td>\n",
              "      <td>Baraza</td>\n",
              "      <td>NaN</td>\n",
              "    </tr>\n",
              "    <tr>\n",
              "      <th>6</th>\n",
              "      <td>7</td>\n",
              "      <td>NaN</td>\n",
              "      <td>NaN</td>\n",
              "      <td>Mohammed</td>\n",
              "      <td>Ali</td>\n",
              "      <td>14.0</td>\n",
              "    </tr>\n",
              "    <tr>\n",
              "      <th>7</th>\n",
              "      <td>8</td>\n",
              "      <td>NaN</td>\n",
              "      <td>NaN</td>\n",
              "      <td>Betty</td>\n",
              "      <td>Kyalo</td>\n",
              "      <td>15.0</td>\n",
              "    </tr>\n",
              "    <tr>\n",
              "      <th>8</th>\n",
              "      <td>9</td>\n",
              "      <td>NaN</td>\n",
              "      <td>NaN</td>\n",
              "      <td>NaN</td>\n",
              "      <td>NaN</td>\n",
              "      <td>1.0</td>\n",
              "    </tr>\n",
              "    <tr>\n",
              "      <th>9</th>\n",
              "      <td>10</td>\n",
              "      <td>NaN</td>\n",
              "      <td>NaN</td>\n",
              "      <td>NaN</td>\n",
              "      <td>NaN</td>\n",
              "      <td>61.0</td>\n",
              "    </tr>\n",
              "    <tr>\n",
              "      <th>10</th>\n",
              "      <td>11</td>\n",
              "      <td>NaN</td>\n",
              "      <td>NaN</td>\n",
              "      <td>NaN</td>\n",
              "      <td>NaN</td>\n",
              "      <td>16.0</td>\n",
              "    </tr>\n",
              "  </tbody>\n",
              "</table>\n",
              "</div>"
            ],
            "text/plain": [
              "   subject_id first_name_x last_name_x first_name_y last_name_y  test_id\n",
              "0           1       Fridah       Njeri          NaN         NaN     51.0\n",
              "1           2        Kwasi    Adi Dako          NaN         NaN     15.0\n",
              "2           3       Victor      Oliech          NaN         NaN     15.0\n",
              "3           4        Alice      Tergat      Michael    Macharia     61.0\n",
              "4           5       Audrey       Cheng         Judy    Waithera     16.0\n",
              "5           6          NaN         NaN        Lenny      Baraza      NaN\n",
              "6           7          NaN         NaN     Mohammed         Ali     14.0\n",
              "7           8          NaN         NaN        Betty       Kyalo     15.0\n",
              "8           9          NaN         NaN          NaN         NaN      1.0\n",
              "9          10          NaN         NaN          NaN         NaN     61.0\n",
              "10         11          NaN         NaN          NaN         NaN     16.0"
            ]
          },
          "metadata": {
            "tags": []
          },
          "execution_count": 164
        }
      ]
    },
    {
      "cell_type": "code",
      "metadata": {
        "id": "C9Xay1HLwYes"
      },
      "source": [
        "# Challenge 3\n",
        "# Create dataframes using dt1 and dt2 from Challenge 1 then merge based on indexes\n",
        "#OUR CODE GOES HERE\n",
        "df_dt1 = pd.DataFrame(dt1)\n",
        "df_dt2 = pd.DataFrame(dt2)"
      ],
      "execution_count": null,
      "outputs": []
    },
    {
      "cell_type": "code",
      "metadata": {
        "colab": {
          "base_uri": "https://localhost:8080/",
          "height": 204
        },
        "id": "jEwJihfpSeLO",
        "outputId": "17324a14-07bf-4150-ba14-3a66f46c78c8"
      },
      "source": [
        "df_dt1"
      ],
      "execution_count": null,
      "outputs": [
        {
          "output_type": "execute_result",
          "data": {
            "text/html": [
              "<div>\n",
              "<style scoped>\n",
              "    .dataframe tbody tr th:only-of-type {\n",
              "        vertical-align: middle;\n",
              "    }\n",
              "\n",
              "    .dataframe tbody tr th {\n",
              "        vertical-align: top;\n",
              "    }\n",
              "\n",
              "    .dataframe thead th {\n",
              "        text-align: right;\n",
              "    }\n",
              "</style>\n",
              "<table border=\"1\" class=\"dataframe\">\n",
              "  <thead>\n",
              "    <tr style=\"text-align: right;\">\n",
              "      <th></th>\n",
              "      <th>subject_id</th>\n",
              "      <th>first_name</th>\n",
              "      <th>last_name</th>\n",
              "    </tr>\n",
              "  </thead>\n",
              "  <tbody>\n",
              "    <tr>\n",
              "      <th>0</th>\n",
              "      <td>1</td>\n",
              "      <td>Fridah</td>\n",
              "      <td>Njeri</td>\n",
              "    </tr>\n",
              "    <tr>\n",
              "      <th>1</th>\n",
              "      <td>2</td>\n",
              "      <td>Kwasi</td>\n",
              "      <td>Adi Dako</td>\n",
              "    </tr>\n",
              "    <tr>\n",
              "      <th>2</th>\n",
              "      <td>3</td>\n",
              "      <td>Victor</td>\n",
              "      <td>Oliech</td>\n",
              "    </tr>\n",
              "    <tr>\n",
              "      <th>3</th>\n",
              "      <td>4</td>\n",
              "      <td>Alice</td>\n",
              "      <td>Tergat</td>\n",
              "    </tr>\n",
              "    <tr>\n",
              "      <th>4</th>\n",
              "      <td>5</td>\n",
              "      <td>Audrey</td>\n",
              "      <td>Cheng</td>\n",
              "    </tr>\n",
              "  </tbody>\n",
              "</table>\n",
              "</div>"
            ],
            "text/plain": [
              "  subject_id first_name last_name\n",
              "0          1     Fridah     Njeri\n",
              "1          2      Kwasi  Adi Dako\n",
              "2          3     Victor    Oliech\n",
              "3          4      Alice    Tergat\n",
              "4          5     Audrey     Cheng"
            ]
          },
          "metadata": {
            "tags": []
          },
          "execution_count": 198
        }
      ]
    },
    {
      "cell_type": "code",
      "metadata": {
        "colab": {
          "base_uri": "https://localhost:8080/",
          "height": 204
        },
        "id": "qpDGR4feSykx",
        "outputId": "76669056-a2b0-489b-e26f-4f85c63dc848"
      },
      "source": [
        "df_dt2"
      ],
      "execution_count": null,
      "outputs": [
        {
          "output_type": "execute_result",
          "data": {
            "text/html": [
              "<div>\n",
              "<style scoped>\n",
              "    .dataframe tbody tr th:only-of-type {\n",
              "        vertical-align: middle;\n",
              "    }\n",
              "\n",
              "    .dataframe tbody tr th {\n",
              "        vertical-align: top;\n",
              "    }\n",
              "\n",
              "    .dataframe thead th {\n",
              "        text-align: right;\n",
              "    }\n",
              "</style>\n",
              "<table border=\"1\" class=\"dataframe\">\n",
              "  <thead>\n",
              "    <tr style=\"text-align: right;\">\n",
              "      <th></th>\n",
              "      <th>subject_id</th>\n",
              "      <th>first_name</th>\n",
              "      <th>last_name</th>\n",
              "    </tr>\n",
              "  </thead>\n",
              "  <tbody>\n",
              "    <tr>\n",
              "      <th>0</th>\n",
              "      <td>4</td>\n",
              "      <td>Michael</td>\n",
              "      <td>Macharia</td>\n",
              "    </tr>\n",
              "    <tr>\n",
              "      <th>1</th>\n",
              "      <td>5</td>\n",
              "      <td>Judy</td>\n",
              "      <td>Waithera</td>\n",
              "    </tr>\n",
              "    <tr>\n",
              "      <th>2</th>\n",
              "      <td>6</td>\n",
              "      <td>Lenny</td>\n",
              "      <td>Baraza</td>\n",
              "    </tr>\n",
              "    <tr>\n",
              "      <th>3</th>\n",
              "      <td>7</td>\n",
              "      <td>Mohammed</td>\n",
              "      <td>Ali</td>\n",
              "    </tr>\n",
              "    <tr>\n",
              "      <th>4</th>\n",
              "      <td>8</td>\n",
              "      <td>Betty</td>\n",
              "      <td>Kyalo</td>\n",
              "    </tr>\n",
              "  </tbody>\n",
              "</table>\n",
              "</div>"
            ],
            "text/plain": [
              "  subject_id first_name last_name\n",
              "0          4    Michael  Macharia\n",
              "1          5       Judy  Waithera\n",
              "2          6      Lenny    Baraza\n",
              "3          7   Mohammed       Ali\n",
              "4          8      Betty     Kyalo"
            ]
          },
          "metadata": {
            "tags": []
          },
          "execution_count": 199
        }
      ]
    },
    {
      "cell_type": "code",
      "metadata": {
        "colab": {
          "base_uri": "https://localhost:8080/",
          "height": 204
        },
        "id": "qCjdi-7bS7pN",
        "outputId": "356f25dd-2433-4237-9348-89b28463da52"
      },
      "source": [
        "df_dt1.merge(df_dt2 , left_index=True , right_index=True )"
      ],
      "execution_count": null,
      "outputs": [
        {
          "output_type": "execute_result",
          "data": {
            "text/html": [
              "<div>\n",
              "<style scoped>\n",
              "    .dataframe tbody tr th:only-of-type {\n",
              "        vertical-align: middle;\n",
              "    }\n",
              "\n",
              "    .dataframe tbody tr th {\n",
              "        vertical-align: top;\n",
              "    }\n",
              "\n",
              "    .dataframe thead th {\n",
              "        text-align: right;\n",
              "    }\n",
              "</style>\n",
              "<table border=\"1\" class=\"dataframe\">\n",
              "  <thead>\n",
              "    <tr style=\"text-align: right;\">\n",
              "      <th></th>\n",
              "      <th>subject_id_x</th>\n",
              "      <th>first_name_x</th>\n",
              "      <th>last_name_x</th>\n",
              "      <th>subject_id_y</th>\n",
              "      <th>first_name_y</th>\n",
              "      <th>last_name_y</th>\n",
              "    </tr>\n",
              "  </thead>\n",
              "  <tbody>\n",
              "    <tr>\n",
              "      <th>0</th>\n",
              "      <td>1</td>\n",
              "      <td>Fridah</td>\n",
              "      <td>Njeri</td>\n",
              "      <td>4</td>\n",
              "      <td>Michael</td>\n",
              "      <td>Macharia</td>\n",
              "    </tr>\n",
              "    <tr>\n",
              "      <th>1</th>\n",
              "      <td>2</td>\n",
              "      <td>Kwasi</td>\n",
              "      <td>Adi Dako</td>\n",
              "      <td>5</td>\n",
              "      <td>Judy</td>\n",
              "      <td>Waithera</td>\n",
              "    </tr>\n",
              "    <tr>\n",
              "      <th>2</th>\n",
              "      <td>3</td>\n",
              "      <td>Victor</td>\n",
              "      <td>Oliech</td>\n",
              "      <td>6</td>\n",
              "      <td>Lenny</td>\n",
              "      <td>Baraza</td>\n",
              "    </tr>\n",
              "    <tr>\n",
              "      <th>3</th>\n",
              "      <td>4</td>\n",
              "      <td>Alice</td>\n",
              "      <td>Tergat</td>\n",
              "      <td>7</td>\n",
              "      <td>Mohammed</td>\n",
              "      <td>Ali</td>\n",
              "    </tr>\n",
              "    <tr>\n",
              "      <th>4</th>\n",
              "      <td>5</td>\n",
              "      <td>Audrey</td>\n",
              "      <td>Cheng</td>\n",
              "      <td>8</td>\n",
              "      <td>Betty</td>\n",
              "      <td>Kyalo</td>\n",
              "    </tr>\n",
              "  </tbody>\n",
              "</table>\n",
              "</div>"
            ],
            "text/plain": [
              "  subject_id_x first_name_x last_name_x subject_id_y first_name_y last_name_y\n",
              "0            1       Fridah       Njeri            4      Michael    Macharia\n",
              "1            2        Kwasi    Adi Dako            5         Judy    Waithera\n",
              "2            3       Victor      Oliech            6        Lenny      Baraza\n",
              "3            4        Alice      Tergat            7     Mohammed         Ali\n",
              "4            5       Audrey       Cheng            8        Betty       Kyalo"
            ]
          },
          "metadata": {
            "tags": []
          },
          "execution_count": 200
        }
      ]
    },
    {
      "cell_type": "code",
      "metadata": {
        "id": "a9mm47zkwYUY",
        "colab": {
          "base_uri": "https://localhost:8080/",
          "height": 419
        },
        "outputId": "e973f74a-e294-471e-96d9-f1c196ae5338"
      },
      "source": [
        "# Challenge 4\n",
        "# Create a dataframe from the following url (http://bit.ly/MDSTelecomData), then \n",
        "# and determine the sum of the durations per month of calls, sms and data entries.\n",
        "# Hint: Use groupby i.e. month, duration\n",
        "#OUR CODE GOES HERE\n",
        "\n",
        "df_url_MDS = \"http://bit.ly/MDSTelecomData\"\n",
        "df_MDS = pd.read_csv(df_url_MDS)\n",
        "df_MDS"
      ],
      "execution_count": null,
      "outputs": [
        {
          "output_type": "execute_result",
          "data": {
            "text/html": [
              "<div>\n",
              "<style scoped>\n",
              "    .dataframe tbody tr th:only-of-type {\n",
              "        vertical-align: middle;\n",
              "    }\n",
              "\n",
              "    .dataframe tbody tr th {\n",
              "        vertical-align: top;\n",
              "    }\n",
              "\n",
              "    .dataframe thead th {\n",
              "        text-align: right;\n",
              "    }\n",
              "</style>\n",
              "<table border=\"1\" class=\"dataframe\">\n",
              "  <thead>\n",
              "    <tr style=\"text-align: right;\">\n",
              "      <th></th>\n",
              "      <th>index</th>\n",
              "      <th>date</th>\n",
              "      <th>duration</th>\n",
              "      <th>item</th>\n",
              "      <th>month</th>\n",
              "      <th>network</th>\n",
              "      <th>network_type</th>\n",
              "    </tr>\n",
              "  </thead>\n",
              "  <tbody>\n",
              "    <tr>\n",
              "      <th>0</th>\n",
              "      <td>0</td>\n",
              "      <td>15/10/14 06:58</td>\n",
              "      <td>34.429</td>\n",
              "      <td>data</td>\n",
              "      <td>2014-11</td>\n",
              "      <td>data</td>\n",
              "      <td>data</td>\n",
              "    </tr>\n",
              "    <tr>\n",
              "      <th>1</th>\n",
              "      <td>1</td>\n",
              "      <td>15/10/14 06:58</td>\n",
              "      <td>13.000</td>\n",
              "      <td>call</td>\n",
              "      <td>2014-11</td>\n",
              "      <td>Vodafone</td>\n",
              "      <td>mobile</td>\n",
              "    </tr>\n",
              "    <tr>\n",
              "      <th>2</th>\n",
              "      <td>2</td>\n",
              "      <td>15/10/14 14:46</td>\n",
              "      <td>23.000</td>\n",
              "      <td>call</td>\n",
              "      <td>2014-11</td>\n",
              "      <td>Meteor</td>\n",
              "      <td>mobile</td>\n",
              "    </tr>\n",
              "    <tr>\n",
              "      <th>3</th>\n",
              "      <td>3</td>\n",
              "      <td>15/10/14 14:48</td>\n",
              "      <td>4.000</td>\n",
              "      <td>call</td>\n",
              "      <td>2014-11</td>\n",
              "      <td>Tesco</td>\n",
              "      <td>mobile</td>\n",
              "    </tr>\n",
              "    <tr>\n",
              "      <th>4</th>\n",
              "      <td>4</td>\n",
              "      <td>15/10/14 17:27</td>\n",
              "      <td>4.000</td>\n",
              "      <td>call</td>\n",
              "      <td>2014-11</td>\n",
              "      <td>Tesco</td>\n",
              "      <td>mobile</td>\n",
              "    </tr>\n",
              "    <tr>\n",
              "      <th>...</th>\n",
              "      <td>...</td>\n",
              "      <td>...</td>\n",
              "      <td>...</td>\n",
              "      <td>...</td>\n",
              "      <td>...</td>\n",
              "      <td>...</td>\n",
              "      <td>...</td>\n",
              "    </tr>\n",
              "    <tr>\n",
              "      <th>825</th>\n",
              "      <td>825</td>\n",
              "      <td>13/03/15 00:38</td>\n",
              "      <td>1.000</td>\n",
              "      <td>sms</td>\n",
              "      <td>2015-03</td>\n",
              "      <td>world</td>\n",
              "      <td>world</td>\n",
              "    </tr>\n",
              "    <tr>\n",
              "      <th>826</th>\n",
              "      <td>826</td>\n",
              "      <td>13/03/15 00:39</td>\n",
              "      <td>1.000</td>\n",
              "      <td>sms</td>\n",
              "      <td>2015-03</td>\n",
              "      <td>Vodafone</td>\n",
              "      <td>mobile</td>\n",
              "    </tr>\n",
              "    <tr>\n",
              "      <th>827</th>\n",
              "      <td>827</td>\n",
              "      <td>13/03/15 06:58</td>\n",
              "      <td>34.429</td>\n",
              "      <td>data</td>\n",
              "      <td>2015-03</td>\n",
              "      <td>data</td>\n",
              "      <td>data</td>\n",
              "    </tr>\n",
              "    <tr>\n",
              "      <th>828</th>\n",
              "      <td>828</td>\n",
              "      <td>14/03/15 00:13</td>\n",
              "      <td>1.000</td>\n",
              "      <td>sms</td>\n",
              "      <td>2015-03</td>\n",
              "      <td>world</td>\n",
              "      <td>world</td>\n",
              "    </tr>\n",
              "    <tr>\n",
              "      <th>829</th>\n",
              "      <td>829</td>\n",
              "      <td>14/03/15 00:16</td>\n",
              "      <td>1.000</td>\n",
              "      <td>sms</td>\n",
              "      <td>2015-03</td>\n",
              "      <td>world</td>\n",
              "      <td>world</td>\n",
              "    </tr>\n",
              "  </tbody>\n",
              "</table>\n",
              "<p>830 rows × 7 columns</p>\n",
              "</div>"
            ],
            "text/plain": [
              "     index            date  duration  item    month   network network_type\n",
              "0        0  15/10/14 06:58    34.429  data  2014-11      data         data\n",
              "1        1  15/10/14 06:58    13.000  call  2014-11  Vodafone       mobile\n",
              "2        2  15/10/14 14:46    23.000  call  2014-11    Meteor       mobile\n",
              "3        3  15/10/14 14:48     4.000  call  2014-11     Tesco       mobile\n",
              "4        4  15/10/14 17:27     4.000  call  2014-11     Tesco       mobile\n",
              "..     ...             ...       ...   ...      ...       ...          ...\n",
              "825    825  13/03/15 00:38     1.000   sms  2015-03     world        world\n",
              "826    826  13/03/15 00:39     1.000   sms  2015-03  Vodafone       mobile\n",
              "827    827  13/03/15 06:58    34.429  data  2015-03      data         data\n",
              "828    828  14/03/15 00:13     1.000   sms  2015-03     world        world\n",
              "829    829  14/03/15 00:16     1.000   sms  2015-03     world        world\n",
              "\n",
              "[830 rows x 7 columns]"
            ]
          },
          "metadata": {
            "tags": []
          },
          "execution_count": 181
        }
      ]
    },
    {
      "cell_type": "code",
      "metadata": {
        "colab": {
          "base_uri": "https://localhost:8080/",
          "height": 450
        },
        "id": "-16-pG3kVx3d",
        "outputId": "1a5aebde-262c-4c88-a9ba-48a814610ab2"
      },
      "source": [
        "df_MDS.groupby(['duration' , 'month']).mean()"
      ],
      "execution_count": null,
      "outputs": [
        {
          "output_type": "execute_result",
          "data": {
            "text/html": [
              "<div>\n",
              "<style scoped>\n",
              "    .dataframe tbody tr th:only-of-type {\n",
              "        vertical-align: middle;\n",
              "    }\n",
              "\n",
              "    .dataframe tbody tr th {\n",
              "        vertical-align: top;\n",
              "    }\n",
              "\n",
              "    .dataframe thead th {\n",
              "        text-align: right;\n",
              "    }\n",
              "</style>\n",
              "<table border=\"1\" class=\"dataframe\">\n",
              "  <thead>\n",
              "    <tr style=\"text-align: right;\">\n",
              "      <th></th>\n",
              "      <th></th>\n",
              "      <th>index</th>\n",
              "    </tr>\n",
              "    <tr>\n",
              "      <th>duration</th>\n",
              "      <th>month</th>\n",
              "      <th></th>\n",
              "    </tr>\n",
              "  </thead>\n",
              "  <tbody>\n",
              "    <tr>\n",
              "      <th rowspan=\"5\" valign=\"top\">1.0</th>\n",
              "      <th>2014-11</th>\n",
              "      <td>132.494737</td>\n",
              "    </tr>\n",
              "    <tr>\n",
              "      <th>2014-12</th>\n",
              "      <td>300.229167</td>\n",
              "    </tr>\n",
              "    <tr>\n",
              "      <th>2015-01</th>\n",
              "      <td>494.139535</td>\n",
              "    </tr>\n",
              "    <tr>\n",
              "      <th>2015-02</th>\n",
              "      <td>666.050000</td>\n",
              "    </tr>\n",
              "    <tr>\n",
              "      <th>2015-03</th>\n",
              "      <td>788.000000</td>\n",
              "    </tr>\n",
              "    <tr>\n",
              "      <th>...</th>\n",
              "      <th>...</th>\n",
              "      <td>...</td>\n",
              "    </tr>\n",
              "    <tr>\n",
              "      <th>1863.0</th>\n",
              "      <th>2015-02</th>\n",
              "      <td>648.000000</td>\n",
              "    </tr>\n",
              "    <tr>\n",
              "      <th>1940.0</th>\n",
              "      <th>2014-11</th>\n",
              "      <td>59.000000</td>\n",
              "    </tr>\n",
              "    <tr>\n",
              "      <th>2120.0</th>\n",
              "      <th>2014-12</th>\n",
              "      <td>252.000000</td>\n",
              "    </tr>\n",
              "    <tr>\n",
              "      <th>2328.0</th>\n",
              "      <th>2015-03</th>\n",
              "      <td>742.000000</td>\n",
              "    </tr>\n",
              "    <tr>\n",
              "      <th>10528.0</th>\n",
              "      <th>2015-03</th>\n",
              "      <td>816.000000</td>\n",
              "    </tr>\n",
              "  </tbody>\n",
              "</table>\n",
              "<p>324 rows × 1 columns</p>\n",
              "</div>"
            ],
            "text/plain": [
              "                       index\n",
              "duration month              \n",
              "1.0      2014-11  132.494737\n",
              "         2014-12  300.229167\n",
              "         2015-01  494.139535\n",
              "         2015-02  666.050000\n",
              "         2015-03  788.000000\n",
              "...                      ...\n",
              "1863.0   2015-02  648.000000\n",
              "1940.0   2014-11   59.000000\n",
              "2120.0   2014-12  252.000000\n",
              "2328.0   2015-03  742.000000\n",
              "10528.0  2015-03  816.000000\n",
              "\n",
              "[324 rows x 1 columns]"
            ]
          },
          "metadata": {
            "tags": []
          },
          "execution_count": 184
        }
      ]
    },
    {
      "cell_type": "markdown",
      "metadata": {
        "id": "6rPtQTpLv-lG"
      },
      "source": [
        "## 1.4 Converting Columns"
      ]
    },
    {
      "cell_type": "code",
      "metadata": {
        "id": "sSTboonmwHpS",
        "colab": {
          "base_uri": "https://localhost:8080/",
          "height": 173
        },
        "outputId": "340c9679-4a82-4d83-a6a3-f5874fcdc298"
      },
      "source": [
        "# Example 1\n",
        "# \n",
        "# Converting categorical columns to integer columns using label encoding method\n",
        "# so as to prepare to use categorical data in analysis. \n",
        "# For this example, we'll use a new Python library called sklearn(sci-kit learn). \n",
        "#Sklearn is machine learning library for python that is used in data mining and data anlysis. \n",
        "# As we progress in our data science journey we'll learn more about it's capabilities. \n",
        "#You will use this throughout module 1 and 2 of core as well, and in many future projects.\n",
        "# From this library we are importing a method called LabelEncoder that will help us in converting categorical data into integers\n",
        "from sklearn.preprocessing import LabelEncoder\n",
        "label_encoder = LabelEncoder()\n",
        "\n",
        "# Scenario 1\n",
        "df = pd.DataFrame({'col_1': [1, 0, 1, 2], \n",
        "                   'col_2': [1.2, 3.1, 4.4, 5.5], \n",
        "                   'col_3': [1, 2, 3, 4], \n",
        "                   'col_4': ['a', 'b', 'c', 'd']})\n",
        "df\n",
        "# Some of the models that you will learn about in the future only deal with numbers, particularly integers\n",
        "# First, we will convert col_4 to be in integer column, and the value within it to be integers as well.\n",
        "# df.info()\n",
        "\n",
        "# This will study the column, figure out the unique categories, and assign an integer value to each starting from 0\n",
        "# This is internal to the label_encoder, it doesn't change the dataframe yet\n",
        "# label_encoder.fit(df['col_4'])\n",
        "\n",
        "# View the labels in the column\n",
        "# list(label_encoder.classes_)\n",
        "\n",
        "# This is how you transform the categories into intergers\n",
        "# df['col_4'] = label_encoder.transform(df['col_4'])\n",
        "\n",
        "# df\n",
        "# df.info()\n",
        "\n",
        "# Uncomment after running previous lines\n",
        "# Slightly different scenario: repeated categories : ['a', 'b', 'b', 'a']. In this scenario, we will have duplicates in our categories\n",
        "# df2 = pd.DataFrame({'col_1': [1, 0, 1, 2], \n",
        "#                    'col_2': [1.2, 3.1, 4.4, 5.5], \n",
        "#                    'col_3': [1, 2, 3, 4], \n",
        "#                    'col_4': ['a', 'b', 'b', 'a']})\n",
        "# df2\n",
        "\n",
        "# # Fitting the label encoder method in the column\n",
        "# label_encoder.fit(df2['col_4'])\n",
        "\n",
        "# # Converting the categories into integers\n",
        "# df2['col_4'] = label_encoder.transform(df2['col_4'])\n",
        "# # view the dataframe with the converted column\n",
        "# df2\n",
        "# df2.info()\n"
      ],
      "execution_count": null,
      "outputs": [
        {
          "output_type": "execute_result",
          "data": {
            "text/html": [
              "<div>\n",
              "<style scoped>\n",
              "    .dataframe tbody tr th:only-of-type {\n",
              "        vertical-align: middle;\n",
              "    }\n",
              "\n",
              "    .dataframe tbody tr th {\n",
              "        vertical-align: top;\n",
              "    }\n",
              "\n",
              "    .dataframe thead th {\n",
              "        text-align: right;\n",
              "    }\n",
              "</style>\n",
              "<table border=\"1\" class=\"dataframe\">\n",
              "  <thead>\n",
              "    <tr style=\"text-align: right;\">\n",
              "      <th></th>\n",
              "      <th>col_1</th>\n",
              "      <th>col_2</th>\n",
              "      <th>col_3</th>\n",
              "      <th>col_4</th>\n",
              "    </tr>\n",
              "  </thead>\n",
              "  <tbody>\n",
              "    <tr>\n",
              "      <th>0</th>\n",
              "      <td>1</td>\n",
              "      <td>1.2</td>\n",
              "      <td>1</td>\n",
              "      <td>a</td>\n",
              "    </tr>\n",
              "    <tr>\n",
              "      <th>1</th>\n",
              "      <td>0</td>\n",
              "      <td>3.1</td>\n",
              "      <td>2</td>\n",
              "      <td>b</td>\n",
              "    </tr>\n",
              "    <tr>\n",
              "      <th>2</th>\n",
              "      <td>1</td>\n",
              "      <td>4.4</td>\n",
              "      <td>3</td>\n",
              "      <td>c</td>\n",
              "    </tr>\n",
              "    <tr>\n",
              "      <th>3</th>\n",
              "      <td>2</td>\n",
              "      <td>5.5</td>\n",
              "      <td>4</td>\n",
              "      <td>d</td>\n",
              "    </tr>\n",
              "  </tbody>\n",
              "</table>\n",
              "</div>"
            ],
            "text/plain": [
              "   col_1  col_2  col_3 col_4\n",
              "0      1    1.2      1     a\n",
              "1      0    3.1      2     b\n",
              "2      1    4.4      3     c\n",
              "3      2    5.5      4     d"
            ]
          },
          "metadata": {
            "tags": []
          },
          "execution_count": 185
        }
      ]
    },
    {
      "cell_type": "code",
      "metadata": {
        "colab": {
          "base_uri": "https://localhost:8080/"
        },
        "id": "cg6T-fB5XE1F",
        "outputId": "93eda073-3d54-4dd2-ae7b-69b2a1daa328"
      },
      "source": [
        "df.info()"
      ],
      "execution_count": null,
      "outputs": [
        {
          "output_type": "stream",
          "text": [
            "<class 'pandas.core.frame.DataFrame'>\n",
            "RangeIndex: 4 entries, 0 to 3\n",
            "Data columns (total 4 columns):\n",
            " #   Column  Non-Null Count  Dtype  \n",
            "---  ------  --------------  -----  \n",
            " 0   col_1   4 non-null      int64  \n",
            " 1   col_2   4 non-null      float64\n",
            " 2   col_3   4 non-null      int64  \n",
            " 3   col_4   4 non-null      object \n",
            "dtypes: float64(1), int64(2), object(1)\n",
            "memory usage: 256.0+ bytes\n"
          ],
          "name": "stdout"
        }
      ]
    },
    {
      "cell_type": "code",
      "metadata": {
        "colab": {
          "base_uri": "https://localhost:8080/"
        },
        "id": "LSlH7-y6XTou",
        "outputId": "ec3be464-1c45-4ef8-a149-e0c67a0d88ea"
      },
      "source": [
        "label_encoder.fit(df['col_4'])"
      ],
      "execution_count": null,
      "outputs": [
        {
          "output_type": "execute_result",
          "data": {
            "text/plain": [
              "LabelEncoder()"
            ]
          },
          "metadata": {
            "tags": []
          },
          "execution_count": 187
        }
      ]
    },
    {
      "cell_type": "code",
      "metadata": {
        "colab": {
          "base_uri": "https://localhost:8080/"
        },
        "id": "CPmX3lS3Xd40",
        "outputId": "f543e1f5-5d1a-4700-8929-af0ba7f94c2b"
      },
      "source": [
        "list(label_encoder.classes_)"
      ],
      "execution_count": null,
      "outputs": [
        {
          "output_type": "execute_result",
          "data": {
            "text/plain": [
              "['a', 'b', 'c', 'd']"
            ]
          },
          "metadata": {
            "tags": []
          },
          "execution_count": 188
        }
      ]
    },
    {
      "cell_type": "code",
      "metadata": {
        "id": "ZgwK3kh5XnRg"
      },
      "source": [
        "df['col_4'] = label_encoder.transform(df['col_4'])"
      ],
      "execution_count": null,
      "outputs": []
    },
    {
      "cell_type": "code",
      "metadata": {
        "colab": {
          "base_uri": "https://localhost:8080/"
        },
        "id": "If2vjEh0XsG-",
        "outputId": "af4f317b-fae6-4a71-e3af-aebdc149e984"
      },
      "source": [
        "df\r\n",
        "df.info()"
      ],
      "execution_count": null,
      "outputs": [
        {
          "output_type": "stream",
          "text": [
            "<class 'pandas.core.frame.DataFrame'>\n",
            "RangeIndex: 4 entries, 0 to 3\n",
            "Data columns (total 4 columns):\n",
            " #   Column  Non-Null Count  Dtype  \n",
            "---  ------  --------------  -----  \n",
            " 0   col_1   4 non-null      int64  \n",
            " 1   col_2   4 non-null      float64\n",
            " 2   col_3   4 non-null      int64  \n",
            " 3   col_4   4 non-null      int64  \n",
            "dtypes: float64(1), int64(3)\n",
            "memory usage: 256.0 bytes\n"
          ],
          "name": "stdout"
        }
      ]
    },
    {
      "cell_type": "code",
      "metadata": {
        "id": "yXtjTSq4wHkN"
      },
      "source": [
        "# Example 2\n",
        "# Reducing high dimensionality from categorical column\n",
        "# We will learn more about the topic of Dimension reduction in Core\n",
        "# More info: \n",
        "# 1) http://bit.ly/DimensionReductionExample\n",
        "# 2) http://bit.ly/DimensionReductionProblem\n",
        "#\n",
        "df = pd.DataFrame({'groups': ['group 1','group 2','group 1','group 2','group 3','group 4','group 5','group 1','group 2','group 5'], \n",
        "                   'vals': [1,2,3,4,5,6,7,8,9,10]})\n",
        "df\n",
        "\n",
        "# Uncomment after running previous lines\n",
        "# df['groups'].value_counts()\n",
        "\n",
        "# Uncomment after running previous lines\n",
        "# high_dim_columns = ['groups']\n",
        "\n",
        "# Uncomment after running previous lines\n",
        "# for column in high_dim_columns:\n",
        "#    a = pd.DataFrame(df[column].value_counts() <= 2)\n",
        "#    unique_values = a.index[a[column]].values\n",
        "#    df.loc[df[column].isin(unique_values), column] = 'other'\n",
        "# df"
      ],
      "execution_count": null,
      "outputs": []
    },
    {
      "cell_type": "code",
      "metadata": {
        "id": "g37pMnfcwHfp"
      },
      "source": [
        "# Example 3\n",
        "# Converting categorical column to one hot encoded column \n",
        "# More information on hot encoding: http://bit.ly/HotEncoding\n",
        "# \n",
        "df = pd.DataFrame({'sex': ['M', 'F', 'M', 'F'], \n",
        "                   'col_2': [1.2, 3.1, 4.4, 5.5], \n",
        "                   'col_3': [1, 2, 3, 4], \n",
        "                   'col_4': ['a', 'b', 'c', 'd']})\n",
        "df\n",
        "\n",
        "# Uncomment after running previous lines\n",
        "# categorical_variables = ['sex']\n",
        "\n",
        "# Uncomment after running previous lines\n",
        "# for variable in categorical_variables:\n",
        "#    df[variable].fillna(\"Missing\", inplace=True) # Fill missing data with the word \"Missing\"\n",
        "#    dummies = pd.get_dummies(df[variable], prefix=variable) # Create array of dummies\n",
        "#    df = pd.concat([df, dummies], axis=1) # Update dataframe to include dummies and drop the main variable\n",
        "#    df.drop([variable], axis=1, inplace=True) \n",
        "# df"
      ],
      "execution_count": null,
      "outputs": []
    },
    {
      "cell_type": "markdown",
      "metadata": {
        "id": "P_089UxhwZ__"
      },
      "source": [
        "### <font color=\"green\">1.4 Challenges</font>"
      ]
    },
    {
      "cell_type": "code",
      "metadata": {
        "id": "J_EknU8IwdWN"
      },
      "source": [
        "# Challenge 1\n",
        "# Create a dataframe from the given dictionary below then\n",
        "# Convert the categorical column to an integer column\n",
        "# \n",
        "dt1 = {'patient': [1, 1, 1, 2, 2], \n",
        "        'obs': [1, 2, 3, 1, 2], \n",
        "        'diagnosis': [0, 1, 0, 1, 0],\n",
        "        'score': ['weak', 'strong', 'normal', 'weak', 'normal']}\n",
        "\n",
        "#OUR CODE GOES HERE"
      ],
      "execution_count": null,
      "outputs": []
    },
    {
      "cell_type": "code",
      "metadata": {
        "id": "O9ByukuiwdHG"
      },
      "source": [
        "# Challenge 2\n",
        "# Convert the categorical column to one hot encoded column\n",
        "# in the following list\n",
        "# \n",
        "list1 = [[\"Nairobi\", \"range\", 3000], [\"Mombasa\", \"tuktuk\", 4000], [\"Nakuru\", \"tuktuk\", 1000]]\n",
        "\n",
        "OUR CODE GOES HERE"
      ],
      "execution_count": null,
      "outputs": []
    },
    {
      "cell_type": "markdown",
      "metadata": {
        "id": "I6tAKZoawCFA"
      },
      "source": [
        "## 1.5 Splitting Columns\n"
      ]
    },
    {
      "cell_type": "code",
      "metadata": {
        "id": "9yFk2RVZwIgu",
        "colab": {
          "base_uri": "https://localhost:8080/",
          "height": 142
        },
        "outputId": "4d3f134c-e67b-4709-ef1d-ab78b1d0de91"
      },
      "source": [
        "# Example 1\n",
        "# Splitting a column using a delimiter\n",
        "# \n",
        "import pandas as pd\n",
        "\n",
        "data = [{'test': 'vikash|Arpit', 'val': 6},\n",
        "        {'test': 'vikash_1|arpit|Vinayp', 'val': 3},\n",
        "        {'test': 'arpit|vinayp', 'val': 2}]\n",
        "df = pd.DataFrame.from_dict(data, orient='columns')\n",
        "df\n",
        "\n",
        "# Uncomment after running previous lines\n",
        "#df['test'].apply(lambda x: pd.Series([i for i in reversed(x.lower().split('|'))]))"
      ],
      "execution_count": 2,
      "outputs": [
        {
          "output_type": "execute_result",
          "data": {
            "text/html": [
              "<div>\n",
              "<style scoped>\n",
              "    .dataframe tbody tr th:only-of-type {\n",
              "        vertical-align: middle;\n",
              "    }\n",
              "\n",
              "    .dataframe tbody tr th {\n",
              "        vertical-align: top;\n",
              "    }\n",
              "\n",
              "    .dataframe thead th {\n",
              "        text-align: right;\n",
              "    }\n",
              "</style>\n",
              "<table border=\"1\" class=\"dataframe\">\n",
              "  <thead>\n",
              "    <tr style=\"text-align: right;\">\n",
              "      <th></th>\n",
              "      <th>test</th>\n",
              "      <th>val</th>\n",
              "    </tr>\n",
              "  </thead>\n",
              "  <tbody>\n",
              "    <tr>\n",
              "      <th>0</th>\n",
              "      <td>vikash|Arpit</td>\n",
              "      <td>6</td>\n",
              "    </tr>\n",
              "    <tr>\n",
              "      <th>1</th>\n",
              "      <td>vikash_1|arpit|Vinayp</td>\n",
              "      <td>3</td>\n",
              "    </tr>\n",
              "    <tr>\n",
              "      <th>2</th>\n",
              "      <td>arpit|vinayp</td>\n",
              "      <td>2</td>\n",
              "    </tr>\n",
              "  </tbody>\n",
              "</table>\n",
              "</div>"
            ],
            "text/plain": [
              "                    test  val\n",
              "0           vikash|Arpit    6\n",
              "1  vikash_1|arpit|Vinayp    3\n",
              "2           arpit|vinayp    2"
            ]
          },
          "metadata": {
            "tags": []
          },
          "execution_count": 2
        }
      ]
    },
    {
      "cell_type": "code",
      "metadata": {
        "colab": {
          "base_uri": "https://localhost:8080/",
          "height": 142
        },
        "id": "IXxYfnB1YSxC",
        "outputId": "61063e88-2e62-4e97-bd13-ef01325ba245"
      },
      "source": [
        "df['test'].apply(lambda x: pd.Series([i for i in reversed(x.lower().split('|'))]))"
      ],
      "execution_count": 3,
      "outputs": [
        {
          "output_type": "execute_result",
          "data": {
            "text/html": [
              "<div>\n",
              "<style scoped>\n",
              "    .dataframe tbody tr th:only-of-type {\n",
              "        vertical-align: middle;\n",
              "    }\n",
              "\n",
              "    .dataframe tbody tr th {\n",
              "        vertical-align: top;\n",
              "    }\n",
              "\n",
              "    .dataframe thead th {\n",
              "        text-align: right;\n",
              "    }\n",
              "</style>\n",
              "<table border=\"1\" class=\"dataframe\">\n",
              "  <thead>\n",
              "    <tr style=\"text-align: right;\">\n",
              "      <th></th>\n",
              "      <th>0</th>\n",
              "      <th>1</th>\n",
              "      <th>2</th>\n",
              "    </tr>\n",
              "  </thead>\n",
              "  <tbody>\n",
              "    <tr>\n",
              "      <th>0</th>\n",
              "      <td>arpit</td>\n",
              "      <td>vikash</td>\n",
              "      <td>NaN</td>\n",
              "    </tr>\n",
              "    <tr>\n",
              "      <th>1</th>\n",
              "      <td>vinayp</td>\n",
              "      <td>arpit</td>\n",
              "      <td>vikash_1</td>\n",
              "    </tr>\n",
              "    <tr>\n",
              "      <th>2</th>\n",
              "      <td>vinayp</td>\n",
              "      <td>arpit</td>\n",
              "      <td>NaN</td>\n",
              "    </tr>\n",
              "  </tbody>\n",
              "</table>\n",
              "</div>"
            ],
            "text/plain": [
              "        0       1         2\n",
              "0   arpit  vikash       NaN\n",
              "1  vinayp   arpit  vikash_1\n",
              "2  vinayp   arpit       NaN"
            ]
          },
          "metadata": {
            "tags": []
          },
          "execution_count": 3
        }
      ]
    },
    {
      "cell_type": "code",
      "metadata": {
        "id": "j73HA4WfwIWz",
        "colab": {
          "base_uri": "https://localhost:8080/",
          "height": 142
        },
        "outputId": "41564554-0ad7-4317-f0bd-d743bf08f409"
      },
      "source": [
        "# Example 2\n",
        "# Splitting a column using delimiter and one hot encode the values \n",
        "# \n",
        "data = [{'test': 'vikash|Arpit', 'val': 6},\n",
        "        {'test': 'vikash_1|arpit|Vinayp', 'val': 3},\n",
        "        {'test': 'arpit|vinayp', 'val': 2}]\n",
        "\n",
        "df = pd.DataFrame.from_dict(data, orient='columns')\n",
        "df\n",
        "\n",
        "# Uncomment after running previous lines\n",
        "# chosen_columns = set()\n",
        "# for idx, row in df.iterrows():\n",
        "#     for val in str(row['test']).lower().split('|'):\n",
        "#         chosen_columns.add(val.strip())\n",
        "\n",
        "# Uncomment after running previous lines\n",
        "# chosen_columns_list = list(chosen_columns)\n",
        "\n",
        "# Uncomment after running previous lines\n",
        "# chosen_columns_list.sort(key=len, reverse=True) \n",
        "# chosen_columns_list\n",
        "\n",
        "\n",
        "# def get_one_hot_encoded_column(col_value):\n",
        "#     col_value = col_value.lower()\n",
        "#     new_col_value = ''\n",
        "#     for val in chosen_columns_list:\n",
        "#         if val in col_value.split('|'):\n",
        "#             col_value = col_value.replace(val, '')\n",
        "#             new_col_value += '1,'\n",
        "#         else:\n",
        "#             new_col_value += '0,'\n",
        "#     return new_col_value[:-1]\n",
        "\n",
        "# Uncomment after running previous lines\n",
        "# df['test_new'] = df['test'].map(get_one_hot_encoded_column)\n",
        "# df\n",
        "\n",
        "# Uncomment after running previous lines\n",
        "# df2 = df['test_new'].apply(lambda x: pd.Series([i for i in x.lower().split(',')]))\n",
        "# df2\n",
        "\n",
        "# Uncomment after running previous lines\n",
        "# df2.columns = chosen_columns_list\n",
        "# df2\n",
        "\n",
        "# Uncomment after running previous lines\n",
        "# df2.info()\n",
        "\n",
        "# Uncomment after running previous lines\n",
        "# df2 = df2.apply(pd.to_numeric)\n",
        "\n",
        "# Uncomment after running previous lines\n",
        "# df2.info()\n",
        "\n",
        "# Uncomment after running previous lines\n",
        "# df_new = pd.concat([df, df2], axis=1)\n",
        "\n",
        "# Uncomment after running previous lines\n",
        "# df_new.drop(['test', 'test_new'], inplace=True, axis=1)\n",
        "# df_new"
      ],
      "execution_count": 4,
      "outputs": [
        {
          "output_type": "execute_result",
          "data": {
            "text/html": [
              "<div>\n",
              "<style scoped>\n",
              "    .dataframe tbody tr th:only-of-type {\n",
              "        vertical-align: middle;\n",
              "    }\n",
              "\n",
              "    .dataframe tbody tr th {\n",
              "        vertical-align: top;\n",
              "    }\n",
              "\n",
              "    .dataframe thead th {\n",
              "        text-align: right;\n",
              "    }\n",
              "</style>\n",
              "<table border=\"1\" class=\"dataframe\">\n",
              "  <thead>\n",
              "    <tr style=\"text-align: right;\">\n",
              "      <th></th>\n",
              "      <th>test</th>\n",
              "      <th>val</th>\n",
              "    </tr>\n",
              "  </thead>\n",
              "  <tbody>\n",
              "    <tr>\n",
              "      <th>0</th>\n",
              "      <td>vikash|Arpit</td>\n",
              "      <td>6</td>\n",
              "    </tr>\n",
              "    <tr>\n",
              "      <th>1</th>\n",
              "      <td>vikash_1|arpit|Vinayp</td>\n",
              "      <td>3</td>\n",
              "    </tr>\n",
              "    <tr>\n",
              "      <th>2</th>\n",
              "      <td>arpit|vinayp</td>\n",
              "      <td>2</td>\n",
              "    </tr>\n",
              "  </tbody>\n",
              "</table>\n",
              "</div>"
            ],
            "text/plain": [
              "                    test  val\n",
              "0           vikash|Arpit    6\n",
              "1  vikash_1|arpit|Vinayp    3\n",
              "2           arpit|vinayp    2"
            ]
          },
          "metadata": {
            "tags": []
          },
          "execution_count": 4
        }
      ]
    },
    {
      "cell_type": "code",
      "metadata": {
        "id": "_78deXm4C7Tg"
      },
      "source": [
        "chosen_columns = set()\r\n",
        "for idx, row in df.iterrows():\r\n",
        "  for val in str(row['test']).lower().split('|'):\r\n",
        "    chosen_columns.add(val.strip())"
      ],
      "execution_count": 5,
      "outputs": []
    },
    {
      "cell_type": "code",
      "metadata": {
        "colab": {
          "base_uri": "https://localhost:8080/"
        },
        "id": "bBhl4ZbnDcGu",
        "outputId": "dcbfdc89-fb3a-407b-fbc7-b08ca0b49b66"
      },
      "source": [
        "chosen_columns_list = list(chosen_columns)\r\n",
        "chosen_columns_list"
      ],
      "execution_count": 11,
      "outputs": [
        {
          "output_type": "execute_result",
          "data": {
            "text/plain": [
              "['arpit', 'vikash_1', 'vikash', 'vinayp']"
            ]
          },
          "metadata": {
            "tags": []
          },
          "execution_count": 11
        }
      ]
    },
    {
      "cell_type": "code",
      "metadata": {
        "colab": {
          "base_uri": "https://localhost:8080/"
        },
        "id": "oqNKl8jgEmAb",
        "outputId": "e58b3e71-0df8-43d1-851d-10181814558f"
      },
      "source": [
        "chosen_columns_list.sort(key=len, reverse=True) \r\n",
        "chosen_columns_list\r\n"
      ],
      "execution_count": 12,
      "outputs": [
        {
          "output_type": "execute_result",
          "data": {
            "text/plain": [
              "['vikash_1', 'vikash', 'vinayp', 'arpit']"
            ]
          },
          "metadata": {
            "tags": []
          },
          "execution_count": 12
        }
      ]
    },
    {
      "cell_type": "code",
      "metadata": {
        "id": "Jc4lgsKNE2NT"
      },
      "source": [
        "def get_one_hot_encoded_column(col_value):\r\n",
        "  col_value = col_value.lower()\r\n",
        "  new_col_value = ''\r\n",
        "  for val in chosen_columns_list:\r\n",
        "    if val in col_value.split('|'):\r\n",
        "      col_value = col_value.replace(val, '')\r\n",
        "      new_col_value += '1,'\r\n",
        "    else:\r\n",
        "      new_col_value += '0,'\r\n",
        "  return new_col_value[:-1]"
      ],
      "execution_count": 20,
      "outputs": []
    },
    {
      "cell_type": "code",
      "metadata": {
        "colab": {
          "base_uri": "https://localhost:8080/",
          "height": 142
        },
        "id": "lLgnvxh7F0YE",
        "outputId": "63c09b54-74b1-40db-dadf-57bcd428b76d"
      },
      "source": [
        "df['test_new'] = df['test'].map(get_one_hot_encoded_column)\r\n",
        "df"
      ],
      "execution_count": 22,
      "outputs": [
        {
          "output_type": "execute_result",
          "data": {
            "text/html": [
              "<div>\n",
              "<style scoped>\n",
              "    .dataframe tbody tr th:only-of-type {\n",
              "        vertical-align: middle;\n",
              "    }\n",
              "\n",
              "    .dataframe tbody tr th {\n",
              "        vertical-align: top;\n",
              "    }\n",
              "\n",
              "    .dataframe thead th {\n",
              "        text-align: right;\n",
              "    }\n",
              "</style>\n",
              "<table border=\"1\" class=\"dataframe\">\n",
              "  <thead>\n",
              "    <tr style=\"text-align: right;\">\n",
              "      <th></th>\n",
              "      <th>test</th>\n",
              "      <th>val</th>\n",
              "      <th>test_new</th>\n",
              "    </tr>\n",
              "  </thead>\n",
              "  <tbody>\n",
              "    <tr>\n",
              "      <th>0</th>\n",
              "      <td>vikash|Arpit</td>\n",
              "      <td>6</td>\n",
              "      <td>0,1,0,1</td>\n",
              "    </tr>\n",
              "    <tr>\n",
              "      <th>1</th>\n",
              "      <td>vikash_1|arpit|Vinayp</td>\n",
              "      <td>3</td>\n",
              "      <td>1,0,1,1</td>\n",
              "    </tr>\n",
              "    <tr>\n",
              "      <th>2</th>\n",
              "      <td>arpit|vinayp</td>\n",
              "      <td>2</td>\n",
              "      <td>0,0,1,1</td>\n",
              "    </tr>\n",
              "  </tbody>\n",
              "</table>\n",
              "</div>"
            ],
            "text/plain": [
              "                    test  val test_new\n",
              "0           vikash|Arpit    6  0,1,0,1\n",
              "1  vikash_1|arpit|Vinayp    3  1,0,1,1\n",
              "2           arpit|vinayp    2  0,0,1,1"
            ]
          },
          "metadata": {
            "tags": []
          },
          "execution_count": 22
        }
      ]
    },
    {
      "cell_type": "code",
      "metadata": {
        "colab": {
          "base_uri": "https://localhost:8080/",
          "height": 142
        },
        "id": "_NRmTJHPL7_o",
        "outputId": "58d385d0-381a-434f-b485-4bfe3cf62e24"
      },
      "source": [
        "df2 = df['test_new'].apply(lambda x: pd.Series([i for i in x.lower().split(',')]))\r\n",
        "df2"
      ],
      "execution_count": 23,
      "outputs": [
        {
          "output_type": "execute_result",
          "data": {
            "text/html": [
              "<div>\n",
              "<style scoped>\n",
              "    .dataframe tbody tr th:only-of-type {\n",
              "        vertical-align: middle;\n",
              "    }\n",
              "\n",
              "    .dataframe tbody tr th {\n",
              "        vertical-align: top;\n",
              "    }\n",
              "\n",
              "    .dataframe thead th {\n",
              "        text-align: right;\n",
              "    }\n",
              "</style>\n",
              "<table border=\"1\" class=\"dataframe\">\n",
              "  <thead>\n",
              "    <tr style=\"text-align: right;\">\n",
              "      <th></th>\n",
              "      <th>0</th>\n",
              "      <th>1</th>\n",
              "      <th>2</th>\n",
              "      <th>3</th>\n",
              "    </tr>\n",
              "  </thead>\n",
              "  <tbody>\n",
              "    <tr>\n",
              "      <th>0</th>\n",
              "      <td>0</td>\n",
              "      <td>1</td>\n",
              "      <td>0</td>\n",
              "      <td>1</td>\n",
              "    </tr>\n",
              "    <tr>\n",
              "      <th>1</th>\n",
              "      <td>1</td>\n",
              "      <td>0</td>\n",
              "      <td>1</td>\n",
              "      <td>1</td>\n",
              "    </tr>\n",
              "    <tr>\n",
              "      <th>2</th>\n",
              "      <td>0</td>\n",
              "      <td>0</td>\n",
              "      <td>1</td>\n",
              "      <td>1</td>\n",
              "    </tr>\n",
              "  </tbody>\n",
              "</table>\n",
              "</div>"
            ],
            "text/plain": [
              "   0  1  2  3\n",
              "0  0  1  0  1\n",
              "1  1  0  1  1\n",
              "2  0  0  1  1"
            ]
          },
          "metadata": {
            "tags": []
          },
          "execution_count": 23
        }
      ]
    },
    {
      "cell_type": "code",
      "metadata": {
        "colab": {
          "base_uri": "https://localhost:8080/",
          "height": 142
        },
        "id": "NidYCSJxM8D5",
        "outputId": "523f1ef1-66ee-4ce3-fbb0-1ba884d48971"
      },
      "source": [
        "df2.columns = chosen_columns_list\r\n",
        "df2"
      ],
      "execution_count": 24,
      "outputs": [
        {
          "output_type": "execute_result",
          "data": {
            "text/html": [
              "<div>\n",
              "<style scoped>\n",
              "    .dataframe tbody tr th:only-of-type {\n",
              "        vertical-align: middle;\n",
              "    }\n",
              "\n",
              "    .dataframe tbody tr th {\n",
              "        vertical-align: top;\n",
              "    }\n",
              "\n",
              "    .dataframe thead th {\n",
              "        text-align: right;\n",
              "    }\n",
              "</style>\n",
              "<table border=\"1\" class=\"dataframe\">\n",
              "  <thead>\n",
              "    <tr style=\"text-align: right;\">\n",
              "      <th></th>\n",
              "      <th>vikash_1</th>\n",
              "      <th>vikash</th>\n",
              "      <th>vinayp</th>\n",
              "      <th>arpit</th>\n",
              "    </tr>\n",
              "  </thead>\n",
              "  <tbody>\n",
              "    <tr>\n",
              "      <th>0</th>\n",
              "      <td>0</td>\n",
              "      <td>1</td>\n",
              "      <td>0</td>\n",
              "      <td>1</td>\n",
              "    </tr>\n",
              "    <tr>\n",
              "      <th>1</th>\n",
              "      <td>1</td>\n",
              "      <td>0</td>\n",
              "      <td>1</td>\n",
              "      <td>1</td>\n",
              "    </tr>\n",
              "    <tr>\n",
              "      <th>2</th>\n",
              "      <td>0</td>\n",
              "      <td>0</td>\n",
              "      <td>1</td>\n",
              "      <td>1</td>\n",
              "    </tr>\n",
              "  </tbody>\n",
              "</table>\n",
              "</div>"
            ],
            "text/plain": [
              "  vikash_1 vikash vinayp arpit\n",
              "0        0      1      0     1\n",
              "1        1      0      1     1\n",
              "2        0      0      1     1"
            ]
          },
          "metadata": {
            "tags": []
          },
          "execution_count": 24
        }
      ]
    },
    {
      "cell_type": "code",
      "metadata": {
        "colab": {
          "base_uri": "https://localhost:8080/"
        },
        "id": "dM196luXNEvo",
        "outputId": "73b2abfa-c90b-420a-fd24-ea2dfe59a949"
      },
      "source": [
        "df2.info()"
      ],
      "execution_count": 25,
      "outputs": [
        {
          "output_type": "stream",
          "text": [
            "<class 'pandas.core.frame.DataFrame'>\n",
            "RangeIndex: 3 entries, 0 to 2\n",
            "Data columns (total 4 columns):\n",
            " #   Column    Non-Null Count  Dtype \n",
            "---  ------    --------------  ----- \n",
            " 0   vikash_1  3 non-null      object\n",
            " 1   vikash    3 non-null      object\n",
            " 2   vinayp    3 non-null      object\n",
            " 3   arpit     3 non-null      object\n",
            "dtypes: object(4)\n",
            "memory usage: 224.0+ bytes\n"
          ],
          "name": "stdout"
        }
      ]
    },
    {
      "cell_type": "code",
      "metadata": {
        "colab": {
          "base_uri": "https://localhost:8080/",
          "height": 142
        },
        "id": "pWMFkqf-NPbY",
        "outputId": "ecd9d5ce-80ba-4630-a982-d05b76bc3e7a"
      },
      "source": [
        "df2 = df2.apply(pd.to_numeric)\r\n",
        "df2"
      ],
      "execution_count": 26,
      "outputs": [
        {
          "output_type": "execute_result",
          "data": {
            "text/html": [
              "<div>\n",
              "<style scoped>\n",
              "    .dataframe tbody tr th:only-of-type {\n",
              "        vertical-align: middle;\n",
              "    }\n",
              "\n",
              "    .dataframe tbody tr th {\n",
              "        vertical-align: top;\n",
              "    }\n",
              "\n",
              "    .dataframe thead th {\n",
              "        text-align: right;\n",
              "    }\n",
              "</style>\n",
              "<table border=\"1\" class=\"dataframe\">\n",
              "  <thead>\n",
              "    <tr style=\"text-align: right;\">\n",
              "      <th></th>\n",
              "      <th>vikash_1</th>\n",
              "      <th>vikash</th>\n",
              "      <th>vinayp</th>\n",
              "      <th>arpit</th>\n",
              "    </tr>\n",
              "  </thead>\n",
              "  <tbody>\n",
              "    <tr>\n",
              "      <th>0</th>\n",
              "      <td>0</td>\n",
              "      <td>1</td>\n",
              "      <td>0</td>\n",
              "      <td>1</td>\n",
              "    </tr>\n",
              "    <tr>\n",
              "      <th>1</th>\n",
              "      <td>1</td>\n",
              "      <td>0</td>\n",
              "      <td>1</td>\n",
              "      <td>1</td>\n",
              "    </tr>\n",
              "    <tr>\n",
              "      <th>2</th>\n",
              "      <td>0</td>\n",
              "      <td>0</td>\n",
              "      <td>1</td>\n",
              "      <td>1</td>\n",
              "    </tr>\n",
              "  </tbody>\n",
              "</table>\n",
              "</div>"
            ],
            "text/plain": [
              "   vikash_1  vikash  vinayp  arpit\n",
              "0         0       1       0      1\n",
              "1         1       0       1      1\n",
              "2         0       0       1      1"
            ]
          },
          "metadata": {
            "tags": []
          },
          "execution_count": 26
        }
      ]
    },
    {
      "cell_type": "code",
      "metadata": {
        "colab": {
          "base_uri": "https://localhost:8080/"
        },
        "id": "opTx5z19NY19",
        "outputId": "6bdba1f3-cca8-47fd-9ffb-ec3edd7f436f"
      },
      "source": [
        "df2.info()"
      ],
      "execution_count": 27,
      "outputs": [
        {
          "output_type": "stream",
          "text": [
            "<class 'pandas.core.frame.DataFrame'>\n",
            "RangeIndex: 3 entries, 0 to 2\n",
            "Data columns (total 4 columns):\n",
            " #   Column    Non-Null Count  Dtype\n",
            "---  ------    --------------  -----\n",
            " 0   vikash_1  3 non-null      int64\n",
            " 1   vikash    3 non-null      int64\n",
            " 2   vinayp    3 non-null      int64\n",
            " 3   arpit     3 non-null      int64\n",
            "dtypes: int64(4)\n",
            "memory usage: 224.0 bytes\n"
          ],
          "name": "stdout"
        }
      ]
    },
    {
      "cell_type": "code",
      "metadata": {
        "colab": {
          "base_uri": "https://localhost:8080/",
          "height": 142
        },
        "id": "qaK1ixD5NlXU",
        "outputId": "3044638f-96de-4a3e-abfe-6d3c3f86d8f2"
      },
      "source": [
        "df_new = pd.concat([df, df2], axis=1)\r\n",
        "df_new"
      ],
      "execution_count": 29,
      "outputs": [
        {
          "output_type": "execute_result",
          "data": {
            "text/html": [
              "<div>\n",
              "<style scoped>\n",
              "    .dataframe tbody tr th:only-of-type {\n",
              "        vertical-align: middle;\n",
              "    }\n",
              "\n",
              "    .dataframe tbody tr th {\n",
              "        vertical-align: top;\n",
              "    }\n",
              "\n",
              "    .dataframe thead th {\n",
              "        text-align: right;\n",
              "    }\n",
              "</style>\n",
              "<table border=\"1\" class=\"dataframe\">\n",
              "  <thead>\n",
              "    <tr style=\"text-align: right;\">\n",
              "      <th></th>\n",
              "      <th>test</th>\n",
              "      <th>val</th>\n",
              "      <th>test_new</th>\n",
              "      <th>vikash_1</th>\n",
              "      <th>vikash</th>\n",
              "      <th>vinayp</th>\n",
              "      <th>arpit</th>\n",
              "    </tr>\n",
              "  </thead>\n",
              "  <tbody>\n",
              "    <tr>\n",
              "      <th>0</th>\n",
              "      <td>vikash|Arpit</td>\n",
              "      <td>6</td>\n",
              "      <td>0,1,0,1</td>\n",
              "      <td>0</td>\n",
              "      <td>1</td>\n",
              "      <td>0</td>\n",
              "      <td>1</td>\n",
              "    </tr>\n",
              "    <tr>\n",
              "      <th>1</th>\n",
              "      <td>vikash_1|arpit|Vinayp</td>\n",
              "      <td>3</td>\n",
              "      <td>1,0,1,1</td>\n",
              "      <td>1</td>\n",
              "      <td>0</td>\n",
              "      <td>1</td>\n",
              "      <td>1</td>\n",
              "    </tr>\n",
              "    <tr>\n",
              "      <th>2</th>\n",
              "      <td>arpit|vinayp</td>\n",
              "      <td>2</td>\n",
              "      <td>0,0,1,1</td>\n",
              "      <td>0</td>\n",
              "      <td>0</td>\n",
              "      <td>1</td>\n",
              "      <td>1</td>\n",
              "    </tr>\n",
              "  </tbody>\n",
              "</table>\n",
              "</div>"
            ],
            "text/plain": [
              "                    test  val test_new  vikash_1  vikash  vinayp  arpit\n",
              "0           vikash|Arpit    6  0,1,0,1         0       1       0      1\n",
              "1  vikash_1|arpit|Vinayp    3  1,0,1,1         1       0       1      1\n",
              "2           arpit|vinayp    2  0,0,1,1         0       0       1      1"
            ]
          },
          "metadata": {
            "tags": []
          },
          "execution_count": 29
        }
      ]
    },
    {
      "cell_type": "code",
      "metadata": {
        "colab": {
          "base_uri": "https://localhost:8080/",
          "height": 142
        },
        "id": "LdQlmNGkNs3i",
        "outputId": "51374de4-7b39-4c67-bc7e-b4f2a8213b04"
      },
      "source": [
        "df_new.drop(['test', 'test_new'], inplace=True, axis=1)\r\n",
        "df_new"
      ],
      "execution_count": 30,
      "outputs": [
        {
          "output_type": "execute_result",
          "data": {
            "text/html": [
              "<div>\n",
              "<style scoped>\n",
              "    .dataframe tbody tr th:only-of-type {\n",
              "        vertical-align: middle;\n",
              "    }\n",
              "\n",
              "    .dataframe tbody tr th {\n",
              "        vertical-align: top;\n",
              "    }\n",
              "\n",
              "    .dataframe thead th {\n",
              "        text-align: right;\n",
              "    }\n",
              "</style>\n",
              "<table border=\"1\" class=\"dataframe\">\n",
              "  <thead>\n",
              "    <tr style=\"text-align: right;\">\n",
              "      <th></th>\n",
              "      <th>val</th>\n",
              "      <th>vikash_1</th>\n",
              "      <th>vikash</th>\n",
              "      <th>vinayp</th>\n",
              "      <th>arpit</th>\n",
              "    </tr>\n",
              "  </thead>\n",
              "  <tbody>\n",
              "    <tr>\n",
              "      <th>0</th>\n",
              "      <td>6</td>\n",
              "      <td>0</td>\n",
              "      <td>1</td>\n",
              "      <td>0</td>\n",
              "      <td>1</td>\n",
              "    </tr>\n",
              "    <tr>\n",
              "      <th>1</th>\n",
              "      <td>3</td>\n",
              "      <td>1</td>\n",
              "      <td>0</td>\n",
              "      <td>1</td>\n",
              "      <td>1</td>\n",
              "    </tr>\n",
              "    <tr>\n",
              "      <th>2</th>\n",
              "      <td>2</td>\n",
              "      <td>0</td>\n",
              "      <td>0</td>\n",
              "      <td>1</td>\n",
              "      <td>1</td>\n",
              "    </tr>\n",
              "  </tbody>\n",
              "</table>\n",
              "</div>"
            ],
            "text/plain": [
              "   val  vikash_1  vikash  vinayp  arpit\n",
              "0    6         0       1       0      1\n",
              "1    3         1       0       1      1\n",
              "2    2         0       0       1      1"
            ]
          },
          "metadata": {
            "tags": []
          },
          "execution_count": 30
        }
      ]
    },
    {
      "cell_type": "markdown",
      "metadata": {
        "id": "G3rltepOweG5"
      },
      "source": [
        "### <font color=\"green\">1.5 Challenges</font>"
      ]
    },
    {
      "cell_type": "code",
      "metadata": {
        "id": "Oz3fFMe8wgav",
        "colab": {
          "base_uri": "https://localhost:8080/",
          "height": 204
        },
        "outputId": "71679b97-1970-4e29-8de7-98d2d7200bd7"
      },
      "source": [
        "# Challenge 1\n",
        "# Split the following dataframe into multiple rows\n",
        "#\n",
        "df_towns = pd.DataFrame({\n",
        "   'EmployeeId': ['123', '124', '125', '126', '126'],\n",
        "   'City': ['Nairobi|Mombasa', 'Nakuru|Nairobi|Kisumu', 'Nairobi|Mombasa', 'Nairobi|Nakuru', 'Mombasa'] \n",
        "})\n",
        "\n",
        "#OUR CODE GOES HERE\n",
        "df_towns"
      ],
      "execution_count": 33,
      "outputs": [
        {
          "output_type": "execute_result",
          "data": {
            "text/html": [
              "<div>\n",
              "<style scoped>\n",
              "    .dataframe tbody tr th:only-of-type {\n",
              "        vertical-align: middle;\n",
              "    }\n",
              "\n",
              "    .dataframe tbody tr th {\n",
              "        vertical-align: top;\n",
              "    }\n",
              "\n",
              "    .dataframe thead th {\n",
              "        text-align: right;\n",
              "    }\n",
              "</style>\n",
              "<table border=\"1\" class=\"dataframe\">\n",
              "  <thead>\n",
              "    <tr style=\"text-align: right;\">\n",
              "      <th></th>\n",
              "      <th>EmployeeId</th>\n",
              "      <th>City</th>\n",
              "    </tr>\n",
              "  </thead>\n",
              "  <tbody>\n",
              "    <tr>\n",
              "      <th>0</th>\n",
              "      <td>123</td>\n",
              "      <td>Nairobi|Mombasa</td>\n",
              "    </tr>\n",
              "    <tr>\n",
              "      <th>1</th>\n",
              "      <td>124</td>\n",
              "      <td>Nakuru|Nairobi|Kisumu</td>\n",
              "    </tr>\n",
              "    <tr>\n",
              "      <th>2</th>\n",
              "      <td>125</td>\n",
              "      <td>Nairobi|Mombasa</td>\n",
              "    </tr>\n",
              "    <tr>\n",
              "      <th>3</th>\n",
              "      <td>126</td>\n",
              "      <td>Nairobi|Nakuru</td>\n",
              "    </tr>\n",
              "    <tr>\n",
              "      <th>4</th>\n",
              "      <td>126</td>\n",
              "      <td>Mombasa</td>\n",
              "    </tr>\n",
              "  </tbody>\n",
              "</table>\n",
              "</div>"
            ],
            "text/plain": [
              "  EmployeeId                   City\n",
              "0        123        Nairobi|Mombasa\n",
              "1        124  Nakuru|Nairobi|Kisumu\n",
              "2        125        Nairobi|Mombasa\n",
              "3        126         Nairobi|Nakuru\n",
              "4        126                Mombasa"
            ]
          },
          "metadata": {
            "tags": []
          },
          "execution_count": 33
        }
      ]
    },
    {
      "cell_type": "code",
      "metadata": {
        "colab": {
          "base_uri": "https://localhost:8080/"
        },
        "id": "UTIBSR1tTt54",
        "outputId": "91be6af4-5a6e-4703-b51f-cc0e0b27f216"
      },
      "source": [
        "chosen_columns_towns = set()\r\n",
        "for idx , row in df_towns.iterrows():\r\n",
        "  for val in str(row['City']).lower().split('|'):\r\n",
        "    chosen_columns_towns.add(val.strip())\r\n",
        "\r\n",
        "print(chosen_columns_towns)"
      ],
      "execution_count": 42,
      "outputs": [
        {
          "output_type": "stream",
          "text": [
            "{'mombasa', 'nakuru', 'kisumu', 'nairobi'}\n"
          ],
          "name": "stdout"
        }
      ]
    },
    {
      "cell_type": "code",
      "metadata": {
        "colab": {
          "base_uri": "https://localhost:8080/"
        },
        "id": "vL-gc5cCWrf1",
        "outputId": "bc2d6a11-c943-46f6-a8a9-9f6a9123a849"
      },
      "source": [
        "chosen_columns_towns_list = list(chosen_columns_towns)\r\n",
        "chosen_columns_towns_list"
      ],
      "execution_count": 43,
      "outputs": [
        {
          "output_type": "execute_result",
          "data": {
            "text/plain": [
              "['mombasa', 'nakuru', 'kisumu', 'nairobi']"
            ]
          },
          "metadata": {
            "tags": []
          },
          "execution_count": 43
        }
      ]
    },
    {
      "cell_type": "code",
      "metadata": {
        "id": "sxrUhsVqXduU",
        "outputId": "8e957dc3-7f3f-400a-8e89-478a07050990",
        "colab": {
          "base_uri": "https://localhost:8080/"
        }
      },
      "source": [
        "chosen_columns_towns_list.sort(key=len , reverse=True)\r\n",
        "chosen_columns_towns_list"
      ],
      "execution_count": 44,
      "outputs": [
        {
          "output_type": "execute_result",
          "data": {
            "text/plain": [
              "['mombasa', 'nairobi', 'nakuru', 'kisumu']"
            ]
          },
          "metadata": {
            "tags": []
          },
          "execution_count": 44
        }
      ]
    },
    {
      "cell_type": "code",
      "metadata": {
        "id": "ucGuJ0GxXdjL"
      },
      "source": [
        "def get_one_hot_encoded_column_towns(col_value):\r\n",
        "  col_value = col_value.lower()\r\n",
        "  new_col_value = ''\r\n",
        "  for val in chosen_columns_towns_list:\r\n",
        "    if val in col_value.split('|'):\r\n",
        "      col_value = col_value.replace(val , '')\r\n",
        "      new_col_value += '1,'\r\n",
        "    else:\r\n",
        "      new_col_value += '0,'\r\n",
        "  return new_col_value[:-1]"
      ],
      "execution_count": 48,
      "outputs": []
    },
    {
      "cell_type": "code",
      "metadata": {
        "id": "-ijLhQnSXdT9",
        "outputId": "03ed460a-2b2d-46f3-c835-3b42245664d3",
        "colab": {
          "base_uri": "https://localhost:8080/",
          "height": 204
        }
      },
      "source": [
        "df_towns['City_New'] = df_towns['City'].map(get_one_hot_encoded_column_towns)\r\n",
        "df_towns"
      ],
      "execution_count": 51,
      "outputs": [
        {
          "output_type": "execute_result",
          "data": {
            "text/html": [
              "<div>\n",
              "<style scoped>\n",
              "    .dataframe tbody tr th:only-of-type {\n",
              "        vertical-align: middle;\n",
              "    }\n",
              "\n",
              "    .dataframe tbody tr th {\n",
              "        vertical-align: top;\n",
              "    }\n",
              "\n",
              "    .dataframe thead th {\n",
              "        text-align: right;\n",
              "    }\n",
              "</style>\n",
              "<table border=\"1\" class=\"dataframe\">\n",
              "  <thead>\n",
              "    <tr style=\"text-align: right;\">\n",
              "      <th></th>\n",
              "      <th>EmployeeId</th>\n",
              "      <th>City</th>\n",
              "      <th>City_New</th>\n",
              "    </tr>\n",
              "  </thead>\n",
              "  <tbody>\n",
              "    <tr>\n",
              "      <th>0</th>\n",
              "      <td>123</td>\n",
              "      <td>Nairobi|Mombasa</td>\n",
              "      <td>1,1,0,0</td>\n",
              "    </tr>\n",
              "    <tr>\n",
              "      <th>1</th>\n",
              "      <td>124</td>\n",
              "      <td>Nakuru|Nairobi|Kisumu</td>\n",
              "      <td>0,1,1,1</td>\n",
              "    </tr>\n",
              "    <tr>\n",
              "      <th>2</th>\n",
              "      <td>125</td>\n",
              "      <td>Nairobi|Mombasa</td>\n",
              "      <td>1,1,0,0</td>\n",
              "    </tr>\n",
              "    <tr>\n",
              "      <th>3</th>\n",
              "      <td>126</td>\n",
              "      <td>Nairobi|Nakuru</td>\n",
              "      <td>0,1,1,0</td>\n",
              "    </tr>\n",
              "    <tr>\n",
              "      <th>4</th>\n",
              "      <td>126</td>\n",
              "      <td>Mombasa</td>\n",
              "      <td>1,0,0,0</td>\n",
              "    </tr>\n",
              "  </tbody>\n",
              "</table>\n",
              "</div>"
            ],
            "text/plain": [
              "  EmployeeId                   City City_New\n",
              "0        123        Nairobi|Mombasa  1,1,0,0\n",
              "1        124  Nakuru|Nairobi|Kisumu  0,1,1,1\n",
              "2        125        Nairobi|Mombasa  1,1,0,0\n",
              "3        126         Nairobi|Nakuru  0,1,1,0\n",
              "4        126                Mombasa  1,0,0,0"
            ]
          },
          "metadata": {
            "tags": []
          },
          "execution_count": 51
        }
      ]
    },
    {
      "cell_type": "code",
      "metadata": {
        "id": "DAz03okQwhHU"
      },
      "source": [
        "# Challenge 2\n",
        "# Split the following dataframe \n",
        "# \n",
        "\n",
        "list_1 = [1,2,3,4,5]\n",
        "list_2 = [2,4,6,8,10]\n",
        "list_3 = ['one','two,three,four','three,four,five','four,five','five']\n",
        "\n",
        "df = pd.DataFrame({'A' : list_1, 'B' : list_2, 'C' : list_3})\n",
        "\n",
        "OUR CODE GOES HERE"
      ],
      "execution_count": null,
      "outputs": []
    }
  ]
}